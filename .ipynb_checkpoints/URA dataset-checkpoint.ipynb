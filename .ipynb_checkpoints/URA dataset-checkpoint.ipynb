{
 "cells": [
  {
   "cell_type": "code",
   "execution_count": 1,
   "id": "a9bf8098",
   "metadata": {},
   "outputs": [],
   "source": [
    "# access key:88f04be1-52fc-493c-99aa-aeaee2ec2112\n",
    "#token: HH+jPe2fChYew2yRUBq3Nnae0HfN2AXGXaT7-5vcKb212sE1kw2p88cB18jhZ8Kh1NcrF-cB54bsZeeF6yc5qwe4Xa30n928e11T\n",
    "\n",
    "#(token will change daily)"
   ]
  },
  {
   "cell_type": "code",
   "execution_count": null,
   "id": "6526605f",
   "metadata": {},
   "outputs": [],
   "source": [
    "# Problem statement: To Predict the Prices of private residential properties; inside CCR, OCR and RCR region as well as \n",
    "#their price difference over the last 5 years"
   ]
  },
  {
   "cell_type": "code",
   "execution_count": 1,
   "id": "374ff2f0",
   "metadata": {},
   "outputs": [],
   "source": [
    "import numpy as np\n",
    "import pandas as pd\n",
    "import requests\n",
    "import json\n",
    "import csv\n",
    "import time\n",
    "import datetime\n",
    "from ura_api import ura_api"
   ]
  },
  {
   "cell_type": "code",
   "execution_count": 2,
   "id": "9f014004",
   "metadata": {},
   "outputs": [],
   "source": [
    "url = \"https://www.ura.gov.sg/uraDataService/invokeUraDS?service=PMI_Resi_Transaction&batch=1\""
   ]
  },
  {
   "cell_type": "code",
   "execution_count": 3,
   "id": "84def334",
   "metadata": {},
   "outputs": [],
   "source": [
    "params = {\n",
    "    'AccessKey':'88f04be1-52fc-493c-99aa-aeaee2ec2112',\n",
    "    'Token':'HH+jPe2fChYew2yRUBq3Nnae0HfN2AXGXaT7-5vcKb212sE1kw2p88cB18jhZ8Kh1NcrF-cB54bsZeeF6yc5qwe4Xa30n928e11T'\n",
    "}"
   ]
  },
  {
   "cell_type": "code",
   "execution_count": 5,
   "id": "514087c7",
   "metadata": {},
   "outputs": [],
   "source": [
    "ura = ura_api.ura_api('88f04be1-52fc-493c-99aa-aeaee2ec2112')"
   ]
  },
  {
   "cell_type": "code",
   "execution_count": 6,
   "id": "2fabc07a",
   "metadata": {},
   "outputs": [
    {
     "data": {
      "text/plain": [
       "<ura_api.ura_api.ura_api at 0x22ec36e28e0>"
      ]
     },
     "execution_count": 6,
     "metadata": {},
     "output_type": "execute_result"
    }
   ],
   "source": [
    "ura"
   ]
  },
  {
   "cell_type": "code",
   "execution_count": 8,
   "id": "9c3069d5",
   "metadata": {},
   "outputs": [],
   "source": [
    "batch1 = ura.private_residential_property_transactions()"
   ]
  },
  {
   "cell_type": "code",
   "execution_count": 9,
   "id": "869ef0b6",
   "metadata": {},
   "outputs": [],
   "source": [
    "df1 = pd.DataFrame(batch1)"
   ]
  },
  {
   "cell_type": "code",
   "execution_count": 12,
   "id": "aa9815fb",
   "metadata": {},
   "outputs": [
    {
     "data": {
      "text/html": [
       "<div>\n",
       "<style scoped>\n",
       "    .dataframe tbody tr th:only-of-type {\n",
       "        vertical-align: middle;\n",
       "    }\n",
       "\n",
       "    .dataframe tbody tr th {\n",
       "        vertical-align: top;\n",
       "    }\n",
       "\n",
       "    .dataframe thead th {\n",
       "        text-align: right;\n",
       "    }\n",
       "</style>\n",
       "<table border=\"1\" class=\"dataframe\">\n",
       "  <thead>\n",
       "    <tr style=\"text-align: right;\">\n",
       "      <th></th>\n",
       "      <th>street</th>\n",
       "      <th>project</th>\n",
       "      <th>transaction</th>\n",
       "      <th>marketSegment</th>\n",
       "      <th>x</th>\n",
       "      <th>y</th>\n",
       "    </tr>\n",
       "  </thead>\n",
       "  <tbody>\n",
       "    <tr>\n",
       "      <th>0</th>\n",
       "      <td>ZEHNDER ROAD</td>\n",
       "      <td>LANDED HOUSING DEVELOPMENT</td>\n",
       "      <td>[{'area': '524.3', 'floorRange': '-', 'noOfUni...</td>\n",
       "      <td>RCR</td>\n",
       "      <td>NaN</td>\n",
       "      <td>NaN</td>\n",
       "    </tr>\n",
       "    <tr>\n",
       "      <th>1</th>\n",
       "      <td>NEO PEE TECK LANE</td>\n",
       "      <td>LANDED HOUSING DEVELOPMENT</td>\n",
       "      <td>[{'area': '159.3', 'floorRange': '-', 'noOfUni...</td>\n",
       "      <td>RCR</td>\n",
       "      <td>NaN</td>\n",
       "      <td>NaN</td>\n",
       "    </tr>\n",
       "    <tr>\n",
       "      <th>2</th>\n",
       "      <td>COVE DRIVE</td>\n",
       "      <td>TURQUOISE</td>\n",
       "      <td>[{'area': '196', 'floorRange': '01-05', 'noOfU...</td>\n",
       "      <td>CCR</td>\n",
       "      <td>28382.47067</td>\n",
       "      <td>25008.33592</td>\n",
       "    </tr>\n",
       "    <tr>\n",
       "      <th>3</th>\n",
       "      <td>BUKIT TERESA ROAD</td>\n",
       "      <td>LANDED HOUSING DEVELOPMENT</td>\n",
       "      <td>[{'area': '178.3', 'floorRange': '-', 'noOfUni...</td>\n",
       "      <td>RCR</td>\n",
       "      <td>NaN</td>\n",
       "      <td>NaN</td>\n",
       "    </tr>\n",
       "    <tr>\n",
       "      <th>4</th>\n",
       "      <td>ALEXANDRA VIEW</td>\n",
       "      <td>ARTRA</td>\n",
       "      <td>[{'area': '77', 'floorRange': '16-20', 'noOfUn...</td>\n",
       "      <td>RCR</td>\n",
       "      <td>26204.50079</td>\n",
       "      <td>30270.56219</td>\n",
       "    </tr>\n",
       "    <tr>\n",
       "      <th>...</th>\n",
       "      <td>...</td>\n",
       "      <td>...</td>\n",
       "      <td>...</td>\n",
       "      <td>...</td>\n",
       "      <td>...</td>\n",
       "      <td>...</td>\n",
       "    </tr>\n",
       "    <tr>\n",
       "      <th>287</th>\n",
       "      <td>COVE GROVE</td>\n",
       "      <td>LANDED HOUSING DEVELOPMENT</td>\n",
       "      <td>[{'area': '903.5', 'floorRange': '-', 'noOfUni...</td>\n",
       "      <td>CCR</td>\n",
       "      <td>NaN</td>\n",
       "      <td>NaN</td>\n",
       "    </tr>\n",
       "    <tr>\n",
       "      <th>288</th>\n",
       "      <td>ALEXANDRA VIEW</td>\n",
       "      <td>THE METROPOLITAN CONDOMINIUM</td>\n",
       "      <td>[{'area': '96', 'floorRange': '41-45', 'noOfUn...</td>\n",
       "      <td>RCR</td>\n",
       "      <td>26074.4211</td>\n",
       "      <td>30319.95369</td>\n",
       "    </tr>\n",
       "    <tr>\n",
       "      <th>289</th>\n",
       "      <td>WESTRIDGE WALK</td>\n",
       "      <td>LANDED HOUSING DEVELOPMENT</td>\n",
       "      <td>[{'area': '214.1', 'floorRange': '-', 'noOfUni...</td>\n",
       "      <td>RCR</td>\n",
       "      <td>NaN</td>\n",
       "      <td>NaN</td>\n",
       "    </tr>\n",
       "    <tr>\n",
       "      <th>290</th>\n",
       "      <td>FABER HEIGHTS</td>\n",
       "      <td>FABER CREST</td>\n",
       "      <td>[{'area': '117', 'floorRange': '01-05', 'noOfU...</td>\n",
       "      <td>OCR</td>\n",
       "      <td>19547.85969</td>\n",
       "      <td>33943.45546</td>\n",
       "    </tr>\n",
       "    <tr>\n",
       "      <th>291</th>\n",
       "      <td>KIM TIAN ROAD</td>\n",
       "      <td>HIGHLINE RESIDENCES</td>\n",
       "      <td>[{'area': '105', 'floorRange': '01-05', 'noOfU...</td>\n",
       "      <td>RCR</td>\n",
       "      <td>27603.58591</td>\n",
       "      <td>29605.2519</td>\n",
       "    </tr>\n",
       "  </tbody>\n",
       "</table>\n",
       "<p>292 rows × 6 columns</p>\n",
       "</div>"
      ],
      "text/plain": [
       "                street                       project  \\\n",
       "0         ZEHNDER ROAD    LANDED HOUSING DEVELOPMENT   \n",
       "1    NEO PEE TECK LANE    LANDED HOUSING DEVELOPMENT   \n",
       "2           COVE DRIVE                     TURQUOISE   \n",
       "3    BUKIT TERESA ROAD    LANDED HOUSING DEVELOPMENT   \n",
       "4       ALEXANDRA VIEW                         ARTRA   \n",
       "..                 ...                           ...   \n",
       "287         COVE GROVE    LANDED HOUSING DEVELOPMENT   \n",
       "288     ALEXANDRA VIEW  THE METROPOLITAN CONDOMINIUM   \n",
       "289     WESTRIDGE WALK    LANDED HOUSING DEVELOPMENT   \n",
       "290      FABER HEIGHTS                   FABER CREST   \n",
       "291      KIM TIAN ROAD           HIGHLINE RESIDENCES   \n",
       "\n",
       "                                           transaction marketSegment  \\\n",
       "0    [{'area': '524.3', 'floorRange': '-', 'noOfUni...           RCR   \n",
       "1    [{'area': '159.3', 'floorRange': '-', 'noOfUni...           RCR   \n",
       "2    [{'area': '196', 'floorRange': '01-05', 'noOfU...           CCR   \n",
       "3    [{'area': '178.3', 'floorRange': '-', 'noOfUni...           RCR   \n",
       "4    [{'area': '77', 'floorRange': '16-20', 'noOfUn...           RCR   \n",
       "..                                                 ...           ...   \n",
       "287  [{'area': '903.5', 'floorRange': '-', 'noOfUni...           CCR   \n",
       "288  [{'area': '96', 'floorRange': '41-45', 'noOfUn...           RCR   \n",
       "289  [{'area': '214.1', 'floorRange': '-', 'noOfUni...           RCR   \n",
       "290  [{'area': '117', 'floorRange': '01-05', 'noOfU...           OCR   \n",
       "291  [{'area': '105', 'floorRange': '01-05', 'noOfU...           RCR   \n",
       "\n",
       "               x            y  \n",
       "0            NaN          NaN  \n",
       "1            NaN          NaN  \n",
       "2    28382.47067  25008.33592  \n",
       "3            NaN          NaN  \n",
       "4    26204.50079  30270.56219  \n",
       "..           ...          ...  \n",
       "287          NaN          NaN  \n",
       "288   26074.4211  30319.95369  \n",
       "289          NaN          NaN  \n",
       "290  19547.85969  33943.45546  \n",
       "291  27603.58591   29605.2519  \n",
       "\n",
       "[292 rows x 6 columns]"
      ]
     },
     "execution_count": 12,
     "metadata": {},
     "output_type": "execute_result"
    }
   ],
   "source": [
    "df1"
   ]
  },
  {
   "cell_type": "code",
   "execution_count": null,
   "id": "ae863241",
   "metadata": {},
   "outputs": [],
   "source": []
  },
  {
   "cell_type": "code",
   "execution_count": 9,
   "id": "552f03d7",
   "metadata": {},
   "outputs": [
    {
     "data": {
      "text/plain": [
       "'<!DOCTYPE html>\\n<html lang=\"en\" ng-app=\"myApp\" ng-controller=\"errormain\">\\n<head>\\n<meta charset=\"UTF-8\">\\n<meta name=\"viewport\" content=\"width=device-width, initial-scale=1.0\">\\n<meta http-equiv=\"X-UA-Compatible\" content=\"ie=edge\">\\n<title></title>\\n<style>\\n    html,body,div{padding: 0; margin: 0;}\\n</style>\\n</head>\\n<body>\\n    <iframe id=\"autherframe\" frameBorder=\"0\" scrolling=\"no\" src=\"https://speresources.nexusguard.com/wafpage/index.html#403;103.252.200.90;pbSwEQAAAAAAAAAAZ~zIWp1P;#403\" width=\"100%\"></iframe> \\n<script>\\nvar doc = document,\\n    autherframe = doc.getElementById(\"autherframe\");\\n    var frameWin = autherframe.contentWindow;    //windowå¯¹è±¡  \\n    var frameDoc = autherframe.contentWindow.document;  //documentå¯¹è±¡  \\n    var frameBody = autherframe.contentWindow.document.body;   //bodyå¯¹è±¡  \\n    autherframe.onload = function(){\\n        this.height = window.innerHeight>600?window.innerHeight:\"600px\";\\n        this.scrolling = window.innerHeight>600?\"no\":\"yes\"\\n    }\\n</script>\\n</body>\\n</html'"
      ]
     },
     "execution_count": 9,
     "metadata": {},
     "output_type": "execute_result"
    }
   ],
   "source": [
    "batch1.text"
   ]
  },
  {
   "cell_type": "code",
   "execution_count": null,
   "id": "14ae5638",
   "metadata": {},
   "outputs": [],
   "source": []
  },
  {
   "cell_type": "code",
   "execution_count": null,
   "id": "f070da7e",
   "metadata": {},
   "outputs": [],
   "source": []
  },
  {
   "cell_type": "code",
   "execution_count": null,
   "id": "2dfd8a39",
   "metadata": {},
   "outputs": [],
   "source": []
  },
  {
   "cell_type": "code",
   "execution_count": null,
   "id": "23056edd",
   "metadata": {},
   "outputs": [],
   "source": []
  },
  {
   "cell_type": "code",
   "execution_count": null,
   "id": "faced752",
   "metadata": {},
   "outputs": [],
   "source": []
  },
  {
   "cell_type": "code",
   "execution_count": null,
   "id": "2ebd76b9",
   "metadata": {},
   "outputs": [],
   "source": []
  },
  {
   "cell_type": "code",
   "execution_count": null,
   "id": "5c821840",
   "metadata": {},
   "outputs": [],
   "source": []
  },
  {
   "cell_type": "code",
   "execution_count": null,
   "id": "756c09ba",
   "metadata": {},
   "outputs": [],
   "source": []
  },
  {
   "cell_type": "code",
   "execution_count": 5,
   "id": "c28a0ee1",
   "metadata": {},
   "outputs": [
    {
     "ename": "IndentationError",
     "evalue": "unexpected indent (Temp/ipykernel_6104/2895775343.py, line 2)",
     "output_type": "error",
     "traceback": [
      "\u001b[1;36m  File \u001b[1;32m\"C:\\Users\\jiexi\\AppData\\Local\\Temp/ipykernel_6104/2895775343.py\"\u001b[1;36m, line \u001b[1;32m2\u001b[0m\n\u001b[1;33m    \"AccessKey: 88f04be1-52fc-493c-99aa-aeaee2ec2112\",\u001b[0m\n\u001b[1;37m    ^\u001b[0m\n\u001b[1;31mIndentationError\u001b[0m\u001b[1;31m:\u001b[0m unexpected indent\n"
     ]
    }
   ],
   "source": [
    "url = \"https://www.ura.gov.sg/uaDataService/invokeUraDS?service=PMI_Resi_Transaction&batch=1\"\n",
    "    -H \"AccessKey: 88f04be1-52fc-493c-99aa-aeaee2ec2112\"\n",
    "    -H \"Token: HH+jPe2fChYew2yRUBq3Nnae0HfN2AXGXaT7-5vcKb212sE1kw2p88cB18jhZ8Kh1NcrF-cB54bsZeeF6yc5qwe4Xa30n928e11T\""
   ]
  },
  {
   "cell_type": "code",
   "execution_count": null,
   "id": "d0e0998a",
   "metadata": {},
   "outputs": [],
   "source": [
    "def load_from_url(post):\n",
    "    url = \"url = \"https://www.ura.gov.sg/uaDataService/invokeUraDS?service=PMI_Resi_Transaction&batch=1\"\n",
    "    res_list =[]\n",
    "    params={\n",
    "        'size':\n",
    "        'before':\n",
    "    }"
   ]
  }
 ],
 "metadata": {
  "kernelspec": {
   "display_name": "Python 3 (ipykernel)",
   "language": "python",
   "name": "python3"
  },
  "language_info": {
   "codemirror_mode": {
    "name": "ipython",
    "version": 3
   },
   "file_extension": ".py",
   "mimetype": "text/x-python",
   "name": "python",
   "nbconvert_exporter": "python",
   "pygments_lexer": "ipython3",
   "version": "3.8.11"
  }
 },
 "nbformat": 4,
 "nbformat_minor": 5
}
