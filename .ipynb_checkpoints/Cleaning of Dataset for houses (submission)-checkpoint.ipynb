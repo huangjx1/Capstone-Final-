{
 "cells": [
  {
   "cell_type": "markdown",
   "id": "473abd9a",
   "metadata": {},
   "source": [
    "# Problem statement: To Predict the Prices of private residential properties."
   ]
  },
  {
   "cell_type": "markdown",
   "id": "79788803",
   "metadata": {},
   "source": [
    "This workbook will be for cleaning of data as well as data exploration"
   ]
  },
  {
   "cell_type": "markdown",
   "id": "c8bef5fa",
   "metadata": {},
   "source": [
    "## Content\n",
    "- [Importing of Dataset](#Importing-of-Dataset)\n",
    "- [Data Exploration for Dataset](#Data-Exploration-for-Dataset)\n",
    "- [Data Cleaning](#Data-Cleaning)\n",
    "    - [Cleaning of features](#Cleaning-of-features)\n",
    "    - [Cleaning of outliers 5%](#Cleaning-of-outliers-5%)\n",
    "    - [Cleaning of outliers 10%](#Cleaning-of-outliers-10%)\n",
    "- [Data for modelling](#Data-for-modelling)"
   ]
  },
  {
   "cell_type": "code",
   "execution_count": 1,
   "id": "44b13dda",
   "metadata": {},
   "outputs": [],
   "source": [
    "import pandas as pd\n",
    "import numpy as np\n",
    "import pylab\n",
    "import matplotlib.pyplot as plt\n",
    "import scipy.stats as stats\n",
    "import seaborn as sns\n",
    "import re\n",
    "import warnings"
   ]
  },
  {
   "cell_type": "code",
   "execution_count": 2,
   "id": "931a5160",
   "metadata": {},
   "outputs": [],
   "source": [
    "# To clean off the errors in seaborn and matplotlib\n",
    "warnings.filterwarnings('ignore')"
   ]
  },
  {
   "cell_type": "markdown",
   "id": "7ff474cb",
   "metadata": {},
   "source": [
    "# Importing of Dataset"
   ]
  },
  {
   "cell_type": "code",
   "execution_count": 3,
   "id": "f53a856b",
   "metadata": {},
   "outputs": [],
   "source": [
    "house1 = pd.read_csv('./dataset_asof_051121/house1.csv',skiprows = [0])\n",
    "house2 = pd.read_csv('./dataset_asof_051121/house2.csv',skiprows = [0])\n",
    "house3 = pd.read_csv('./dataset_asof_051121/house3.csv',skiprows = [0])\n",
    "house4 = pd.read_csv('./dataset_asof_051121/house4.csv',skiprows = [0])\n",
    "house5 = pd.read_csv('./dataset_asof_051121/house5.csv',skiprows = [0])\n",
    "house6 = pd.read_csv('./dataset_asof_051121/house6.csv',skiprows = [0])"
   ]
  },
  {
   "cell_type": "markdown",
   "id": "367c76d3",
   "metadata": {},
   "source": [
    "## Basic data exploration"
   ]
  },
  {
   "cell_type": "code",
   "execution_count": 4,
   "id": "e6793916",
   "metadata": {},
   "outputs": [
    {
     "name": "stdout",
     "output_type": "stream",
     "text": [
      "(305, 16)\n",
      "(883, 16)\n",
      "(2578, 16)\n",
      "(3370, 16)\n",
      "(1595, 16)\n",
      "(1084, 16)\n"
     ]
    }
   ],
   "source": [
    "print(house1.shape)\n",
    "print(house2.shape)\n",
    "print(house3.shape)\n",
    "print(house4.shape)\n",
    "print(house5.shape)\n",
    "print(house6.shape)"
   ]
  },
  {
   "cell_type": "code",
   "execution_count": 5,
   "id": "71aaf27c",
   "metadata": {},
   "outputs": [
    {
     "data": {
      "text/plain": [
       "S/N                   object\n",
       "Project Name          object\n",
       "Street Name           object\n",
       "Type                  object\n",
       "Postal District      float64\n",
       "Market Segment        object\n",
       "Tenure                object\n",
       "Type of Sale          object\n",
       "No. of Units         float64\n",
       "Price ($)            float64\n",
       "Nett Price ($)        object\n",
       "Area (Sqft)          float64\n",
       "Type of Area          object\n",
       "Floor Level           object\n",
       "Unit Price ($psf)    float64\n",
       "Date of Sale          object\n",
       "dtype: object"
      ]
     },
     "execution_count": 5,
     "metadata": {},
     "output_type": "execute_result"
    }
   ],
   "source": [
    "house1.dtypes"
   ]
  },
  {
   "cell_type": "markdown",
   "id": "1a40d9ad",
   "metadata": {},
   "source": [
    "## Cleaning of dataset"
   ]
  },
  {
   "cell_type": "code",
   "execution_count": 6,
   "id": "5e5fbe3b",
   "metadata": {},
   "outputs": [],
   "source": [
    "house1.dropna(axis = 0, inplace = True)\n",
    "house2.dropna(axis = 0, inplace = True)\n",
    "house3.dropna(axis = 0, inplace = True)\n",
    "house4.dropna(axis = 0, inplace = True)\n",
    "house5.dropna(axis = 0, inplace = True)\n",
    "house6.dropna(axis = 0, inplace = True)"
   ]
  },
  {
   "cell_type": "code",
   "execution_count": 7,
   "id": "8b5d134b",
   "metadata": {},
   "outputs": [
    {
     "name": "stdout",
     "output_type": "stream",
     "text": [
      "S/N                  0\n",
      "Project Name         0\n",
      "Street Name          0\n",
      "Type                 0\n",
      "Postal District      0\n",
      "Market Segment       0\n",
      "Tenure               0\n",
      "Type of Sale         0\n",
      "No. of Units         0\n",
      "Price ($)            0\n",
      "Nett Price ($)       0\n",
      "Area (Sqft)          0\n",
      "Type of Area         0\n",
      "Floor Level          0\n",
      "Unit Price ($psf)    0\n",
      "Date of Sale         0\n",
      "dtype: int64\n"
     ]
    }
   ],
   "source": [
    "print(house1.isnull().sum())\n",
    "#This indicates that the NaN has been removed"
   ]
  },
  {
   "cell_type": "code",
   "execution_count": 8,
   "id": "b1dd0aca",
   "metadata": {},
   "outputs": [
    {
     "data": {
      "text/html": [
       "<div>\n",
       "<style scoped>\n",
       "    .dataframe tbody tr th:only-of-type {\n",
       "        vertical-align: middle;\n",
       "    }\n",
       "\n",
       "    .dataframe tbody tr th {\n",
       "        vertical-align: top;\n",
       "    }\n",
       "\n",
       "    .dataframe thead th {\n",
       "        text-align: right;\n",
       "    }\n",
       "</style>\n",
       "<table border=\"1\" class=\"dataframe\">\n",
       "  <thead>\n",
       "    <tr style=\"text-align: right;\">\n",
       "      <th></th>\n",
       "      <th>S/N</th>\n",
       "      <th>Project Name</th>\n",
       "      <th>Street Name</th>\n",
       "      <th>Type</th>\n",
       "      <th>Postal District</th>\n",
       "      <th>Market Segment</th>\n",
       "      <th>Tenure</th>\n",
       "      <th>Type of Sale</th>\n",
       "      <th>No. of Units</th>\n",
       "      <th>Price ($)</th>\n",
       "      <th>Nett Price ($)</th>\n",
       "      <th>Area (Sqft)</th>\n",
       "      <th>Type of Area</th>\n",
       "      <th>Floor Level</th>\n",
       "      <th>Unit Price ($psf)</th>\n",
       "      <th>Date of Sale</th>\n",
       "    </tr>\n",
       "  </thead>\n",
       "  <tbody>\n",
       "    <tr>\n",
       "      <th>0</th>\n",
       "      <td>1</td>\n",
       "      <td>LANDED HOUSING DEVELOPMENT</td>\n",
       "      <td>PASIR PANJANG DRIVE</td>\n",
       "      <td>Terrace</td>\n",
       "      <td>5.0</td>\n",
       "      <td>RCR</td>\n",
       "      <td>Freehold</td>\n",
       "      <td>Resale</td>\n",
       "      <td>1.0</td>\n",
       "      <td>3660000.0</td>\n",
       "      <td>-</td>\n",
       "      <td>2566.0</td>\n",
       "      <td>Land</td>\n",
       "      <td>-</td>\n",
       "      <td>1426.0</td>\n",
       "      <td>Oct-2021</td>\n",
       "    </tr>\n",
       "  </tbody>\n",
       "</table>\n",
       "</div>"
      ],
      "text/plain": [
       "  S/N                Project Name          Street Name     Type  \\\n",
       "0   1  LANDED HOUSING DEVELOPMENT  PASIR PANJANG DRIVE  Terrace   \n",
       "\n",
       "   Postal District Market Segment    Tenure Type of Sale  No. of Units  \\\n",
       "0              5.0            RCR  Freehold       Resale           1.0   \n",
       "\n",
       "   Price ($) Nett Price ($)  Area (Sqft) Type of Area Floor Level  \\\n",
       "0  3660000.0              -       2566.0         Land           -   \n",
       "\n",
       "   Unit Price ($psf) Date of Sale  \n",
       "0             1426.0     Oct-2021  "
      ]
     },
     "execution_count": 8,
     "metadata": {},
     "output_type": "execute_result"
    }
   ],
   "source": [
    "house1.head(1)"
   ]
  },
  {
   "cell_type": "markdown",
   "id": "8de8c998",
   "metadata": {},
   "source": [
    "## Merging of dataset"
   ]
  },
  {
   "cell_type": "code",
   "execution_count": 9,
   "id": "eda83ac2",
   "metadata": {},
   "outputs": [],
   "source": [
    "merged_house = pd.concat([house1, house2, house3, house4, house5, house6])"
   ]
  },
  {
   "cell_type": "code",
   "execution_count": 10,
   "id": "c8b6bac1",
   "metadata": {},
   "outputs": [
    {
     "data": {
      "text/plain": [
       "(9728, 16)"
      ]
     },
     "execution_count": 10,
     "metadata": {},
     "output_type": "execute_result"
    }
   ],
   "source": [
    "merged_house.shape"
   ]
  },
  {
   "cell_type": "code",
   "execution_count": 11,
   "id": "bc7c0903",
   "metadata": {},
   "outputs": [
    {
     "data": {
      "text/html": [
       "<div>\n",
       "<style scoped>\n",
       "    .dataframe tbody tr th:only-of-type {\n",
       "        vertical-align: middle;\n",
       "    }\n",
       "\n",
       "    .dataframe tbody tr th {\n",
       "        vertical-align: top;\n",
       "    }\n",
       "\n",
       "    .dataframe thead th {\n",
       "        text-align: right;\n",
       "    }\n",
       "</style>\n",
       "<table border=\"1\" class=\"dataframe\">\n",
       "  <thead>\n",
       "    <tr style=\"text-align: right;\">\n",
       "      <th></th>\n",
       "      <th>S/N</th>\n",
       "      <th>Project Name</th>\n",
       "      <th>Street Name</th>\n",
       "      <th>Type</th>\n",
       "      <th>Postal District</th>\n",
       "      <th>Market Segment</th>\n",
       "      <th>Tenure</th>\n",
       "      <th>Type of Sale</th>\n",
       "      <th>No. of Units</th>\n",
       "      <th>Price ($)</th>\n",
       "      <th>Nett Price ($)</th>\n",
       "      <th>Area (Sqft)</th>\n",
       "      <th>Type of Area</th>\n",
       "      <th>Floor Level</th>\n",
       "      <th>Unit Price ($psf)</th>\n",
       "      <th>Date of Sale</th>\n",
       "    </tr>\n",
       "  </thead>\n",
       "  <tbody>\n",
       "    <tr>\n",
       "      <th>1069</th>\n",
       "      <td>1070</td>\n",
       "      <td>LANDED HOUSING DEVELOPMENT</td>\n",
       "      <td>NIM ROAD</td>\n",
       "      <td>Detached</td>\n",
       "      <td>28.0</td>\n",
       "      <td>OCR</td>\n",
       "      <td>Freehold</td>\n",
       "      <td>Resale</td>\n",
       "      <td>1.0</td>\n",
       "      <td>10300000.0</td>\n",
       "      <td>-</td>\n",
       "      <td>9955.0</td>\n",
       "      <td>Land</td>\n",
       "      <td>-</td>\n",
       "      <td>1035.0</td>\n",
       "      <td>Nov-2016</td>\n",
       "    </tr>\n",
       "  </tbody>\n",
       "</table>\n",
       "</div>"
      ],
      "text/plain": [
       "       S/N                Project Name Street Name      Type  Postal District  \\\n",
       "1069  1070  LANDED HOUSING DEVELOPMENT    NIM ROAD  Detached             28.0   \n",
       "\n",
       "     Market Segment    Tenure Type of Sale  No. of Units   Price ($)  \\\n",
       "1069            OCR  Freehold       Resale           1.0  10300000.0   \n",
       "\n",
       "     Nett Price ($)  Area (Sqft) Type of Area Floor Level  Unit Price ($psf)  \\\n",
       "1069              -       9955.0         Land           -             1035.0   \n",
       "\n",
       "     Date of Sale  \n",
       "1069     Nov-2016  "
      ]
     },
     "execution_count": 11,
     "metadata": {},
     "output_type": "execute_result"
    }
   ],
   "source": [
    "merged_house.tail(1)\n",
    "# There is a difference S/N and index row"
   ]
  },
  {
   "cell_type": "code",
   "execution_count": 12,
   "id": "a1b167b4",
   "metadata": {},
   "outputs": [],
   "source": [
    "merged_house.reset_index(drop = True, inplace = True)\n",
    "merged_house.drop(['S/N'], axis=1, inplace = True)\n",
    "merged_house.reset_index(drop = False , inplace = True)\n",
    "# to replace S/N with index for numbering purposes"
   ]
  },
  {
   "cell_type": "code",
   "execution_count": 13,
   "id": "e6f02b3f",
   "metadata": {},
   "outputs": [
    {
     "data": {
      "text/html": [
       "<div>\n",
       "<style scoped>\n",
       "    .dataframe tbody tr th:only-of-type {\n",
       "        vertical-align: middle;\n",
       "    }\n",
       "\n",
       "    .dataframe tbody tr th {\n",
       "        vertical-align: top;\n",
       "    }\n",
       "\n",
       "    .dataframe thead th {\n",
       "        text-align: right;\n",
       "    }\n",
       "</style>\n",
       "<table border=\"1\" class=\"dataframe\">\n",
       "  <thead>\n",
       "    <tr style=\"text-align: right;\">\n",
       "      <th></th>\n",
       "      <th>index</th>\n",
       "      <th>Project Name</th>\n",
       "      <th>Street Name</th>\n",
       "      <th>Type</th>\n",
       "      <th>Postal District</th>\n",
       "      <th>Market Segment</th>\n",
       "      <th>Tenure</th>\n",
       "      <th>Type of Sale</th>\n",
       "      <th>No. of Units</th>\n",
       "      <th>Price ($)</th>\n",
       "      <th>Nett Price ($)</th>\n",
       "      <th>Area (Sqft)</th>\n",
       "      <th>Type of Area</th>\n",
       "      <th>Floor Level</th>\n",
       "      <th>Unit Price ($psf)</th>\n",
       "      <th>Date of Sale</th>\n",
       "    </tr>\n",
       "  </thead>\n",
       "  <tbody>\n",
       "    <tr>\n",
       "      <th>9725</th>\n",
       "      <td>9725</td>\n",
       "      <td>GERALD GARDENS</td>\n",
       "      <td>GERALD CRESCENT</td>\n",
       "      <td>Terrace</td>\n",
       "      <td>28.0</td>\n",
       "      <td>OCR</td>\n",
       "      <td>999 yrs lease commencing from 1879</td>\n",
       "      <td>Resale</td>\n",
       "      <td>1.0</td>\n",
       "      <td>2980000.0</td>\n",
       "      <td>-</td>\n",
       "      <td>4192.0</td>\n",
       "      <td>Land</td>\n",
       "      <td>-</td>\n",
       "      <td>711.0</td>\n",
       "      <td>Nov-2016</td>\n",
       "    </tr>\n",
       "    <tr>\n",
       "      <th>9726</th>\n",
       "      <td>9726</td>\n",
       "      <td>LANDED HOUSING DEVELOPMENT</td>\n",
       "      <td>JALAN SANKAM</td>\n",
       "      <td>Semi-detached</td>\n",
       "      <td>27.0</td>\n",
       "      <td>OCR</td>\n",
       "      <td>Freehold</td>\n",
       "      <td>Resale</td>\n",
       "      <td>1.0</td>\n",
       "      <td>1750000.0</td>\n",
       "      <td>-</td>\n",
       "      <td>2099.0</td>\n",
       "      <td>Land</td>\n",
       "      <td>-</td>\n",
       "      <td>834.0</td>\n",
       "      <td>Nov-2016</td>\n",
       "    </tr>\n",
       "    <tr>\n",
       "      <th>9727</th>\n",
       "      <td>9727</td>\n",
       "      <td>LANDED HOUSING DEVELOPMENT</td>\n",
       "      <td>NIM ROAD</td>\n",
       "      <td>Detached</td>\n",
       "      <td>28.0</td>\n",
       "      <td>OCR</td>\n",
       "      <td>Freehold</td>\n",
       "      <td>Resale</td>\n",
       "      <td>1.0</td>\n",
       "      <td>10300000.0</td>\n",
       "      <td>-</td>\n",
       "      <td>9955.0</td>\n",
       "      <td>Land</td>\n",
       "      <td>-</td>\n",
       "      <td>1035.0</td>\n",
       "      <td>Nov-2016</td>\n",
       "    </tr>\n",
       "  </tbody>\n",
       "</table>\n",
       "</div>"
      ],
      "text/plain": [
       "      index                Project Name      Street Name           Type  \\\n",
       "9725   9725              GERALD GARDENS  GERALD CRESCENT        Terrace   \n",
       "9726   9726  LANDED HOUSING DEVELOPMENT     JALAN SANKAM  Semi-detached   \n",
       "9727   9727  LANDED HOUSING DEVELOPMENT         NIM ROAD       Detached   \n",
       "\n",
       "      Postal District Market Segment                              Tenure  \\\n",
       "9725             28.0            OCR  999 yrs lease commencing from 1879   \n",
       "9726             27.0            OCR                            Freehold   \n",
       "9727             28.0            OCR                            Freehold   \n",
       "\n",
       "     Type of Sale  No. of Units   Price ($) Nett Price ($)  Area (Sqft)  \\\n",
       "9725       Resale           1.0   2980000.0              -       4192.0   \n",
       "9726       Resale           1.0   1750000.0              -       2099.0   \n",
       "9727       Resale           1.0  10300000.0              -       9955.0   \n",
       "\n",
       "     Type of Area Floor Level  Unit Price ($psf) Date of Sale  \n",
       "9725         Land           -              711.0     Nov-2016  \n",
       "9726         Land           -              834.0     Nov-2016  \n",
       "9727         Land           -             1035.0     Nov-2016  "
      ]
     },
     "execution_count": 13,
     "metadata": {},
     "output_type": "execute_result"
    }
   ],
   "source": [
    "merged_house.tail(3)"
   ]
  },
  {
   "cell_type": "markdown",
   "id": "c4510e29",
   "metadata": {},
   "source": [
    "## Renaming Columns (features of the data)"
   ]
  },
  {
   "cell_type": "code",
   "execution_count": 14,
   "id": "c2fb0f7e",
   "metadata": {},
   "outputs": [],
   "source": [
    "merged_house.rename(columns = {\"Price ($)\":\"Price\", \"Nett Price ($)\": \"Nett Price\", \"Area (Sqft)\": \"Areasq\", \n",
    "                               \"Unit Price ($psf)\": \"Unit Price psf\"}, inplace = True)"
   ]
  },
  {
   "cell_type": "code",
   "execution_count": 15,
   "id": "211fa4b5",
   "metadata": {},
   "outputs": [],
   "source": [
    "merged_house.columns = merged_house.columns.str.lower()"
   ]
  },
  {
   "cell_type": "code",
   "execution_count": 16,
   "id": "d5544ede",
   "metadata": {},
   "outputs": [
    {
     "data": {
      "text/html": [
       "<div>\n",
       "<style scoped>\n",
       "    .dataframe tbody tr th:only-of-type {\n",
       "        vertical-align: middle;\n",
       "    }\n",
       "\n",
       "    .dataframe tbody tr th {\n",
       "        vertical-align: top;\n",
       "    }\n",
       "\n",
       "    .dataframe thead th {\n",
       "        text-align: right;\n",
       "    }\n",
       "</style>\n",
       "<table border=\"1\" class=\"dataframe\">\n",
       "  <thead>\n",
       "    <tr style=\"text-align: right;\">\n",
       "      <th></th>\n",
       "      <th>index</th>\n",
       "      <th>project name</th>\n",
       "      <th>street name</th>\n",
       "      <th>type</th>\n",
       "      <th>postal district</th>\n",
       "      <th>market segment</th>\n",
       "      <th>tenure</th>\n",
       "      <th>type of sale</th>\n",
       "      <th>no. of units</th>\n",
       "      <th>price</th>\n",
       "      <th>nett price</th>\n",
       "      <th>areasq</th>\n",
       "      <th>type of area</th>\n",
       "      <th>floor level</th>\n",
       "      <th>unit price psf</th>\n",
       "      <th>date of sale</th>\n",
       "    </tr>\n",
       "  </thead>\n",
       "  <tbody>\n",
       "    <tr>\n",
       "      <th>0</th>\n",
       "      <td>0</td>\n",
       "      <td>LANDED HOUSING DEVELOPMENT</td>\n",
       "      <td>PASIR PANJANG DRIVE</td>\n",
       "      <td>Terrace</td>\n",
       "      <td>5.0</td>\n",
       "      <td>RCR</td>\n",
       "      <td>Freehold</td>\n",
       "      <td>Resale</td>\n",
       "      <td>1.0</td>\n",
       "      <td>3660000.0</td>\n",
       "      <td>-</td>\n",
       "      <td>2566.0</td>\n",
       "      <td>Land</td>\n",
       "      <td>-</td>\n",
       "      <td>1426.0</td>\n",
       "      <td>Oct-2021</td>\n",
       "    </tr>\n",
       "  </tbody>\n",
       "</table>\n",
       "</div>"
      ],
      "text/plain": [
       "   index                project name          street name     type  \\\n",
       "0      0  LANDED HOUSING DEVELOPMENT  PASIR PANJANG DRIVE  Terrace   \n",
       "\n",
       "   postal district market segment    tenure type of sale  no. of units  \\\n",
       "0              5.0            RCR  Freehold       Resale           1.0   \n",
       "\n",
       "       price nett price  areasq type of area floor level  unit price psf  \\\n",
       "0  3660000.0          -  2566.0         Land           -          1426.0   \n",
       "\n",
       "  date of sale  \n",
       "0     Oct-2021  "
      ]
     },
     "execution_count": 16,
     "metadata": {},
     "output_type": "execute_result"
    }
   ],
   "source": [
    "merged_house.head(1)"
   ]
  },
  {
   "cell_type": "markdown",
   "id": "604e4752",
   "metadata": {},
   "source": [
    "## Saving of the merged_house dataframe"
   ]
  },
  {
   "cell_type": "code",
   "execution_count": 17,
   "id": "100d01f9",
   "metadata": {},
   "outputs": [],
   "source": [
    "merged_house.to_csv('./dataset_asof_051121/merged_house.csv', index=False)"
   ]
  },
  {
   "cell_type": "markdown",
   "id": "1b414b96",
   "metadata": {},
   "source": [
    "# Data Exploration for Dataset"
   ]
  },
  {
   "cell_type": "code",
   "execution_count": 18,
   "id": "42ef01ca",
   "metadata": {},
   "outputs": [
    {
     "data": {
      "text/plain": [
       "OCR    6555\n",
       "RCR    1789\n",
       "CCR    1384\n",
       "Name: market segment, dtype: int64"
      ]
     },
     "execution_count": 18,
     "metadata": {},
     "output_type": "execute_result"
    }
   ],
   "source": [
    "# Looking into different region of the houses compared to the prices\n",
    "merged_house['market segment'].value_counts()"
   ]
  },
  {
   "cell_type": "code",
   "execution_count": 19,
   "id": "24629ea7",
   "metadata": {},
   "outputs": [
    {
     "data": {
      "image/png": "[encoded data removed]",
      "text/plain": [
       "<Figure size 576x576 with 1 Axes>"
      ]
     },
     "metadata": {
      "needs_background": "light"
     },
     "output_type": "display_data"
    }
   ],
   "source": [
    "plt.figure(figsize =(8,8))\n",
    "market_segment = sns.boxplot('market segment', 'price', data = merged_house);\n",
    "\n",
    "# There is outlier detected in the Central Core Region (CCR)"
   ]
  },
  {
   "cell_type": "code",
   "execution_count": 20,
   "id": "583ec79d",
   "metadata": {},
   "outputs": [
    {
     "data": {
      "text/plain": [
       "19.0    1630\n",
       "15.0    1254\n",
       "28.0     886\n",
       "10.0     793\n",
       "16.0     708\n",
       "20.0     674\n",
       "23.0     498\n",
       "13.0     462\n",
       "11.0     461\n",
       "21.0     447\n",
       "26.0     361\n",
       "14.0     346\n",
       "17.0     244\n",
       "5.0      196\n",
       "27.0     184\n",
       "22.0     174\n",
       "25.0     101\n",
       "18.0      98\n",
       "4.0       81\n",
       "9.0       55\n",
       "12.0      40\n",
       "8.0       21\n",
       "2.0        9\n",
       "3.0        5\n",
       "Name: postal district, dtype: int64"
      ]
     },
     "execution_count": 20,
     "metadata": {},
     "output_type": "execute_result"
    }
   ],
   "source": [
    "# Looking into different district of houses as compared to the prices\n",
    "merged_house['postal district'].value_counts()"
   ]
  },
  {
   "cell_type": "code",
   "execution_count": 21,
   "id": "adad8484",
   "metadata": {},
   "outputs": [
    {
     "data": {
      "image/png": "[encoded data removed]",
      "text/plain": [
       "<Figure size 3600x720 with 1 Axes>"
      ]
     },
     "metadata": {},
     "output_type": "display_data"
    }
   ],
   "source": [
    "sns.set(font_scale=3)\n",
    "plt.figure(figsize =(50,10))\n",
    "district_place = sns.boxplot('postal district', 'price', data = merged_house, color ='blue');\n",
    "\n",
    "# there are a total of 24 district and district 10 located in the CCR is where the outlier was detected in the market segment feature."
   ]
  },
  {
   "cell_type": "code",
   "execution_count": 22,
   "id": "3b578554",
   "metadata": {},
   "outputs": [
    {
     "data": {
      "text/plain": [
       "Resale      9394\n",
       "New Sale     317\n",
       "Sub Sale      17\n",
       "Name: type of sale, dtype: int64"
      ]
     },
     "execution_count": 22,
     "metadata": {},
     "output_type": "execute_result"
    }
   ],
   "source": [
    "# Looking into different type of sale as compared to the prices\n",
    "merged_house['type of sale'].value_counts()\n",
    "\n",
    "# mostly are resale houses"
   ]
  },
  {
   "cell_type": "code",
   "execution_count": 23,
   "id": "1846c8b8",
   "metadata": {},
   "outputs": [
    {
     "data": {
      "image/png": "[encoded data removed]",
      "text/plain": [
       "<Figure size 576x576 with 1 Axes>"
      ]
     },
     "metadata": {},
     "output_type": "display_data"
    }
   ],
   "source": [
    "sns.set(font_scale=2)\n",
    "plt.figure(figsize =(8,8))\n",
    "type_of_sale = sns.boxplot('type of sale', 'price', data = merged_house);\n",
    "# outliers belonging to the resale type"
   ]
  },
  {
   "cell_type": "code",
   "execution_count": 24,
   "id": "c77d59a2",
   "metadata": {},
   "outputs": [
    {
     "data": {
      "text/plain": [
       "Terrace          5556\n",
       "Semi-detached    2889\n",
       "Detached         1283\n",
       "Name: type, dtype: int64"
      ]
     },
     "execution_count": 24,
     "metadata": {},
     "output_type": "execute_result"
    }
   ],
   "source": [
    "# Looking into different type houses compared to the prices\n",
    "merged_house['type'].value_counts()"
   ]
  },
  {
   "cell_type": "code",
   "execution_count": 25,
   "id": "7f886618",
   "metadata": {},
   "outputs": [
    {
     "data": {
      "image/png": "[encoded data removed]",
      "text/plain": [
       "<Figure size 576x576 with 1 Axes>"
      ]
     },
     "metadata": {},
     "output_type": "display_data"
    }
   ],
   "source": [
    "sns.set(font_scale =2)\n",
    "plt.figure(figsize =(8,8))\n",
    "house_type = sns.boxplot('type', 'price', data = merged_house);"
   ]
  },
  {
   "cell_type": "code",
   "execution_count": 26,
   "id": "e1c8d07f",
   "metadata": {},
   "outputs": [
    {
     "data": {
      "image/png": "[encoded data removed]",
      "text/plain": [
       "<Figure size 3600x720 with 1 Axes>"
      ]
     },
     "metadata": {},
     "output_type": "display_data"
    }
   ],
   "source": [
    "# Looking into different tenure years compared to the prices\n",
    "sns.set(font_scale=3)\n",
    "plt.figure(figsize =(50,10))\n",
    "type_of_hold = sns.boxplot('tenure', 'price', data = merged_house, color ='blue');"
   ]
  },
  {
   "cell_type": "markdown",
   "id": "801cf0c0",
   "metadata": {},
   "source": [
    "# Data Cleaning"
   ]
  },
  {
   "cell_type": "markdown",
   "id": "50c34e27",
   "metadata": {},
   "source": [
    "## Cleaning of features"
   ]
  },
  {
   "cell_type": "code",
   "execution_count": 27,
   "id": "5aa8f7d7",
   "metadata": {},
   "outputs": [
    {
     "data": {
      "text/plain": [
       "Freehold                              6480\n",
       "999 yrs lease commencing from 1879     491\n",
       "99 yrs lease commencing from 1994      309\n",
       "99 yrs lease commencing from 1996      183\n",
       "99 yrs lease commencing from 1997      178\n",
       "                                      ... \n",
       "99 yrs lease commencing from 2000        1\n",
       "99 yrs lease commencing from 1957        1\n",
       "99 yrs lease commencing from 1960        1\n",
       "953 yrs lease commencing from 1931       1\n",
       "99 yrs lease commencing from 2009        1\n",
       "Name: tenure, Length: 65, dtype: int64"
      ]
     },
     "execution_count": 27,
     "metadata": {},
     "output_type": "execute_result"
    }
   ],
   "source": [
    "merged_house['tenure'].value_counts()"
   ]
  },
  {
   "cell_type": "code",
   "execution_count": 28,
   "id": "e3a11391",
   "metadata": {},
   "outputs": [
    {
     "data": {
      "text/plain": [
       "index                int64\n",
       "project name        object\n",
       "street name         object\n",
       "type                object\n",
       "postal district    float64\n",
       "market segment      object\n",
       "tenure              object\n",
       "type of sale        object\n",
       "no. of units       float64\n",
       "price              float64\n",
       "nett price          object\n",
       "areasq             float64\n",
       "type of area        object\n",
       "floor level         object\n",
       "unit price psf     float64\n",
       "date of sale        object\n",
       "dtype: object"
      ]
     },
     "execution_count": 28,
     "metadata": {},
     "output_type": "execute_result"
    }
   ],
   "source": [
    "merged_house.dtypes\n",
    "# tenure is an object, we need to change it to an integer to do modelling"
   ]
  },
  {
   "cell_type": "code",
   "execution_count": 29,
   "id": "d5166940",
   "metadata": {},
   "outputs": [
    {
     "data": {
      "text/plain": [
       "65"
      ]
     },
     "execution_count": 29,
     "metadata": {},
     "output_type": "execute_result"
    }
   ],
   "source": [
    "merged_house['tenure'].nunique()\n",
    "# 65 different type of tenure\n",
    "# This is an important feature to clean as tenure can be related to the prices, longer the years, higher the price"
   ]
  },
  {
   "cell_type": "markdown",
   "id": "c9c62a58",
   "metadata": {},
   "source": [
    "### From value_counts(), we can see that the we can add the 1st word and last word of the object and subtract 2021 to get the house remaining tenure"
   ]
  },
  {
   "cell_type": "code",
   "execution_count": 30,
   "id": "226605a9",
   "metadata": {},
   "outputs": [],
   "source": [
    "tenure_list = merged_house['tenure']\n",
    "tenure_split = tenure_list.str.split()[0]\n",
    "first = merged_house['tenure'].str.split().str[0]\n",
    "last = merged_house['tenure'].str.split().str[-1]"
   ]
  },
  {
   "cell_type": "code",
   "execution_count": 31,
   "id": "05d3c6fa",
   "metadata": {},
   "outputs": [],
   "source": [
    "first.replace({'Freehold':999}, inplace = True)\n",
    "last.replace({'Freehold':999}, inplace = True)\n",
    "#Taking out the 1st word from tenure and replace freehold with 999\n",
    "#Taking out the last word from tenure, since freehold is also the last word for freehold, change it to 999"
   ]
  },
  {
   "cell_type": "code",
   "execution_count": 32,
   "id": "98e18f3e",
   "metadata": {},
   "outputs": [],
   "source": [
    "first = first.astype(int)\n",
    "last = last.astype(int)\n",
    "# changing from object to integer"
   ]
  },
  {
   "cell_type": "code",
   "execution_count": 33,
   "id": "52a83f26",
   "metadata": {},
   "outputs": [],
   "source": [
    "tenure = first + last - 2021"
   ]
  },
  {
   "cell_type": "code",
   "execution_count": 34,
   "id": "e5c0475d",
   "metadata": {},
   "outputs": [
    {
     "data": {
      "text/plain": [
       "0    -23\n",
       "1     83\n",
       "2     83\n",
       "3    863\n",
       "4    -23\n",
       "Name: tenure, dtype: int32"
      ]
     },
     "execution_count": 34,
     "metadata": {},
     "output_type": "execute_result"
    }
   ],
   "source": [
    "tenure.head()"
   ]
  },
  {
   "cell_type": "markdown",
   "id": "d51919f4",
   "metadata": {},
   "source": [
    "The negative is the freehold houses, it became negative during the mathematical eqn of 999+999 -2021 replace all -23 with 999 years."
   ]
  },
  {
   "cell_type": "code",
   "execution_count": 35,
   "id": "85be264a",
   "metadata": {},
   "outputs": [],
   "source": [
    "tenure.replace({-23:999}, inplace = True)"
   ]
  },
  {
   "cell_type": "code",
   "execution_count": 36,
   "id": "a2b11569",
   "metadata": {},
   "outputs": [],
   "source": [
    "#Dropping the old tenure and reinsert the integer type tenure into merged_house\n",
    "merged_house.drop(columns = 'tenure', inplace = True)\n",
    "merged_house.insert(0, \"tenure\",tenure)"
   ]
  },
  {
   "cell_type": "code",
   "execution_count": 37,
   "id": "20850d4e",
   "metadata": {},
   "outputs": [
    {
     "data": {
      "text/html": [
       "<div>\n",
       "<style scoped>\n",
       "    .dataframe tbody tr th:only-of-type {\n",
       "        vertical-align: middle;\n",
       "    }\n",
       "\n",
       "    .dataframe tbody tr th {\n",
       "        vertical-align: top;\n",
       "    }\n",
       "\n",
       "    .dataframe thead th {\n",
       "        text-align: right;\n",
       "    }\n",
       "</style>\n",
       "<table border=\"1\" class=\"dataframe\">\n",
       "  <thead>\n",
       "    <tr style=\"text-align: right;\">\n",
       "      <th></th>\n",
       "      <th>tenure</th>\n",
       "      <th>index</th>\n",
       "      <th>project name</th>\n",
       "      <th>street name</th>\n",
       "      <th>type</th>\n",
       "      <th>postal district</th>\n",
       "      <th>market segment</th>\n",
       "      <th>type of sale</th>\n",
       "      <th>no. of units</th>\n",
       "      <th>price</th>\n",
       "      <th>nett price</th>\n",
       "      <th>areasq</th>\n",
       "      <th>type of area</th>\n",
       "      <th>floor level</th>\n",
       "      <th>unit price psf</th>\n",
       "      <th>date of sale</th>\n",
       "    </tr>\n",
       "  </thead>\n",
       "  <tbody>\n",
       "    <tr>\n",
       "      <th>0</th>\n",
       "      <td>999</td>\n",
       "      <td>0</td>\n",
       "      <td>LANDED HOUSING DEVELOPMENT</td>\n",
       "      <td>PASIR PANJANG DRIVE</td>\n",
       "      <td>Terrace</td>\n",
       "      <td>5.0</td>\n",
       "      <td>RCR</td>\n",
       "      <td>Resale</td>\n",
       "      <td>1.0</td>\n",
       "      <td>3660000.0</td>\n",
       "      <td>-</td>\n",
       "      <td>2566.0</td>\n",
       "      <td>Land</td>\n",
       "      <td>-</td>\n",
       "      <td>1426.0</td>\n",
       "      <td>Oct-2021</td>\n",
       "    </tr>\n",
       "    <tr>\n",
       "      <th>1</th>\n",
       "      <td>83</td>\n",
       "      <td>1</td>\n",
       "      <td>OCEAN 8</td>\n",
       "      <td>OCEAN DRIVE</td>\n",
       "      <td>Terrace</td>\n",
       "      <td>4.0</td>\n",
       "      <td>CCR</td>\n",
       "      <td>Resale</td>\n",
       "      <td>1.0</td>\n",
       "      <td>6920000.0</td>\n",
       "      <td>-</td>\n",
       "      <td>3852.0</td>\n",
       "      <td>Land</td>\n",
       "      <td>-</td>\n",
       "      <td>1796.0</td>\n",
       "      <td>Oct-2021</td>\n",
       "    </tr>\n",
       "    <tr>\n",
       "      <th>2</th>\n",
       "      <td>83</td>\n",
       "      <td>2</td>\n",
       "      <td>LANDED HOUSING DEVELOPMENT</td>\n",
       "      <td>OCEAN DRIVE</td>\n",
       "      <td>Detached</td>\n",
       "      <td>4.0</td>\n",
       "      <td>CCR</td>\n",
       "      <td>Resale</td>\n",
       "      <td>1.0</td>\n",
       "      <td>17888000.0</td>\n",
       "      <td>-</td>\n",
       "      <td>8746.0</td>\n",
       "      <td>Land</td>\n",
       "      <td>-</td>\n",
       "      <td>2045.0</td>\n",
       "      <td>Oct-2021</td>\n",
       "    </tr>\n",
       "    <tr>\n",
       "      <th>3</th>\n",
       "      <td>863</td>\n",
       "      <td>3</td>\n",
       "      <td>WEST COAST GARDENS</td>\n",
       "      <td>WEST COAST PARK</td>\n",
       "      <td>Semi-detached</td>\n",
       "      <td>5.0</td>\n",
       "      <td>OCR</td>\n",
       "      <td>Resale</td>\n",
       "      <td>1.0</td>\n",
       "      <td>5400000.0</td>\n",
       "      <td>-</td>\n",
       "      <td>4806.0</td>\n",
       "      <td>Land</td>\n",
       "      <td>-</td>\n",
       "      <td>1124.0</td>\n",
       "      <td>Oct-2021</td>\n",
       "    </tr>\n",
       "    <tr>\n",
       "      <th>4</th>\n",
       "      <td>999</td>\n",
       "      <td>4</td>\n",
       "      <td>LANDED HOUSING DEVELOPMENT</td>\n",
       "      <td>JALAN MAS KUNING</td>\n",
       "      <td>Terrace</td>\n",
       "      <td>5.0</td>\n",
       "      <td>OCR</td>\n",
       "      <td>Resale</td>\n",
       "      <td>1.0</td>\n",
       "      <td>2660000.0</td>\n",
       "      <td>-</td>\n",
       "      <td>1640.0</td>\n",
       "      <td>Land</td>\n",
       "      <td>-</td>\n",
       "      <td>1622.0</td>\n",
       "      <td>Oct-2021</td>\n",
       "    </tr>\n",
       "  </tbody>\n",
       "</table>\n",
       "</div>"
      ],
      "text/plain": [
       "   tenure  index                project name          street name  \\\n",
       "0     999      0  LANDED HOUSING DEVELOPMENT  PASIR PANJANG DRIVE   \n",
       "1      83      1                     OCEAN 8          OCEAN DRIVE   \n",
       "2      83      2  LANDED HOUSING DEVELOPMENT          OCEAN DRIVE   \n",
       "3     863      3          WEST COAST GARDENS      WEST COAST PARK   \n",
       "4     999      4  LANDED HOUSING DEVELOPMENT     JALAN MAS KUNING   \n",
       "\n",
       "            type  postal district market segment type of sale  no. of units  \\\n",
       "0        Terrace              5.0            RCR       Resale           1.0   \n",
       "1        Terrace              4.0            CCR       Resale           1.0   \n",
       "2       Detached              4.0            CCR       Resale           1.0   \n",
       "3  Semi-detached              5.0            OCR       Resale           1.0   \n",
       "4        Terrace              5.0            OCR       Resale           1.0   \n",
       "\n",
       "        price nett price  areasq type of area floor level  unit price psf  \\\n",
       "0   3660000.0          -  2566.0         Land           -          1426.0   \n",
       "1   6920000.0          -  3852.0         Land           -          1796.0   \n",
       "2  17888000.0          -  8746.0         Land           -          2045.0   \n",
       "3   5400000.0          -  4806.0         Land           -          1124.0   \n",
       "4   2660000.0          -  1640.0         Land           -          1622.0   \n",
       "\n",
       "  date of sale  \n",
       "0     Oct-2021  \n",
       "1     Oct-2021  \n",
       "2     Oct-2021  \n",
       "3     Oct-2021  \n",
       "4     Oct-2021  "
      ]
     },
     "execution_count": 37,
     "metadata": {},
     "output_type": "execute_result"
    }
   ],
   "source": [
    "# Check on tenure\n",
    "merged_house.head()"
   ]
  },
  {
   "cell_type": "code",
   "execution_count": 38,
   "id": "79bec83c",
   "metadata": {},
   "outputs": [],
   "source": [
    "#rearrange back tenure to original column\n",
    "merged_house = merged_house[['index','project name', 'street name', 'type', 'tenure', 'postal district', 'market segment',\n",
    "                            'type of sale', 'no. of units', 'price', 'nett price', 'areasq', 'type of area', 'floor level',\n",
    "                            'unit price psf', 'date of sale']]"
   ]
  },
  {
   "cell_type": "code",
   "execution_count": 39,
   "id": "a2fbbead",
   "metadata": {},
   "outputs": [
    {
     "data": {
      "text/plain": [
       "<AxesSubplot:xlabel='tenure', ylabel='price'>"
      ]
     },
     "execution_count": 39,
     "metadata": {},
     "output_type": "execute_result"
    },
    {
     "data": {
      "image/png": "[encoded data removed]",
      "text/plain": [
       "<Figure size 360x216 with 1 Axes>"
      ]
     },
     "metadata": {},
     "output_type": "display_data"
    }
   ],
   "source": [
    "#Checking of prices vs tenure\n",
    "sns.set(font_scale=1)\n",
    "plt.figure(figsize=(5,3))\n",
    "sns.scatterplot(y = merged_house['price'], x = merged_house['tenure'])\n",
    "\n",
    "#This shows that there was a 9999years integer was inside the tenure list"
   ]
  },
  {
   "cell_type": "code",
   "execution_count": 40,
   "id": "2944a39f",
   "metadata": {},
   "outputs": [
    {
     "data": {
      "text/plain": [
       "9944"
      ]
     },
     "execution_count": 40,
     "metadata": {},
     "output_type": "execute_result"
    }
   ],
   "source": [
    "merged_house['tenure'].max()"
   ]
  },
  {
   "cell_type": "code",
   "execution_count": 41,
   "id": "31c86238",
   "metadata": {},
   "outputs": [],
   "source": [
    "#replace it as 999 under the freehold category\n",
    "merged_house['tenure'].replace({9944: 999}, inplace = True)"
   ]
  },
  {
   "cell_type": "code",
   "execution_count": 42,
   "id": "650ea9d3",
   "metadata": {},
   "outputs": [
    {
     "data": {
      "text/plain": [
       "<matplotlib.lines.Line2D at 0x2ec157e6250>"
      ]
     },
     "execution_count": 42,
     "metadata": {},
     "output_type": "execute_result"
    },
    {
     "data": {
      "image/png": "[encoded data removed]",
      "text/plain": [
       "<Figure size 576x576 with 1 Axes>"
      ]
     },
     "metadata": {},
     "output_type": "display_data"
    }
   ],
   "source": [
    "plt.figure(figsize=(8,8))\n",
    "sns.scatterplot(y = merged_house['price'], x = merged_house['tenure'])\n",
    "plt.axvline(x=99, color = 'red')\n",
    "\n",
    "#This graph will seggregate out the freehold and non-freehold houses"
   ]
  },
  {
   "cell_type": "code",
   "execution_count": 43,
   "id": "cb9398ed",
   "metadata": {},
   "outputs": [],
   "source": [
    "merged_house_tenure = merged_house.copy(deep = True)"
   ]
  },
  {
   "cell_type": "markdown",
   "id": "66cda124",
   "metadata": {},
   "source": [
    "### Saving this merged_house_tenure after cleaning the tenure"
   ]
  },
  {
   "cell_type": "code",
   "execution_count": 44,
   "id": "06dd3f5b",
   "metadata": {},
   "outputs": [],
   "source": [
    "merged_house_tenure.to_csv('./dataset_asof_051121/merged_house_tenure.csv', index=False)"
   ]
  },
  {
   "cell_type": "markdown",
   "id": "fd7791aa",
   "metadata": {},
   "source": [
    "## Cleaning of outliers 5%"
   ]
  },
  {
   "cell_type": "markdown",
   "id": "e46eeb3a",
   "metadata": {},
   "source": [
    "### As we have detected a large number of outliers. A removal of 5% of the dataset is introduced to remove the outliers"
   ]
  },
  {
   "cell_type": "code",
   "execution_count": 45,
   "id": "90a751bb",
   "metadata": {},
   "outputs": [
    {
     "data": {
      "text/plain": [
       "Text(0.5, 0, 'no. of house within this range')"
      ]
     },
     "execution_count": 45,
     "metadata": {},
     "output_type": "execute_result"
    },
    {
     "data": {
      "image/png": "[encoded data removed]",
      "text/plain": [
       "<Figure size 432x288 with 1 Axes>"
      ]
     },
     "metadata": {},
     "output_type": "display_data"
    }
   ],
   "source": [
    "#using a historgram to compare the extreme ends using 50 bins\n",
    "price = merged_house_tenure['price']\n",
    "plt.hist(price, bins =50)\n",
    "plt.ylabel('Price')\n",
    "plt.xlabel(\"no. of house within this range\")\n",
    "\n",
    "#we can see that the large amount of outliers on the high prices side"
   ]
  },
  {
   "cell_type": "code",
   "execution_count": 46,
   "id": "c54fd2d7",
   "metadata": {},
   "outputs": [
    {
     "data": {
      "text/plain": [
       "(9728, 16)"
      ]
     },
     "execution_count": 46,
     "metadata": {},
     "output_type": "execute_result"
    }
   ],
   "source": [
    "merged_house_tenure.shape"
   ]
  },
  {
   "cell_type": "code",
   "execution_count": 47,
   "id": "0b21d4e9",
   "metadata": {},
   "outputs": [
    {
     "data": {
      "text/plain": [
       "243.20000000000002"
      ]
     },
     "execution_count": 47,
     "metadata": {},
     "output_type": "execute_result"
    }
   ],
   "source": [
    "# Removal of 5% of dataset (2.5% from lowest and 2.5% from highest price)\n",
    "2.5/100 * 9728\n",
    "# to remove 243 rows from top and lowest prices"
   ]
  },
  {
   "cell_type": "code",
   "execution_count": 48,
   "id": "f29b848b",
   "metadata": {},
   "outputs": [],
   "source": [
    "#to arrange house by prices so we can remove the top and lowest 2.5%\n",
    "merged_house_tenure = merged_house_tenure.sort_values(by = ['price'], ascending = False)"
   ]
  },
  {
   "cell_type": "code",
   "execution_count": 49,
   "id": "05428565",
   "metadata": {},
   "outputs": [
    {
     "data": {
      "text/html": [
       "<div>\n",
       "<style scoped>\n",
       "    .dataframe tbody tr th:only-of-type {\n",
       "        vertical-align: middle;\n",
       "    }\n",
       "\n",
       "    .dataframe tbody tr th {\n",
       "        vertical-align: top;\n",
       "    }\n",
       "\n",
       "    .dataframe thead th {\n",
       "        text-align: right;\n",
       "    }\n",
       "</style>\n",
       "<table border=\"1\" class=\"dataframe\">\n",
       "  <thead>\n",
       "    <tr style=\"text-align: right;\">\n",
       "      <th></th>\n",
       "      <th>index</th>\n",
       "      <th>project name</th>\n",
       "      <th>street name</th>\n",
       "      <th>type</th>\n",
       "      <th>tenure</th>\n",
       "      <th>postal district</th>\n",
       "      <th>market segment</th>\n",
       "      <th>type of sale</th>\n",
       "      <th>no. of units</th>\n",
       "      <th>price</th>\n",
       "      <th>nett price</th>\n",
       "      <th>areasq</th>\n",
       "      <th>type of area</th>\n",
       "      <th>floor level</th>\n",
       "      <th>unit price psf</th>\n",
       "      <th>date of sale</th>\n",
       "    </tr>\n",
       "  </thead>\n",
       "  <tbody>\n",
       "    <tr>\n",
       "      <th>848</th>\n",
       "      <td>848</td>\n",
       "      <td>LANDED HOUSING DEVELOPMENT</td>\n",
       "      <td>NASSIM ROAD</td>\n",
       "      <td>Detached</td>\n",
       "      <td>999</td>\n",
       "      <td>10.0</td>\n",
       "      <td>CCR</td>\n",
       "      <td>Resale</td>\n",
       "      <td>2.0</td>\n",
       "      <td>218000000.0</td>\n",
       "      <td>-</td>\n",
       "      <td>66453.0</td>\n",
       "      <td>Land</td>\n",
       "      <td>-</td>\n",
       "      <td>3281.0</td>\n",
       "      <td>Jun-2018</td>\n",
       "    </tr>\n",
       "    <tr>\n",
       "      <th>479</th>\n",
       "      <td>479</td>\n",
       "      <td>LANDED HOUSING DEVELOPMENT</td>\n",
       "      <td>NASSIM ROAD</td>\n",
       "      <td>Detached</td>\n",
       "      <td>999</td>\n",
       "      <td>10.0</td>\n",
       "      <td>CCR</td>\n",
       "      <td>Resale</td>\n",
       "      <td>1.0</td>\n",
       "      <td>128800800.0</td>\n",
       "      <td>-</td>\n",
       "      <td>32160.0</td>\n",
       "      <td>Land</td>\n",
       "      <td>-</td>\n",
       "      <td>4005.0</td>\n",
       "      <td>Mar-2021</td>\n",
       "    </tr>\n",
       "    <tr>\n",
       "      <th>853</th>\n",
       "      <td>853</td>\n",
       "      <td>LANDED HOUSING DEVELOPMENT</td>\n",
       "      <td>CAIRNHILL ROAD</td>\n",
       "      <td>Detached</td>\n",
       "      <td>999</td>\n",
       "      <td>9.0</td>\n",
       "      <td>CCR</td>\n",
       "      <td>Resale</td>\n",
       "      <td>1.0</td>\n",
       "      <td>100000000.0</td>\n",
       "      <td>-</td>\n",
       "      <td>19800.0</td>\n",
       "      <td>Land</td>\n",
       "      <td>-</td>\n",
       "      <td>5050.0</td>\n",
       "      <td>Jun-2018</td>\n",
       "    </tr>\n",
       "    <tr>\n",
       "      <th>808</th>\n",
       "      <td>808</td>\n",
       "      <td>LANDED HOUSING DEVELOPMENT</td>\n",
       "      <td>DALVEY ROAD</td>\n",
       "      <td>Detached</td>\n",
       "      <td>999</td>\n",
       "      <td>10.0</td>\n",
       "      <td>CCR</td>\n",
       "      <td>Resale</td>\n",
       "      <td>1.0</td>\n",
       "      <td>93900000.0</td>\n",
       "      <td>-</td>\n",
       "      <td>52059.0</td>\n",
       "      <td>Land</td>\n",
       "      <td>-</td>\n",
       "      <td>1804.0</td>\n",
       "      <td>Sep-2018</td>\n",
       "    </tr>\n",
       "    <tr>\n",
       "      <th>363</th>\n",
       "      <td>363</td>\n",
       "      <td>QUEEN ASTRID PARK</td>\n",
       "      <td>QUEEN ASTRID PARK</td>\n",
       "      <td>Detached</td>\n",
       "      <td>854</td>\n",
       "      <td>10.0</td>\n",
       "      <td>CCR</td>\n",
       "      <td>Resale</td>\n",
       "      <td>1.0</td>\n",
       "      <td>86000000.0</td>\n",
       "      <td>-</td>\n",
       "      <td>31807.0</td>\n",
       "      <td>Land</td>\n",
       "      <td>-</td>\n",
       "      <td>2704.0</td>\n",
       "      <td>Jul-2021</td>\n",
       "    </tr>\n",
       "  </tbody>\n",
       "</table>\n",
       "</div>"
      ],
      "text/plain": [
       "     index                project name        street name      type  tenure  \\\n",
       "848    848  LANDED HOUSING DEVELOPMENT        NASSIM ROAD  Detached     999   \n",
       "479    479  LANDED HOUSING DEVELOPMENT        NASSIM ROAD  Detached     999   \n",
       "853    853  LANDED HOUSING DEVELOPMENT     CAIRNHILL ROAD  Detached     999   \n",
       "808    808  LANDED HOUSING DEVELOPMENT        DALVEY ROAD  Detached     999   \n",
       "363    363           QUEEN ASTRID PARK  QUEEN ASTRID PARK  Detached     854   \n",
       "\n",
       "     postal district market segment type of sale  no. of units        price  \\\n",
       "848             10.0            CCR       Resale           2.0  218000000.0   \n",
       "479             10.0            CCR       Resale           1.0  128800800.0   \n",
       "853              9.0            CCR       Resale           1.0  100000000.0   \n",
       "808             10.0            CCR       Resale           1.0   93900000.0   \n",
       "363             10.0            CCR       Resale           1.0   86000000.0   \n",
       "\n",
       "    nett price   areasq type of area floor level  unit price psf date of sale  \n",
       "848          -  66453.0         Land           -          3281.0     Jun-2018  \n",
       "479          -  32160.0         Land           -          4005.0     Mar-2021  \n",
       "853          -  19800.0         Land           -          5050.0     Jun-2018  \n",
       "808          -  52059.0         Land           -          1804.0     Sep-2018  \n",
       "363          -  31807.0         Land           -          2704.0     Jul-2021  "
      ]
     },
     "execution_count": 49,
     "metadata": {},
     "output_type": "execute_result"
    }
   ],
   "source": [
    "merged_house_tenure.head()\n",
    "#Prices in descending order"
   ]
  },
  {
   "cell_type": "code",
   "execution_count": 50,
   "id": "aa39a42e",
   "metadata": {},
   "outputs": [],
   "source": [
    "# to rerrange the index so that we can use iloc to locate the top and lowest 2.5 percentile\n",
    "merged_house_tenure.reset_index(drop = True, inplace = True)\n",
    "merged_house_tenure.drop(['index'], axis=1, inplace = True)\n",
    "merged_house_tenure.reset_index(drop = False , inplace = True)"
   ]
  },
  {
   "cell_type": "code",
   "execution_count": 51,
   "id": "df7ccba3",
   "metadata": {},
   "outputs": [],
   "source": [
    "## To identify and to remove 243 rows from largest and smallest\n",
    "biggest = merged_house_tenure.nlargest(242,'price', keep ='all')\n",
    "smallest = merged_house_tenure.nsmallest(243,'price', keep ='all')\n",
    "\n",
    "#iloc at index 242 and 9485 to remove 5% of overall data"
   ]
  },
  {
   "cell_type": "code",
   "execution_count": 52,
   "id": "36ce040d",
   "metadata": {},
   "outputs": [
    {
     "data": {
      "text/plain": [
       "index                                     242\n",
       "project name       LANDED HOUSING DEVELOPMENT\n",
       "street name                  TREVOSE CRESCENT\n",
       "type                                 Detached\n",
       "tenure                                    999\n",
       "postal district                          11.0\n",
       "market segment                            CCR\n",
       "type of sale                           Resale\n",
       "no. of units                              1.0\n",
       "price                              16600000.0\n",
       "nett price                                  -\n",
       "areasq                                 8313.0\n",
       "type of area                             Land\n",
       "floor level                                 -\n",
       "unit price psf                         1997.0\n",
       "date of sale                         May-2018\n",
       "Name: 242, dtype: object"
      ]
     },
     "execution_count": 52,
     "metadata": {},
     "output_type": "execute_result"
    }
   ],
   "source": [
    "merged_house_tenure.iloc[242]"
   ]
  },
  {
   "cell_type": "code",
   "execution_count": 53,
   "id": "7f5318c9",
   "metadata": {},
   "outputs": [
    {
     "data": {
      "text/plain": [
       "index                       9485\n",
       "project name       LOYANG VILLAS\n",
       "street name          LOYANG RISE\n",
       "type                     Terrace\n",
       "tenure                        71\n",
       "postal district             17.0\n",
       "market segment               OCR\n",
       "type of sale              Resale\n",
       "no. of units                 1.0\n",
       "price                  1480000.0\n",
       "nett price                     -\n",
       "areasq                    1615.0\n",
       "type of area                Land\n",
       "floor level                    -\n",
       "unit price psf             917.0\n",
       "date of sale            Mar-2021\n",
       "Name: 9485, dtype: object"
      ]
     },
     "execution_count": 53,
     "metadata": {},
     "output_type": "execute_result"
    }
   ],
   "source": [
    "merged_house_tenure.iloc[9485]"
   ]
  },
  {
   "cell_type": "code",
   "execution_count": 54,
   "id": "258f1dc8",
   "metadata": {},
   "outputs": [],
   "source": [
    "merged_house_clean = merged_house_tenure[merged_house_tenure['price'] < 16600000]\n",
    "merged_house_clean = merged_house_clean[merged_house_clean['price'] > 1480000]"
   ]
  },
  {
   "cell_type": "code",
   "execution_count": 55,
   "id": "8c9737f6",
   "metadata": {},
   "outputs": [
    {
     "data": {
      "text/plain": [
       "(9240, 16)"
      ]
     },
     "execution_count": 55,
     "metadata": {},
     "output_type": "execute_result"
    }
   ],
   "source": [
    "merged_house_clean.shape"
   ]
  },
  {
   "cell_type": "code",
   "execution_count": 56,
   "id": "f5f22907",
   "metadata": {},
   "outputs": [
    {
     "data": {
      "text/html": [
       "<div>\n",
       "<style scoped>\n",
       "    .dataframe tbody tr th:only-of-type {\n",
       "        vertical-align: middle;\n",
       "    }\n",
       "\n",
       "    .dataframe tbody tr th {\n",
       "        vertical-align: top;\n",
       "    }\n",
       "\n",
       "    .dataframe thead th {\n",
       "        text-align: right;\n",
       "    }\n",
       "</style>\n",
       "<table border=\"1\" class=\"dataframe\">\n",
       "  <thead>\n",
       "    <tr style=\"text-align: right;\">\n",
       "      <th></th>\n",
       "      <th>index</th>\n",
       "      <th>project name</th>\n",
       "      <th>street name</th>\n",
       "      <th>type</th>\n",
       "      <th>tenure</th>\n",
       "      <th>postal district</th>\n",
       "      <th>market segment</th>\n",
       "      <th>type of sale</th>\n",
       "      <th>no. of units</th>\n",
       "      <th>price</th>\n",
       "      <th>nett price</th>\n",
       "      <th>areasq</th>\n",
       "      <th>type of area</th>\n",
       "      <th>floor level</th>\n",
       "      <th>unit price psf</th>\n",
       "      <th>date of sale</th>\n",
       "    </tr>\n",
       "  </thead>\n",
       "  <tbody>\n",
       "    <tr>\n",
       "      <th>243</th>\n",
       "      <td>243</td>\n",
       "      <td>LANDED HOUSING DEVELOPMENT</td>\n",
       "      <td>PEARL ISLAND</td>\n",
       "      <td>Detached</td>\n",
       "      <td>86</td>\n",
       "      <td>4.0</td>\n",
       "      <td>CCR</td>\n",
       "      <td>Resale</td>\n",
       "      <td>1.0</td>\n",
       "      <td>16550000.0</td>\n",
       "      <td>-</td>\n",
       "      <td>8940.0</td>\n",
       "      <td>Land</td>\n",
       "      <td>-</td>\n",
       "      <td>1851.0</td>\n",
       "      <td>Jun-2017</td>\n",
       "    </tr>\n",
       "    <tr>\n",
       "      <th>244</th>\n",
       "      <td>244</td>\n",
       "      <td>LANDED HOUSING DEVELOPMENT</td>\n",
       "      <td>MERRYN ROAD</td>\n",
       "      <td>Detached</td>\n",
       "      <td>999</td>\n",
       "      <td>11.0</td>\n",
       "      <td>CCR</td>\n",
       "      <td>Resale</td>\n",
       "      <td>1.0</td>\n",
       "      <td>16550000.0</td>\n",
       "      <td>-</td>\n",
       "      <td>8878.0</td>\n",
       "      <td>Land</td>\n",
       "      <td>-</td>\n",
       "      <td>1864.0</td>\n",
       "      <td>Aug-2021</td>\n",
       "    </tr>\n",
       "    <tr>\n",
       "      <th>245</th>\n",
       "      <td>245</td>\n",
       "      <td>LANDED HOUSING DEVELOPMENT</td>\n",
       "      <td>COVE DRIVE</td>\n",
       "      <td>Detached</td>\n",
       "      <td>85</td>\n",
       "      <td>4.0</td>\n",
       "      <td>CCR</td>\n",
       "      <td>Resale</td>\n",
       "      <td>1.0</td>\n",
       "      <td>16500000.0</td>\n",
       "      <td>-</td>\n",
       "      <td>7281.0</td>\n",
       "      <td>Land</td>\n",
       "      <td>-</td>\n",
       "      <td>2266.0</td>\n",
       "      <td>Sep-2020</td>\n",
       "    </tr>\n",
       "    <tr>\n",
       "      <th>246</th>\n",
       "      <td>246</td>\n",
       "      <td>LANDED HOUSING DEVELOPMENT</td>\n",
       "      <td>WALTON ROAD</td>\n",
       "      <td>Detached</td>\n",
       "      <td>999</td>\n",
       "      <td>15.0</td>\n",
       "      <td>RCR</td>\n",
       "      <td>Resale</td>\n",
       "      <td>1.0</td>\n",
       "      <td>16300000.0</td>\n",
       "      <td>-</td>\n",
       "      <td>8673.0</td>\n",
       "      <td>Land</td>\n",
       "      <td>-</td>\n",
       "      <td>1879.0</td>\n",
       "      <td>Jul-2021</td>\n",
       "    </tr>\n",
       "    <tr>\n",
       "      <th>247</th>\n",
       "      <td>247</td>\n",
       "      <td>SANNY PARK</td>\n",
       "      <td>MERRYN ROAD</td>\n",
       "      <td>Detached</td>\n",
       "      <td>999</td>\n",
       "      <td>11.0</td>\n",
       "      <td>CCR</td>\n",
       "      <td>Resale</td>\n",
       "      <td>1.0</td>\n",
       "      <td>16300000.0</td>\n",
       "      <td>-</td>\n",
       "      <td>9064.0</td>\n",
       "      <td>Land</td>\n",
       "      <td>-</td>\n",
       "      <td>1798.0</td>\n",
       "      <td>Aug-2021</td>\n",
       "    </tr>\n",
       "  </tbody>\n",
       "</table>\n",
       "</div>"
      ],
      "text/plain": [
       "     index                project name   street name      type  tenure  \\\n",
       "243    243  LANDED HOUSING DEVELOPMENT  PEARL ISLAND  Detached      86   \n",
       "244    244  LANDED HOUSING DEVELOPMENT   MERRYN ROAD  Detached     999   \n",
       "245    245  LANDED HOUSING DEVELOPMENT    COVE DRIVE  Detached      85   \n",
       "246    246  LANDED HOUSING DEVELOPMENT   WALTON ROAD  Detached     999   \n",
       "247    247                  SANNY PARK   MERRYN ROAD  Detached     999   \n",
       "\n",
       "     postal district market segment type of sale  no. of units       price  \\\n",
       "243              4.0            CCR       Resale           1.0  16550000.0   \n",
       "244             11.0            CCR       Resale           1.0  16550000.0   \n",
       "245              4.0            CCR       Resale           1.0  16500000.0   \n",
       "246             15.0            RCR       Resale           1.0  16300000.0   \n",
       "247             11.0            CCR       Resale           1.0  16300000.0   \n",
       "\n",
       "    nett price  areasq type of area floor level  unit price psf date of sale  \n",
       "243          -  8940.0         Land           -          1851.0     Jun-2017  \n",
       "244          -  8878.0         Land           -          1864.0     Aug-2021  \n",
       "245          -  7281.0         Land           -          2266.0     Sep-2020  \n",
       "246          -  8673.0         Land           -          1879.0     Jul-2021  \n",
       "247          -  9064.0         Land           -          1798.0     Aug-2021  "
      ]
     },
     "execution_count": 56,
     "metadata": {},
     "output_type": "execute_result"
    }
   ],
   "source": [
    "merged_house_clean.head()"
   ]
  },
  {
   "cell_type": "code",
   "execution_count": 57,
   "id": "1198da94",
   "metadata": {},
   "outputs": [],
   "source": [
    "#to rearrrange the index\n",
    "merged_house_clean.reset_index(drop = True, inplace = True)\n",
    "merged_house_clean.drop(['index'], axis=1, inplace = True)\n",
    "merged_house_clean.reset_index(drop = False , inplace = True)"
   ]
  },
  {
   "cell_type": "code",
   "execution_count": 58,
   "id": "c0e59004",
   "metadata": {},
   "outputs": [
    {
     "data": {
      "text/plain": [
       "Text(0.5, 0, 'no. of house within this range')"
      ]
     },
     "execution_count": 58,
     "metadata": {},
     "output_type": "execute_result"
    },
    {
     "data": {
      "image/png": "[encoded data removed]",
      "text/plain": [
       "<Figure size 432x288 with 1 Axes>"
      ]
     },
     "metadata": {},
     "output_type": "display_data"
    }
   ],
   "source": [
    "#Histrogram to see the distribution after removing 5% of the overall data\n",
    "price = merged_house_clean['price']\n",
    "plt.hist(price, bins =50)\n",
    "plt.ylabel('Price')\n",
    "plt.xlabel(\"no. of house within this range\")"
   ]
  },
  {
   "cell_type": "code",
   "execution_count": 59,
   "id": "738c8685",
   "metadata": {},
   "outputs": [
    {
     "data": {
      "text/plain": [
       "<matplotlib.lines.Line2D at 0x2ec15643a60>"
      ]
     },
     "execution_count": 59,
     "metadata": {},
     "output_type": "execute_result"
    },
    {
     "data": {
      "image/png": "[encoded data removed]",
      "text/plain": [
       "<Figure size 576x576 with 2 Axes>"
      ]
     },
     "metadata": {},
     "output_type": "display_data"
    }
   ],
   "source": [
    "plt.figure(figsize = (8,8))\n",
    "plt.subplot(1,2,1)\n",
    "sns.scatterplot(y = merged_house['price'], x = merged_house['tenure'])\n",
    "plt.axvline(x=99, color = 'red')\n",
    "\n",
    "\n",
    "plt.subplot(1,2,2)\n",
    "sns.scatterplot(y = merged_house_clean['price'], x = merged_house_clean['tenure'])\n",
    "plt.axvline(x=99, color = 'red')\n",
    "\n",
    "#merged_house_clean do not have as much outliers as merged_house, we can see the y-axis(prices) is more even distributed"
   ]
  },
  {
   "cell_type": "code",
   "execution_count": 60,
   "id": "ae8c3eed",
   "metadata": {},
   "outputs": [
    {
     "data": {
      "text/plain": [
       "Text(0.5, 0, 'no. of house within this range')"
      ]
     },
     "execution_count": 60,
     "metadata": {},
     "output_type": "execute_result"
    },
    {
     "data": {
      "image/png": "[encoded data removed]",
      "text/plain": [
       "<Figure size 720x432 with 2 Axes>"
      ]
     },
     "metadata": {},
     "output_type": "display_data"
    }
   ],
   "source": [
    "plt.figure(figsize=(10,6))\n",
    "plt.subplot(1,2,1)\n",
    "price = merged_house_tenure['price']\n",
    "plt.hist(price, bins =50)\n",
    "plt.ylabel('Price')\n",
    "plt.xlabel(\"no. of house within this range\")\n",
    "\n",
    "plt.subplot(1,2,2)\n",
    "price = merged_house_clean['price']\n",
    "plt.hist(price, bins =50)\n",
    "plt.ylabel('Price')\n",
    "plt.xlabel(\"no. of house within this range\")\n",
    "\n",
    "#outliers is signficantly reduced"
   ]
  },
  {
   "cell_type": "code",
   "execution_count": 61,
   "id": "bf49e43b",
   "metadata": {},
   "outputs": [],
   "source": [
    "# To dummify certain features and name as merged_house_data\n",
    "\n",
    "merged_house_data = pd.get_dummies(merged_house_clean, columns =['market segment', 'postal district', 'type', 'type of sale'])"
   ]
  },
  {
   "cell_type": "markdown",
   "id": "9d59fa26",
   "metadata": {},
   "source": [
    "### 5% reduction model to be used for modelling"
   ]
  },
  {
   "cell_type": "code",
   "execution_count": 62,
   "id": "afd9cdb8",
   "metadata": {},
   "outputs": [],
   "source": [
    "merged_house_data.to_csv('./dataset_asof_051121/merged_house_data.csv', index=False)"
   ]
  },
  {
   "cell_type": "markdown",
   "id": "32040c87",
   "metadata": {},
   "source": [
    "## Cleaning of outliers 10%"
   ]
  },
  {
   "cell_type": "code",
   "execution_count": 63,
   "id": "902a4ffb",
   "metadata": {},
   "outputs": [
    {
     "data": {
      "text/html": [
       "<div>\n",
       "<style scoped>\n",
       "    .dataframe tbody tr th:only-of-type {\n",
       "        vertical-align: middle;\n",
       "    }\n",
       "\n",
       "    .dataframe tbody tr th {\n",
       "        vertical-align: top;\n",
       "    }\n",
       "\n",
       "    .dataframe thead th {\n",
       "        text-align: right;\n",
       "    }\n",
       "</style>\n",
       "<table border=\"1\" class=\"dataframe\">\n",
       "  <thead>\n",
       "    <tr style=\"text-align: right;\">\n",
       "      <th></th>\n",
       "      <th>index</th>\n",
       "      <th>project name</th>\n",
       "      <th>street name</th>\n",
       "      <th>tenure</th>\n",
       "      <th>no. of units</th>\n",
       "      <th>price</th>\n",
       "      <th>nett price</th>\n",
       "      <th>areasq</th>\n",
       "      <th>type of area</th>\n",
       "      <th>floor level</th>\n",
       "      <th>...</th>\n",
       "      <th>postal district_25.0</th>\n",
       "      <th>postal district_26.0</th>\n",
       "      <th>postal district_27.0</th>\n",
       "      <th>postal district_28.0</th>\n",
       "      <th>type_Detached</th>\n",
       "      <th>type_Semi-detached</th>\n",
       "      <th>type_Terrace</th>\n",
       "      <th>type of sale_New Sale</th>\n",
       "      <th>type of sale_Resale</th>\n",
       "      <th>type of sale_Sub Sale</th>\n",
       "    </tr>\n",
       "  </thead>\n",
       "  <tbody>\n",
       "    <tr>\n",
       "      <th>0</th>\n",
       "      <td>0</td>\n",
       "      <td>LANDED HOUSING DEVELOPMENT</td>\n",
       "      <td>PEARL ISLAND</td>\n",
       "      <td>86</td>\n",
       "      <td>1.0</td>\n",
       "      <td>16550000.0</td>\n",
       "      <td>-</td>\n",
       "      <td>8940.0</td>\n",
       "      <td>Land</td>\n",
       "      <td>-</td>\n",
       "      <td>...</td>\n",
       "      <td>0</td>\n",
       "      <td>0</td>\n",
       "      <td>0</td>\n",
       "      <td>0</td>\n",
       "      <td>1</td>\n",
       "      <td>0</td>\n",
       "      <td>0</td>\n",
       "      <td>0</td>\n",
       "      <td>1</td>\n",
       "      <td>0</td>\n",
       "    </tr>\n",
       "    <tr>\n",
       "      <th>1</th>\n",
       "      <td>1</td>\n",
       "      <td>LANDED HOUSING DEVELOPMENT</td>\n",
       "      <td>MERRYN ROAD</td>\n",
       "      <td>999</td>\n",
       "      <td>1.0</td>\n",
       "      <td>16550000.0</td>\n",
       "      <td>-</td>\n",
       "      <td>8878.0</td>\n",
       "      <td>Land</td>\n",
       "      <td>-</td>\n",
       "      <td>...</td>\n",
       "      <td>0</td>\n",
       "      <td>0</td>\n",
       "      <td>0</td>\n",
       "      <td>0</td>\n",
       "      <td>1</td>\n",
       "      <td>0</td>\n",
       "      <td>0</td>\n",
       "      <td>0</td>\n",
       "      <td>1</td>\n",
       "      <td>0</td>\n",
       "    </tr>\n",
       "    <tr>\n",
       "      <th>2</th>\n",
       "      <td>2</td>\n",
       "      <td>LANDED HOUSING DEVELOPMENT</td>\n",
       "      <td>COVE DRIVE</td>\n",
       "      <td>85</td>\n",
       "      <td>1.0</td>\n",
       "      <td>16500000.0</td>\n",
       "      <td>-</td>\n",
       "      <td>7281.0</td>\n",
       "      <td>Land</td>\n",
       "      <td>-</td>\n",
       "      <td>...</td>\n",
       "      <td>0</td>\n",
       "      <td>0</td>\n",
       "      <td>0</td>\n",
       "      <td>0</td>\n",
       "      <td>1</td>\n",
       "      <td>0</td>\n",
       "      <td>0</td>\n",
       "      <td>0</td>\n",
       "      <td>1</td>\n",
       "      <td>0</td>\n",
       "    </tr>\n",
       "    <tr>\n",
       "      <th>3</th>\n",
       "      <td>3</td>\n",
       "      <td>LANDED HOUSING DEVELOPMENT</td>\n",
       "      <td>WALTON ROAD</td>\n",
       "      <td>999</td>\n",
       "      <td>1.0</td>\n",
       "      <td>16300000.0</td>\n",
       "      <td>-</td>\n",
       "      <td>8673.0</td>\n",
       "      <td>Land</td>\n",
       "      <td>-</td>\n",
       "      <td>...</td>\n",
       "      <td>0</td>\n",
       "      <td>0</td>\n",
       "      <td>0</td>\n",
       "      <td>0</td>\n",
       "      <td>1</td>\n",
       "      <td>0</td>\n",
       "      <td>0</td>\n",
       "      <td>0</td>\n",
       "      <td>1</td>\n",
       "      <td>0</td>\n",
       "    </tr>\n",
       "    <tr>\n",
       "      <th>4</th>\n",
       "      <td>4</td>\n",
       "      <td>SANNY PARK</td>\n",
       "      <td>MERRYN ROAD</td>\n",
       "      <td>999</td>\n",
       "      <td>1.0</td>\n",
       "      <td>16300000.0</td>\n",
       "      <td>-</td>\n",
       "      <td>9064.0</td>\n",
       "      <td>Land</td>\n",
       "      <td>-</td>\n",
       "      <td>...</td>\n",
       "      <td>0</td>\n",
       "      <td>0</td>\n",
       "      <td>0</td>\n",
       "      <td>0</td>\n",
       "      <td>1</td>\n",
       "      <td>0</td>\n",
       "      <td>0</td>\n",
       "      <td>0</td>\n",
       "      <td>1</td>\n",
       "      <td>0</td>\n",
       "    </tr>\n",
       "  </tbody>\n",
       "</table>\n",
       "<p>5 rows × 45 columns</p>\n",
       "</div>"
      ],
      "text/plain": [
       "   index                project name   street name  tenure  no. of units  \\\n",
       "0      0  LANDED HOUSING DEVELOPMENT  PEARL ISLAND      86           1.0   \n",
       "1      1  LANDED HOUSING DEVELOPMENT   MERRYN ROAD     999           1.0   \n",
       "2      2  LANDED HOUSING DEVELOPMENT    COVE DRIVE      85           1.0   \n",
       "3      3  LANDED HOUSING DEVELOPMENT   WALTON ROAD     999           1.0   \n",
       "4      4                  SANNY PARK   MERRYN ROAD     999           1.0   \n",
       "\n",
       "        price nett price  areasq type of area floor level  ...  \\\n",
       "0  16550000.0          -  8940.0         Land           -  ...   \n",
       "1  16550000.0          -  8878.0         Land           -  ...   \n",
       "2  16500000.0          -  7281.0         Land           -  ...   \n",
       "3  16300000.0          -  8673.0         Land           -  ...   \n",
       "4  16300000.0          -  9064.0         Land           -  ...   \n",
       "\n",
       "   postal district_25.0 postal district_26.0  postal district_27.0  \\\n",
       "0                     0                    0                     0   \n",
       "1                     0                    0                     0   \n",
       "2                     0                    0                     0   \n",
       "3                     0                    0                     0   \n",
       "4                     0                    0                     0   \n",
       "\n",
       "   postal district_28.0  type_Detached  type_Semi-detached  type_Terrace  \\\n",
       "0                     0              1                   0             0   \n",
       "1                     0              1                   0             0   \n",
       "2                     0              1                   0             0   \n",
       "3                     0              1                   0             0   \n",
       "4                     0              1                   0             0   \n",
       "\n",
       "   type of sale_New Sale  type of sale_Resale  type of sale_Sub Sale  \n",
       "0                      0                    1                      0  \n",
       "1                      0                    1                      0  \n",
       "2                      0                    1                      0  \n",
       "3                      0                    1                      0  \n",
       "4                      0                    1                      0  \n",
       "\n",
       "[5 rows x 45 columns]"
      ]
     },
     "execution_count": 63,
     "metadata": {},
     "output_type": "execute_result"
    }
   ],
   "source": [
    "merged_house_data.head()"
   ]
  },
  {
   "cell_type": "code",
   "execution_count": 64,
   "id": "b062a855",
   "metadata": {},
   "outputs": [
    {
     "data": {
      "text/plain": [
       "index                                           242\n",
       "project name             LANDED HOUSING DEVELOPMENT\n",
       "street name                          GARLICK AVENUE\n",
       "tenure                                          999\n",
       "no. of units                                    1.0\n",
       "price                                    11300000.0\n",
       "nett price                                        -\n",
       "areasq                                       9222.0\n",
       "type of area                                   Land\n",
       "floor level                                       -\n",
       "unit price psf                               1225.0\n",
       "date of sale                               Apr-2021\n",
       "market segment_CCR                                1\n",
       "market segment_OCR                                0\n",
       "market segment_RCR                                0\n",
       "postal district_2.0                               0\n",
       "postal district_3.0                               0\n",
       "postal district_4.0                               0\n",
       "postal district_5.0                               0\n",
       "postal district_8.0                               0\n",
       "postal district_9.0                               0\n",
       "postal district_10.0                              1\n",
       "postal district_11.0                              0\n",
       "postal district_12.0                              0\n",
       "postal district_13.0                              0\n",
       "postal district_14.0                              0\n",
       "postal district_15.0                              0\n",
       "postal district_16.0                              0\n",
       "postal district_17.0                              0\n",
       "postal district_18.0                              0\n",
       "postal district_19.0                              0\n",
       "postal district_20.0                              0\n",
       "postal district_21.0                              0\n",
       "postal district_22.0                              0\n",
       "postal district_23.0                              0\n",
       "postal district_25.0                              0\n",
       "postal district_26.0                              0\n",
       "postal district_27.0                              0\n",
       "postal district_28.0                              0\n",
       "type_Detached                                     1\n",
       "type_Semi-detached                                0\n",
       "type_Terrace                                      0\n",
       "type of sale_New Sale                             0\n",
       "type of sale_Resale                               1\n",
       "type of sale_Sub Sale                             0\n",
       "Name: 242, dtype: object"
      ]
     },
     "execution_count": 64,
     "metadata": {},
     "output_type": "execute_result"
    }
   ],
   "source": [
    "### removing another 243 rows from top and the lowest price housing (5% we remove 243 rows above)\n",
    "\n",
    "merged_house_data.iloc[242]\n",
    "\n",
    "# price is stated as 11300000, to be removed"
   ]
  },
  {
   "cell_type": "code",
   "execution_count": 65,
   "id": "b25ea77c",
   "metadata": {},
   "outputs": [
    {
     "data": {
      "text/plain": [
       "index                             8996\n",
       "project name              THE RIVERINA\n",
       "street name              RIVERINA VIEW\n",
       "tenure                              74\n",
       "no. of units                       1.0\n",
       "price                        1648000.0\n",
       "nett price                           -\n",
       "areasq                          1615.0\n",
       "type of area                      Land\n",
       "floor level                          -\n",
       "unit price psf                  1021.0\n",
       "date of sale                  Nov-2020\n",
       "market segment_CCR                   0\n",
       "market segment_OCR                   1\n",
       "market segment_RCR                   0\n",
       "postal district_2.0                  0\n",
       "postal district_3.0                  0\n",
       "postal district_4.0                  0\n",
       "postal district_5.0                  0\n",
       "postal district_8.0                  0\n",
       "postal district_9.0                  0\n",
       "postal district_10.0                 0\n",
       "postal district_11.0                 0\n",
       "postal district_12.0                 0\n",
       "postal district_13.0                 0\n",
       "postal district_14.0                 0\n",
       "postal district_15.0                 0\n",
       "postal district_16.0                 0\n",
       "postal district_17.0                 0\n",
       "postal district_18.0                 1\n",
       "postal district_19.0                 0\n",
       "postal district_20.0                 0\n",
       "postal district_21.0                 0\n",
       "postal district_22.0                 0\n",
       "postal district_23.0                 0\n",
       "postal district_25.0                 0\n",
       "postal district_26.0                 0\n",
       "postal district_27.0                 0\n",
       "postal district_28.0                 0\n",
       "type_Detached                        0\n",
       "type_Semi-detached                   0\n",
       "type_Terrace                         1\n",
       "type of sale_New Sale                0\n",
       "type of sale_Resale                  1\n",
       "type of sale_Sub Sale                0\n",
       "Name: 8996, dtype: object"
      ]
     },
     "execution_count": 65,
     "metadata": {},
     "output_type": "execute_result"
    }
   ],
   "source": [
    "#counting the lowest rows is 9287 - 243 = 8997\n",
    "merged_house_data.iloc[8996]\n",
    "# price is stated as 1648000, to be removed"
   ]
  },
  {
   "cell_type": "code",
   "execution_count": 66,
   "id": "84e422bd",
   "metadata": {},
   "outputs": [],
   "source": [
    "# save as merged_house_10 for 10% removal of dataset\n",
    "merged_house_10 = merged_house_data.copy(deep = True)"
   ]
  },
  {
   "cell_type": "code",
   "execution_count": 67,
   "id": "2d76010c",
   "metadata": {},
   "outputs": [],
   "source": [
    "merged_house_10 = merged_house_10[merged_house_10['price'] < 11300000]\n",
    "merged_house_10 = merged_house_10[merged_house_10['price'] > 1648000]"
   ]
  },
  {
   "cell_type": "code",
   "execution_count": 68,
   "id": "c108614f",
   "metadata": {},
   "outputs": [
    {
     "data": {
      "text/plain": [
       "(8753, 45)"
      ]
     },
     "execution_count": 68,
     "metadata": {},
     "output_type": "execute_result"
    }
   ],
   "source": [
    "merged_house_10.shape"
   ]
  },
  {
   "cell_type": "code",
   "execution_count": 69,
   "id": "73db8ac7",
   "metadata": {},
   "outputs": [],
   "source": [
    "# to rerrange the index\n",
    "merged_house_10.reset_index(drop = True, inplace = True)\n",
    "merged_house_10.drop(['index'], axis=1, inplace = True)\n",
    "merged_house_10.reset_index(drop = False , inplace = True)"
   ]
  },
  {
   "cell_type": "markdown",
   "id": "8e98c1c1",
   "metadata": {},
   "source": [
    "### For all 3 dataset, (from left to right), original data, removal of 5% outliers and removal of 10% outliers, scatterplot and histogram"
   ]
  },
  {
   "cell_type": "code",
   "execution_count": 70,
   "id": "596b1d39",
   "metadata": {},
   "outputs": [
    {
     "data": {
      "text/plain": [
       "<matplotlib.lines.Line2D at 0x2ec15a21460>"
      ]
     },
     "execution_count": 70,
     "metadata": {},
     "output_type": "execute_result"
    },
    {
     "data": {
      "image/png": "[encoded data removed]",
      "text/plain": [
       "<Figure size 720x432 with 3 Axes>"
      ]
     },
     "metadata": {},
     "output_type": "display_data"
    }
   ],
   "source": [
    "plt.figure(figsize=(10,6))\n",
    "plt.subplot(1,3,1)\n",
    "sns.scatterplot(y = merged_house['price'], x = merged_house['tenure'])\n",
    "plt.axvline(x=99, color = 'red')\n",
    "\n",
    "\n",
    "plt.subplot(1,3,2)\n",
    "sns.scatterplot(y = merged_house_clean['price'], x = merged_house_clean['tenure'])\n",
    "plt.axvline(x=99, color = 'red')\n",
    "\n",
    "plt.subplot(1,3,3)\n",
    "sns.scatterplot(y = merged_house_10['price'], x = merged_house_10['tenure'])\n",
    "plt.axvline(x=99, color = 'red')\n",
    "\n",
    "#when we compare the y axis on price, dataset is more evenly distributed"
   ]
  },
  {
   "cell_type": "code",
   "execution_count": 71,
   "id": "91931e40",
   "metadata": {},
   "outputs": [
    {
     "data": {
      "text/plain": [
       "Text(0.5, 0, 'no. of house')"
      ]
     },
     "execution_count": 71,
     "metadata": {},
     "output_type": "execute_result"
    },
    {
     "data": {
      "image/png": "[encoded data removed]",
      "text/plain": [
       "<Figure size 720x432 with 3 Axes>"
      ]
     },
     "metadata": {},
     "output_type": "display_data"
    }
   ],
   "source": [
    "plt.figure(figsize=(10,6))\n",
    "plt.subplot(1,3,1)\n",
    "price = merged_house_tenure['price']\n",
    "plt.hist(price, bins =50)\n",
    "plt.ylabel('Price')\n",
    "plt.xlabel(\"no. of house\")\n",
    "\n",
    "plt.subplot(1,3,2)\n",
    "price = merged_house_clean['price']\n",
    "plt.hist(price, bins =50)\n",
    "plt.ylabel('Price')\n",
    "plt.xlabel(\"no. of house\")\n",
    "\n",
    "plt.subplot(1,3,3)\n",
    "price = merged_house_10['price']\n",
    "plt.hist(price, bins =50)\n",
    "plt.ylabel('Price')\n",
    "plt.xlabel(\"no. of house\")\n",
    "\n",
    "#when we compare the x axis no. of houses, dataset is more evenly distributed, the price also decrease as well making the\n",
    "#histogram spread out more evenly"
   ]
  },
  {
   "cell_type": "markdown",
   "id": "2e6b7b61",
   "metadata": {},
   "source": [
    "### 10% reduction model to be used for modelling"
   ]
  },
  {
   "cell_type": "code",
   "execution_count": 72,
   "id": "b831a57f",
   "metadata": {},
   "outputs": [],
   "source": [
    "merged_house_10.to_csv('./dataset_asof_051121/merged_house_10.csv', index=False)"
   ]
  },
  {
   "cell_type": "markdown",
   "id": "1162dc8a",
   "metadata": {},
   "source": [
    "# Data for modelling"
   ]
  },
  {
   "cell_type": "markdown",
   "id": "e506a5a7",
   "metadata": {},
   "source": [
    "merged_house_data.to_csv('./dataset_asof_051121/merged_house_data.csv', index=False)\n",
    "merged_house_10.to_csv('./dataset_asof_051121/merged_house_10.csv', index=False)"
   ]
  }
 ],
 "metadata": {
  "kernelspec": {
   "display_name": "Python 3 (ipykernel)",
   "language": "python",
   "name": "python3"
  },
  "language_info": {
   "codemirror_mode": {
    "name": "ipython",
    "version": 3
   },
   "file_extension": ".py",
   "mimetype": "text/x-python",
   "name": "python",
   "nbconvert_exporter": "python",
   "pygments_lexer": "ipython3",
   "version": "3.8.11"
  }
 },
 "nbformat": 4,
 "nbformat_minor": 5
}
