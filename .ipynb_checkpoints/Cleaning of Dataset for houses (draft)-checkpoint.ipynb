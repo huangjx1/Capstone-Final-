{
 "cells": [
  {
   "cell_type": "markdown",
   "id": "6c51b379",
   "metadata": {},
   "source": [
    "# Problem statement: To Predict the Prices of private residential properties."
   ]
  },
  {
   "cell_type": "code",
   "execution_count": 1,
   "id": "f25d9423",
   "metadata": {},
   "outputs": [],
   "source": [
    "import pandas as pd\n",
    "import numpy as np\n",
    "import pylab\n",
    "import matplotlib.pyplot as plt\n",
    "import scipy.stats as stats\n",
    "import seaborn as sns\n",
    "import re\n",
    "import warnings"
   ]
  },
  {
   "cell_type": "code",
   "execution_count": 2,
   "id": "9ede1cb7",
   "metadata": {},
   "outputs": [],
   "source": [
    "# To clean off the errors in seaborn and matplotlib\n",
    "warnings.filterwarnings('ignore')"
   ]
  },
  {
   "cell_type": "markdown",
   "id": "7b7ce37a",
   "metadata": {},
   "source": [
    "### Importing house csv data into notebook"
   ]
  },
  {
   "cell_type": "code",
   "execution_count": 3,
   "id": "3f0fcf61",
   "metadata": {},
   "outputs": [],
   "source": [
    "house1 = pd.read_csv('./dataset_asof_051121/house1.csv',skiprows = [0])\n",
    "house2 = pd.read_csv('./dataset_asof_051121/house2.csv',skiprows = [0])\n",
    "house3 = pd.read_csv('./dataset_asof_051121/house3.csv',skiprows = [0])\n",
    "house4 = pd.read_csv('./dataset_asof_051121/house4.csv',skiprows = [0])\n",
    "house5 = pd.read_csv('./dataset_asof_051121/house5.csv',skiprows = [0])\n",
    "house6 = pd.read_csv('./dataset_asof_051121/house6.csv',skiprows = [0])"
   ]
  },
  {
   "cell_type": "markdown",
   "id": "307eaf00",
   "metadata": {},
   "source": [
    "### Looking at dataset imported"
   ]
  },
  {
   "cell_type": "code",
   "execution_count": 4,
   "id": "bfd35f10",
   "metadata": {},
   "outputs": [
    {
     "name": "stdout",
     "output_type": "stream",
     "text": [
      "(305, 16)\n",
      "(883, 16)\n",
      "(2578, 16)\n",
      "(3370, 16)\n",
      "(1595, 16)\n",
      "(1084, 16)\n"
     ]
    }
   ],
   "source": [
    "print(house1.shape)\n",
    "print(house2.shape)\n",
    "print(house3.shape)\n",
    "print(house4.shape)\n",
    "print(house5.shape)\n",
    "print(house6.shape)"
   ]
  },
  {
   "cell_type": "code",
   "execution_count": 5,
   "id": "e4017b3b",
   "metadata": {},
   "outputs": [
    {
     "data": {
      "text/plain": [
       "S/N                   object\n",
       "Project Name          object\n",
       "Street Name           object\n",
       "Type                  object\n",
       "Postal District      float64\n",
       "Market Segment        object\n",
       "Tenure                object\n",
       "Type of Sale          object\n",
       "No. of Units         float64\n",
       "Price ($)            float64\n",
       "Nett Price ($)        object\n",
       "Area (Sqft)          float64\n",
       "Type of Area          object\n",
       "Floor Level           object\n",
       "Unit Price ($psf)    float64\n",
       "Date of Sale          object\n",
       "dtype: object"
      ]
     },
     "execution_count": 5,
     "metadata": {},
     "output_type": "execute_result"
    }
   ],
   "source": [
    "house1.dtypes"
   ]
  },
  {
   "cell_type": "markdown",
   "id": "a32062f2",
   "metadata": {},
   "source": [
    "### Cleaning of dataset and the objects rows\n",
    "### NaN was identified in each of the the csv data (house1 - house6)"
   ]
  },
  {
   "cell_type": "code",
   "execution_count": 6,
   "id": "81409c27",
   "metadata": {},
   "outputs": [],
   "source": [
    "house1.dropna(axis = 0, inplace = True)\n",
    "house2.dropna(axis = 0, inplace = True)\n",
    "house3.dropna(axis = 0, inplace = True)\n",
    "house4.dropna(axis = 0, inplace = True)\n",
    "house5.dropna(axis = 0, inplace = True)\n",
    "house6.dropna(axis = 0, inplace = True)"
   ]
  },
  {
   "cell_type": "code",
   "execution_count": 7,
   "id": "3e97ea4f",
   "metadata": {},
   "outputs": [
    {
     "name": "stdout",
     "output_type": "stream",
     "text": [
      "(291, 16)\n",
      "(869, 16)\n",
      "(2563, 16)\n",
      "(3354, 16)\n",
      "(1581, 16)\n",
      "(1070, 16)\n"
     ]
    }
   ],
   "source": [
    "# to check with house1 - house6 shape again\n",
    "\n",
    "print(house1.shape)\n",
    "print(house2.shape)\n",
    "print(house3.shape)\n",
    "print(house4.shape)\n",
    "print(house5.shape)\n",
    "print(house6.shape)\n",
    "\n",
    "# The shape indicates that NaN rows has been removed"
   ]
  },
  {
   "cell_type": "code",
   "execution_count": 8,
   "id": "0f7ec6d7",
   "metadata": {},
   "outputs": [
    {
     "name": "stdout",
     "output_type": "stream",
     "text": [
      "S/N                  0\n",
      "Project Name         0\n",
      "Street Name          0\n",
      "Type                 0\n",
      "Postal District      0\n",
      "Market Segment       0\n",
      "Tenure               0\n",
      "Type of Sale         0\n",
      "No. of Units         0\n",
      "Price ($)            0\n",
      "Nett Price ($)       0\n",
      "Area (Sqft)          0\n",
      "Type of Area         0\n",
      "Floor Level          0\n",
      "Unit Price ($psf)    0\n",
      "Date of Sale         0\n",
      "dtype: int64\n"
     ]
    }
   ],
   "source": [
    "print(house1.isnull().sum())"
   ]
  },
  {
   "cell_type": "code",
   "execution_count": 9,
   "id": "f0d50e77",
   "metadata": {},
   "outputs": [
    {
     "data": {
      "text/html": [
       "<div>\n",
       "<style scoped>\n",
       "    .dataframe tbody tr th:only-of-type {\n",
       "        vertical-align: middle;\n",
       "    }\n",
       "\n",
       "    .dataframe tbody tr th {\n",
       "        vertical-align: top;\n",
       "    }\n",
       "\n",
       "    .dataframe thead th {\n",
       "        text-align: right;\n",
       "    }\n",
       "</style>\n",
       "<table border=\"1\" class=\"dataframe\">\n",
       "  <thead>\n",
       "    <tr style=\"text-align: right;\">\n",
       "      <th></th>\n",
       "      <th>S/N</th>\n",
       "      <th>Project Name</th>\n",
       "      <th>Street Name</th>\n",
       "      <th>Type</th>\n",
       "      <th>Postal District</th>\n",
       "      <th>Market Segment</th>\n",
       "      <th>Tenure</th>\n",
       "      <th>Type of Sale</th>\n",
       "      <th>No. of Units</th>\n",
       "      <th>Price ($)</th>\n",
       "      <th>Nett Price ($)</th>\n",
       "      <th>Area (Sqft)</th>\n",
       "      <th>Type of Area</th>\n",
       "      <th>Floor Level</th>\n",
       "      <th>Unit Price ($psf)</th>\n",
       "      <th>Date of Sale</th>\n",
       "    </tr>\n",
       "  </thead>\n",
       "  <tbody>\n",
       "    <tr>\n",
       "      <th>0</th>\n",
       "      <td>1</td>\n",
       "      <td>LANDED HOUSING DEVELOPMENT</td>\n",
       "      <td>PASIR PANJANG DRIVE</td>\n",
       "      <td>Terrace</td>\n",
       "      <td>5.0</td>\n",
       "      <td>RCR</td>\n",
       "      <td>Freehold</td>\n",
       "      <td>Resale</td>\n",
       "      <td>1.0</td>\n",
       "      <td>3660000.0</td>\n",
       "      <td>-</td>\n",
       "      <td>2566.0</td>\n",
       "      <td>Land</td>\n",
       "      <td>-</td>\n",
       "      <td>1426.0</td>\n",
       "      <td>Oct-2021</td>\n",
       "    </tr>\n",
       "  </tbody>\n",
       "</table>\n",
       "</div>"
      ],
      "text/plain": [
       "  S/N                Project Name          Street Name     Type  \\\n",
       "0   1  LANDED HOUSING DEVELOPMENT  PASIR PANJANG DRIVE  Terrace   \n",
       "\n",
       "   Postal District Market Segment    Tenure Type of Sale  No. of Units  \\\n",
       "0              5.0            RCR  Freehold       Resale           1.0   \n",
       "\n",
       "   Price ($) Nett Price ($)  Area (Sqft) Type of Area Floor Level  \\\n",
       "0  3660000.0              -       2566.0         Land           -   \n",
       "\n",
       "   Unit Price ($psf) Date of Sale  \n",
       "0             1426.0     Oct-2021  "
      ]
     },
     "execution_count": 9,
     "metadata": {},
     "output_type": "execute_result"
    }
   ],
   "source": [
    "house1.head(1)"
   ]
  },
  {
   "cell_type": "code",
   "execution_count": 10,
   "id": "f95af758",
   "metadata": {},
   "outputs": [
    {
     "data": {
      "text/html": [
       "<div>\n",
       "<style scoped>\n",
       "    .dataframe tbody tr th:only-of-type {\n",
       "        vertical-align: middle;\n",
       "    }\n",
       "\n",
       "    .dataframe tbody tr th {\n",
       "        vertical-align: top;\n",
       "    }\n",
       "\n",
       "    .dataframe thead th {\n",
       "        text-align: right;\n",
       "    }\n",
       "</style>\n",
       "<table border=\"1\" class=\"dataframe\">\n",
       "  <thead>\n",
       "    <tr style=\"text-align: right;\">\n",
       "      <th></th>\n",
       "      <th>S/N</th>\n",
       "      <th>Project Name</th>\n",
       "      <th>Street Name</th>\n",
       "      <th>Type</th>\n",
       "      <th>Postal District</th>\n",
       "      <th>Market Segment</th>\n",
       "      <th>Tenure</th>\n",
       "      <th>Type of Sale</th>\n",
       "      <th>No. of Units</th>\n",
       "      <th>Price ($)</th>\n",
       "      <th>Nett Price ($)</th>\n",
       "      <th>Area (Sqft)</th>\n",
       "      <th>Type of Area</th>\n",
       "      <th>Floor Level</th>\n",
       "      <th>Unit Price ($psf)</th>\n",
       "      <th>Date of Sale</th>\n",
       "    </tr>\n",
       "  </thead>\n",
       "  <tbody>\n",
       "    <tr>\n",
       "      <th>290</th>\n",
       "      <td>291</td>\n",
       "      <td>CHWEE CHIAN VIEW</td>\n",
       "      <td>CHWEE CHIAN VIEW</td>\n",
       "      <td>Terrace</td>\n",
       "      <td>5.0</td>\n",
       "      <td>RCR</td>\n",
       "      <td>Freehold</td>\n",
       "      <td>Resale</td>\n",
       "      <td>1.0</td>\n",
       "      <td>2310000.0</td>\n",
       "      <td>-</td>\n",
       "      <td>1803.0</td>\n",
       "      <td>Land</td>\n",
       "      <td>-</td>\n",
       "      <td>1281.0</td>\n",
       "      <td>Nov-2016</td>\n",
       "    </tr>\n",
       "  </tbody>\n",
       "</table>\n",
       "</div>"
      ],
      "text/plain": [
       "     S/N      Project Name       Street Name     Type  Postal District  \\\n",
       "290  291  CHWEE CHIAN VIEW  CHWEE CHIAN VIEW  Terrace              5.0   \n",
       "\n",
       "    Market Segment    Tenure Type of Sale  No. of Units  Price ($)  \\\n",
       "290            RCR  Freehold       Resale           1.0  2310000.0   \n",
       "\n",
       "    Nett Price ($)  Area (Sqft) Type of Area Floor Level  Unit Price ($psf)  \\\n",
       "290              -       1803.0         Land           -             1281.0   \n",
       "\n",
       "    Date of Sale  \n",
       "290     Nov-2016  "
      ]
     },
     "execution_count": 10,
     "metadata": {},
     "output_type": "execute_result"
    }
   ],
   "source": [
    "house1.tail(1)"
   ]
  },
  {
   "cell_type": "markdown",
   "id": "517465cf",
   "metadata": {},
   "source": [
    "### Merging of csv dataset"
   ]
  },
  {
   "cell_type": "code",
   "execution_count": 11,
   "id": "829dff16",
   "metadata": {},
   "outputs": [],
   "source": [
    "merged_house = pd.concat([house1, house2, house3, house4, house5, house6])\n",
    "\n",
    "# to note that index in the csv data will go back to 1 after each concat"
   ]
  },
  {
   "cell_type": "code",
   "execution_count": 12,
   "id": "173ea19d",
   "metadata": {},
   "outputs": [
    {
     "data": {
      "text/plain": [
       "(9728, 16)"
      ]
     },
     "execution_count": 12,
     "metadata": {},
     "output_type": "execute_result"
    }
   ],
   "source": [
    "merged_house.shape"
   ]
  },
  {
   "cell_type": "code",
   "execution_count": 13,
   "id": "70c209d8",
   "metadata": {},
   "outputs": [
    {
     "data": {
      "text/html": [
       "<div>\n",
       "<style scoped>\n",
       "    .dataframe tbody tr th:only-of-type {\n",
       "        vertical-align: middle;\n",
       "    }\n",
       "\n",
       "    .dataframe tbody tr th {\n",
       "        vertical-align: top;\n",
       "    }\n",
       "\n",
       "    .dataframe thead th {\n",
       "        text-align: right;\n",
       "    }\n",
       "</style>\n",
       "<table border=\"1\" class=\"dataframe\">\n",
       "  <thead>\n",
       "    <tr style=\"text-align: right;\">\n",
       "      <th></th>\n",
       "      <th>S/N</th>\n",
       "      <th>Project Name</th>\n",
       "      <th>Street Name</th>\n",
       "      <th>Type</th>\n",
       "      <th>Postal District</th>\n",
       "      <th>Market Segment</th>\n",
       "      <th>Tenure</th>\n",
       "      <th>Type of Sale</th>\n",
       "      <th>No. of Units</th>\n",
       "      <th>Price ($)</th>\n",
       "      <th>Nett Price ($)</th>\n",
       "      <th>Area (Sqft)</th>\n",
       "      <th>Type of Area</th>\n",
       "      <th>Floor Level</th>\n",
       "      <th>Unit Price ($psf)</th>\n",
       "      <th>Date of Sale</th>\n",
       "    </tr>\n",
       "  </thead>\n",
       "  <tbody>\n",
       "    <tr>\n",
       "      <th>1069</th>\n",
       "      <td>1070</td>\n",
       "      <td>LANDED HOUSING DEVELOPMENT</td>\n",
       "      <td>NIM ROAD</td>\n",
       "      <td>Detached</td>\n",
       "      <td>28.0</td>\n",
       "      <td>OCR</td>\n",
       "      <td>Freehold</td>\n",
       "      <td>Resale</td>\n",
       "      <td>1.0</td>\n",
       "      <td>10300000.0</td>\n",
       "      <td>-</td>\n",
       "      <td>9955.0</td>\n",
       "      <td>Land</td>\n",
       "      <td>-</td>\n",
       "      <td>1035.0</td>\n",
       "      <td>Nov-2016</td>\n",
       "    </tr>\n",
       "  </tbody>\n",
       "</table>\n",
       "</div>"
      ],
      "text/plain": [
       "       S/N                Project Name Street Name      Type  Postal District  \\\n",
       "1069  1070  LANDED HOUSING DEVELOPMENT    NIM ROAD  Detached             28.0   \n",
       "\n",
       "     Market Segment    Tenure Type of Sale  No. of Units   Price ($)  \\\n",
       "1069            OCR  Freehold       Resale           1.0  10300000.0   \n",
       "\n",
       "     Nett Price ($)  Area (Sqft) Type of Area Floor Level  Unit Price ($psf)  \\\n",
       "1069              -       9955.0         Land           -             1035.0   \n",
       "\n",
       "     Date of Sale  \n",
       "1069     Nov-2016  "
      ]
     },
     "execution_count": 13,
     "metadata": {},
     "output_type": "execute_result"
    }
   ],
   "source": [
    "merged_house.tail(1)\n",
    "\n",
    "# S/N ends at 1069 when there is 9728 rows"
   ]
  },
  {
   "cell_type": "code",
   "execution_count": 14,
   "id": "65630483",
   "metadata": {},
   "outputs": [],
   "source": [
    "merged_house.reset_index(drop = True, inplace = True)"
   ]
  },
  {
   "cell_type": "code",
   "execution_count": 15,
   "id": "a11649cf",
   "metadata": {},
   "outputs": [],
   "source": [
    "merged_house.drop(['S/N'], axis=1, inplace = True)"
   ]
  },
  {
   "cell_type": "code",
   "execution_count": 16,
   "id": "5c3fd196",
   "metadata": {},
   "outputs": [
    {
     "data": {
      "text/html": [
       "<div>\n",
       "<style scoped>\n",
       "    .dataframe tbody tr th:only-of-type {\n",
       "        vertical-align: middle;\n",
       "    }\n",
       "\n",
       "    .dataframe tbody tr th {\n",
       "        vertical-align: top;\n",
       "    }\n",
       "\n",
       "    .dataframe thead th {\n",
       "        text-align: right;\n",
       "    }\n",
       "</style>\n",
       "<table border=\"1\" class=\"dataframe\">\n",
       "  <thead>\n",
       "    <tr style=\"text-align: right;\">\n",
       "      <th></th>\n",
       "      <th>Project Name</th>\n",
       "      <th>Street Name</th>\n",
       "      <th>Type</th>\n",
       "      <th>Postal District</th>\n",
       "      <th>Market Segment</th>\n",
       "      <th>Tenure</th>\n",
       "      <th>Type of Sale</th>\n",
       "      <th>No. of Units</th>\n",
       "      <th>Price ($)</th>\n",
       "      <th>Nett Price ($)</th>\n",
       "      <th>Area (Sqft)</th>\n",
       "      <th>Type of Area</th>\n",
       "      <th>Floor Level</th>\n",
       "      <th>Unit Price ($psf)</th>\n",
       "      <th>Date of Sale</th>\n",
       "    </tr>\n",
       "  </thead>\n",
       "  <tbody>\n",
       "    <tr>\n",
       "      <th>9723</th>\n",
       "      <td>MIMOSA TERRACE</td>\n",
       "      <td>MIMOSA VIEW</td>\n",
       "      <td>Terrace</td>\n",
       "      <td>28.0</td>\n",
       "      <td>OCR</td>\n",
       "      <td>Freehold</td>\n",
       "      <td>Resale</td>\n",
       "      <td>1.0</td>\n",
       "      <td>2330000.0</td>\n",
       "      <td>-</td>\n",
       "      <td>1616.0</td>\n",
       "      <td>Land</td>\n",
       "      <td>-</td>\n",
       "      <td>1442.0</td>\n",
       "      <td>Nov-2016</td>\n",
       "    </tr>\n",
       "    <tr>\n",
       "      <th>9724</th>\n",
       "      <td>SARACA VILLAS</td>\n",
       "      <td>SARACA TERRACE</td>\n",
       "      <td>Terrace</td>\n",
       "      <td>28.0</td>\n",
       "      <td>OCR</td>\n",
       "      <td>99 yrs lease commencing from 1997</td>\n",
       "      <td>Resale</td>\n",
       "      <td>1.0</td>\n",
       "      <td>1675000.0</td>\n",
       "      <td>-</td>\n",
       "      <td>2410.0</td>\n",
       "      <td>Land</td>\n",
       "      <td>-</td>\n",
       "      <td>695.0</td>\n",
       "      <td>Nov-2016</td>\n",
       "    </tr>\n",
       "    <tr>\n",
       "      <th>9725</th>\n",
       "      <td>GERALD GARDENS</td>\n",
       "      <td>GERALD CRESCENT</td>\n",
       "      <td>Terrace</td>\n",
       "      <td>28.0</td>\n",
       "      <td>OCR</td>\n",
       "      <td>999 yrs lease commencing from 1879</td>\n",
       "      <td>Resale</td>\n",
       "      <td>1.0</td>\n",
       "      <td>2980000.0</td>\n",
       "      <td>-</td>\n",
       "      <td>4192.0</td>\n",
       "      <td>Land</td>\n",
       "      <td>-</td>\n",
       "      <td>711.0</td>\n",
       "      <td>Nov-2016</td>\n",
       "    </tr>\n",
       "    <tr>\n",
       "      <th>9726</th>\n",
       "      <td>LANDED HOUSING DEVELOPMENT</td>\n",
       "      <td>JALAN SANKAM</td>\n",
       "      <td>Semi-detached</td>\n",
       "      <td>27.0</td>\n",
       "      <td>OCR</td>\n",
       "      <td>Freehold</td>\n",
       "      <td>Resale</td>\n",
       "      <td>1.0</td>\n",
       "      <td>1750000.0</td>\n",
       "      <td>-</td>\n",
       "      <td>2099.0</td>\n",
       "      <td>Land</td>\n",
       "      <td>-</td>\n",
       "      <td>834.0</td>\n",
       "      <td>Nov-2016</td>\n",
       "    </tr>\n",
       "    <tr>\n",
       "      <th>9727</th>\n",
       "      <td>LANDED HOUSING DEVELOPMENT</td>\n",
       "      <td>NIM ROAD</td>\n",
       "      <td>Detached</td>\n",
       "      <td>28.0</td>\n",
       "      <td>OCR</td>\n",
       "      <td>Freehold</td>\n",
       "      <td>Resale</td>\n",
       "      <td>1.0</td>\n",
       "      <td>10300000.0</td>\n",
       "      <td>-</td>\n",
       "      <td>9955.0</td>\n",
       "      <td>Land</td>\n",
       "      <td>-</td>\n",
       "      <td>1035.0</td>\n",
       "      <td>Nov-2016</td>\n",
       "    </tr>\n",
       "  </tbody>\n",
       "</table>\n",
       "</div>"
      ],
      "text/plain": [
       "                    Project Name      Street Name           Type  \\\n",
       "9723              MIMOSA TERRACE      MIMOSA VIEW        Terrace   \n",
       "9724               SARACA VILLAS   SARACA TERRACE        Terrace   \n",
       "9725              GERALD GARDENS  GERALD CRESCENT        Terrace   \n",
       "9726  LANDED HOUSING DEVELOPMENT     JALAN SANKAM  Semi-detached   \n",
       "9727  LANDED HOUSING DEVELOPMENT         NIM ROAD       Detached   \n",
       "\n",
       "      Postal District Market Segment                              Tenure  \\\n",
       "9723             28.0            OCR                            Freehold   \n",
       "9724             28.0            OCR   99 yrs lease commencing from 1997   \n",
       "9725             28.0            OCR  999 yrs lease commencing from 1879   \n",
       "9726             27.0            OCR                            Freehold   \n",
       "9727             28.0            OCR                            Freehold   \n",
       "\n",
       "     Type of Sale  No. of Units   Price ($) Nett Price ($)  Area (Sqft)  \\\n",
       "9723       Resale           1.0   2330000.0              -       1616.0   \n",
       "9724       Resale           1.0   1675000.0              -       2410.0   \n",
       "9725       Resale           1.0   2980000.0              -       4192.0   \n",
       "9726       Resale           1.0   1750000.0              -       2099.0   \n",
       "9727       Resale           1.0  10300000.0              -       9955.0   \n",
       "\n",
       "     Type of Area Floor Level  Unit Price ($psf) Date of Sale  \n",
       "9723         Land           -             1442.0     Nov-2016  \n",
       "9724         Land           -              695.0     Nov-2016  \n",
       "9725         Land           -              711.0     Nov-2016  \n",
       "9726         Land           -              834.0     Nov-2016  \n",
       "9727         Land           -             1035.0     Nov-2016  "
      ]
     },
     "execution_count": 16,
     "metadata": {},
     "output_type": "execute_result"
    }
   ],
   "source": [
    "merged_house.tail()"
   ]
  },
  {
   "cell_type": "code",
   "execution_count": 17,
   "id": "c14b6047",
   "metadata": {},
   "outputs": [],
   "source": [
    "merged_house.reset_index(drop = False , inplace = True)\n",
    "\n",
    "# to replace S/N with index for numbering purposes"
   ]
  },
  {
   "cell_type": "code",
   "execution_count": 18,
   "id": "6eb5f8ee",
   "metadata": {},
   "outputs": [
    {
     "data": {
      "text/html": [
       "<div>\n",
       "<style scoped>\n",
       "    .dataframe tbody tr th:only-of-type {\n",
       "        vertical-align: middle;\n",
       "    }\n",
       "\n",
       "    .dataframe tbody tr th {\n",
       "        vertical-align: top;\n",
       "    }\n",
       "\n",
       "    .dataframe thead th {\n",
       "        text-align: right;\n",
       "    }\n",
       "</style>\n",
       "<table border=\"1\" class=\"dataframe\">\n",
       "  <thead>\n",
       "    <tr style=\"text-align: right;\">\n",
       "      <th></th>\n",
       "      <th>index</th>\n",
       "      <th>Project Name</th>\n",
       "      <th>Street Name</th>\n",
       "      <th>Type</th>\n",
       "      <th>Postal District</th>\n",
       "      <th>Market Segment</th>\n",
       "      <th>Tenure</th>\n",
       "      <th>Type of Sale</th>\n",
       "      <th>No. of Units</th>\n",
       "      <th>Price ($)</th>\n",
       "      <th>Nett Price ($)</th>\n",
       "      <th>Area (Sqft)</th>\n",
       "      <th>Type of Area</th>\n",
       "      <th>Floor Level</th>\n",
       "      <th>Unit Price ($psf)</th>\n",
       "      <th>Date of Sale</th>\n",
       "    </tr>\n",
       "  </thead>\n",
       "  <tbody>\n",
       "    <tr>\n",
       "      <th>9723</th>\n",
       "      <td>9723</td>\n",
       "      <td>MIMOSA TERRACE</td>\n",
       "      <td>MIMOSA VIEW</td>\n",
       "      <td>Terrace</td>\n",
       "      <td>28.0</td>\n",
       "      <td>OCR</td>\n",
       "      <td>Freehold</td>\n",
       "      <td>Resale</td>\n",
       "      <td>1.0</td>\n",
       "      <td>2330000.0</td>\n",
       "      <td>-</td>\n",
       "      <td>1616.0</td>\n",
       "      <td>Land</td>\n",
       "      <td>-</td>\n",
       "      <td>1442.0</td>\n",
       "      <td>Nov-2016</td>\n",
       "    </tr>\n",
       "    <tr>\n",
       "      <th>9724</th>\n",
       "      <td>9724</td>\n",
       "      <td>SARACA VILLAS</td>\n",
       "      <td>SARACA TERRACE</td>\n",
       "      <td>Terrace</td>\n",
       "      <td>28.0</td>\n",
       "      <td>OCR</td>\n",
       "      <td>99 yrs lease commencing from 1997</td>\n",
       "      <td>Resale</td>\n",
       "      <td>1.0</td>\n",
       "      <td>1675000.0</td>\n",
       "      <td>-</td>\n",
       "      <td>2410.0</td>\n",
       "      <td>Land</td>\n",
       "      <td>-</td>\n",
       "      <td>695.0</td>\n",
       "      <td>Nov-2016</td>\n",
       "    </tr>\n",
       "    <tr>\n",
       "      <th>9725</th>\n",
       "      <td>9725</td>\n",
       "      <td>GERALD GARDENS</td>\n",
       "      <td>GERALD CRESCENT</td>\n",
       "      <td>Terrace</td>\n",
       "      <td>28.0</td>\n",
       "      <td>OCR</td>\n",
       "      <td>999 yrs lease commencing from 1879</td>\n",
       "      <td>Resale</td>\n",
       "      <td>1.0</td>\n",
       "      <td>2980000.0</td>\n",
       "      <td>-</td>\n",
       "      <td>4192.0</td>\n",
       "      <td>Land</td>\n",
       "      <td>-</td>\n",
       "      <td>711.0</td>\n",
       "      <td>Nov-2016</td>\n",
       "    </tr>\n",
       "    <tr>\n",
       "      <th>9726</th>\n",
       "      <td>9726</td>\n",
       "      <td>LANDED HOUSING DEVELOPMENT</td>\n",
       "      <td>JALAN SANKAM</td>\n",
       "      <td>Semi-detached</td>\n",
       "      <td>27.0</td>\n",
       "      <td>OCR</td>\n",
       "      <td>Freehold</td>\n",
       "      <td>Resale</td>\n",
       "      <td>1.0</td>\n",
       "      <td>1750000.0</td>\n",
       "      <td>-</td>\n",
       "      <td>2099.0</td>\n",
       "      <td>Land</td>\n",
       "      <td>-</td>\n",
       "      <td>834.0</td>\n",
       "      <td>Nov-2016</td>\n",
       "    </tr>\n",
       "    <tr>\n",
       "      <th>9727</th>\n",
       "      <td>9727</td>\n",
       "      <td>LANDED HOUSING DEVELOPMENT</td>\n",
       "      <td>NIM ROAD</td>\n",
       "      <td>Detached</td>\n",
       "      <td>28.0</td>\n",
       "      <td>OCR</td>\n",
       "      <td>Freehold</td>\n",
       "      <td>Resale</td>\n",
       "      <td>1.0</td>\n",
       "      <td>10300000.0</td>\n",
       "      <td>-</td>\n",
       "      <td>9955.0</td>\n",
       "      <td>Land</td>\n",
       "      <td>-</td>\n",
       "      <td>1035.0</td>\n",
       "      <td>Nov-2016</td>\n",
       "    </tr>\n",
       "  </tbody>\n",
       "</table>\n",
       "</div>"
      ],
      "text/plain": [
       "      index                Project Name      Street Name           Type  \\\n",
       "9723   9723              MIMOSA TERRACE      MIMOSA VIEW        Terrace   \n",
       "9724   9724               SARACA VILLAS   SARACA TERRACE        Terrace   \n",
       "9725   9725              GERALD GARDENS  GERALD CRESCENT        Terrace   \n",
       "9726   9726  LANDED HOUSING DEVELOPMENT     JALAN SANKAM  Semi-detached   \n",
       "9727   9727  LANDED HOUSING DEVELOPMENT         NIM ROAD       Detached   \n",
       "\n",
       "      Postal District Market Segment                              Tenure  \\\n",
       "9723             28.0            OCR                            Freehold   \n",
       "9724             28.0            OCR   99 yrs lease commencing from 1997   \n",
       "9725             28.0            OCR  999 yrs lease commencing from 1879   \n",
       "9726             27.0            OCR                            Freehold   \n",
       "9727             28.0            OCR                            Freehold   \n",
       "\n",
       "     Type of Sale  No. of Units   Price ($) Nett Price ($)  Area (Sqft)  \\\n",
       "9723       Resale           1.0   2330000.0              -       1616.0   \n",
       "9724       Resale           1.0   1675000.0              -       2410.0   \n",
       "9725       Resale           1.0   2980000.0              -       4192.0   \n",
       "9726       Resale           1.0   1750000.0              -       2099.0   \n",
       "9727       Resale           1.0  10300000.0              -       9955.0   \n",
       "\n",
       "     Type of Area Floor Level  Unit Price ($psf) Date of Sale  \n",
       "9723         Land           -             1442.0     Nov-2016  \n",
       "9724         Land           -              695.0     Nov-2016  \n",
       "9725         Land           -              711.0     Nov-2016  \n",
       "9726         Land           -              834.0     Nov-2016  \n",
       "9727         Land           -             1035.0     Nov-2016  "
      ]
     },
     "execution_count": 18,
     "metadata": {},
     "output_type": "execute_result"
    }
   ],
   "source": [
    "merged_house.tail()"
   ]
  },
  {
   "cell_type": "markdown",
   "id": "f636e2f4",
   "metadata": {},
   "source": [
    "### Renaming columns (features of the dataframe)"
   ]
  },
  {
   "cell_type": "code",
   "execution_count": 19,
   "id": "d3eae19b",
   "metadata": {},
   "outputs": [],
   "source": [
    "merged_house.rename(columns = {\"Price ($)\":\"Price\", \"Nett Price ($)\": \"Nett Price\", \"Area (Sqft)\": \"Areasq\", \n",
    "                               \"Unit Price ($psf)\": \"Unit Price psf\"}, inplace = True)"
   ]
  },
  {
   "cell_type": "code",
   "execution_count": 20,
   "id": "a766ed94",
   "metadata": {},
   "outputs": [
    {
     "data": {
      "text/html": [
       "<div>\n",
       "<style scoped>\n",
       "    .dataframe tbody tr th:only-of-type {\n",
       "        vertical-align: middle;\n",
       "    }\n",
       "\n",
       "    .dataframe tbody tr th {\n",
       "        vertical-align: top;\n",
       "    }\n",
       "\n",
       "    .dataframe thead th {\n",
       "        text-align: right;\n",
       "    }\n",
       "</style>\n",
       "<table border=\"1\" class=\"dataframe\">\n",
       "  <thead>\n",
       "    <tr style=\"text-align: right;\">\n",
       "      <th></th>\n",
       "      <th>index</th>\n",
       "      <th>Project Name</th>\n",
       "      <th>Street Name</th>\n",
       "      <th>Type</th>\n",
       "      <th>Postal District</th>\n",
       "      <th>Market Segment</th>\n",
       "      <th>Tenure</th>\n",
       "      <th>Type of Sale</th>\n",
       "      <th>No. of Units</th>\n",
       "      <th>Price</th>\n",
       "      <th>Nett Price</th>\n",
       "      <th>Areasq</th>\n",
       "      <th>Type of Area</th>\n",
       "      <th>Floor Level</th>\n",
       "      <th>Unit Price psf</th>\n",
       "      <th>Date of Sale</th>\n",
       "    </tr>\n",
       "  </thead>\n",
       "  <tbody>\n",
       "    <tr>\n",
       "      <th>0</th>\n",
       "      <td>0</td>\n",
       "      <td>LANDED HOUSING DEVELOPMENT</td>\n",
       "      <td>PASIR PANJANG DRIVE</td>\n",
       "      <td>Terrace</td>\n",
       "      <td>5.0</td>\n",
       "      <td>RCR</td>\n",
       "      <td>Freehold</td>\n",
       "      <td>Resale</td>\n",
       "      <td>1.0</td>\n",
       "      <td>3660000.0</td>\n",
       "      <td>-</td>\n",
       "      <td>2566.0</td>\n",
       "      <td>Land</td>\n",
       "      <td>-</td>\n",
       "      <td>1426.0</td>\n",
       "      <td>Oct-2021</td>\n",
       "    </tr>\n",
       "  </tbody>\n",
       "</table>\n",
       "</div>"
      ],
      "text/plain": [
       "   index                Project Name          Street Name     Type  \\\n",
       "0      0  LANDED HOUSING DEVELOPMENT  PASIR PANJANG DRIVE  Terrace   \n",
       "\n",
       "   Postal District Market Segment    Tenure Type of Sale  No. of Units  \\\n",
       "0              5.0            RCR  Freehold       Resale           1.0   \n",
       "\n",
       "       Price Nett Price  Areasq Type of Area Floor Level  Unit Price psf  \\\n",
       "0  3660000.0          -  2566.0         Land           -          1426.0   \n",
       "\n",
       "  Date of Sale  \n",
       "0     Oct-2021  "
      ]
     },
     "execution_count": 20,
     "metadata": {},
     "output_type": "execute_result"
    }
   ],
   "source": [
    "merged_house.head(1)"
   ]
  },
  {
   "cell_type": "code",
   "execution_count": 21,
   "id": "42dfa9ca",
   "metadata": {},
   "outputs": [],
   "source": [
    "merged_house.columns = merged_house.columns.str.lower()"
   ]
  },
  {
   "cell_type": "markdown",
   "id": "b8533c31",
   "metadata": {},
   "source": [
    "### Saving of the merged_house dataframe"
   ]
  },
  {
   "cell_type": "code",
   "execution_count": 22,
   "id": "b6745335",
   "metadata": {},
   "outputs": [],
   "source": [
    "merged_house.to_csv('./dataset_asof_051121/merged_house.csv', index=False)"
   ]
  },
  {
   "cell_type": "code",
   "execution_count": 23,
   "id": "1db9df4a",
   "metadata": {},
   "outputs": [
    {
     "data": {
      "text/html": [
       "<div>\n",
       "<style scoped>\n",
       "    .dataframe tbody tr th:only-of-type {\n",
       "        vertical-align: middle;\n",
       "    }\n",
       "\n",
       "    .dataframe tbody tr th {\n",
       "        vertical-align: top;\n",
       "    }\n",
       "\n",
       "    .dataframe thead th {\n",
       "        text-align: right;\n",
       "    }\n",
       "</style>\n",
       "<table border=\"1\" class=\"dataframe\">\n",
       "  <thead>\n",
       "    <tr style=\"text-align: right;\">\n",
       "      <th></th>\n",
       "      <th>index</th>\n",
       "      <th>project name</th>\n",
       "      <th>street name</th>\n",
       "      <th>type</th>\n",
       "      <th>postal district</th>\n",
       "      <th>market segment</th>\n",
       "      <th>tenure</th>\n",
       "      <th>type of sale</th>\n",
       "      <th>no. of units</th>\n",
       "      <th>price</th>\n",
       "      <th>nett price</th>\n",
       "      <th>areasq</th>\n",
       "      <th>type of area</th>\n",
       "      <th>floor level</th>\n",
       "      <th>unit price psf</th>\n",
       "      <th>date of sale</th>\n",
       "    </tr>\n",
       "  </thead>\n",
       "  <tbody>\n",
       "    <tr>\n",
       "      <th>0</th>\n",
       "      <td>0</td>\n",
       "      <td>LANDED HOUSING DEVELOPMENT</td>\n",
       "      <td>PASIR PANJANG DRIVE</td>\n",
       "      <td>Terrace</td>\n",
       "      <td>5.0</td>\n",
       "      <td>RCR</td>\n",
       "      <td>Freehold</td>\n",
       "      <td>Resale</td>\n",
       "      <td>1.0</td>\n",
       "      <td>3660000.0</td>\n",
       "      <td>-</td>\n",
       "      <td>2566.0</td>\n",
       "      <td>Land</td>\n",
       "      <td>-</td>\n",
       "      <td>1426.0</td>\n",
       "      <td>Oct-2021</td>\n",
       "    </tr>\n",
       "    <tr>\n",
       "      <th>1</th>\n",
       "      <td>1</td>\n",
       "      <td>OCEAN 8</td>\n",
       "      <td>OCEAN DRIVE</td>\n",
       "      <td>Terrace</td>\n",
       "      <td>4.0</td>\n",
       "      <td>CCR</td>\n",
       "      <td>99 yrs lease commencing from 2005</td>\n",
       "      <td>Resale</td>\n",
       "      <td>1.0</td>\n",
       "      <td>6920000.0</td>\n",
       "      <td>-</td>\n",
       "      <td>3852.0</td>\n",
       "      <td>Land</td>\n",
       "      <td>-</td>\n",
       "      <td>1796.0</td>\n",
       "      <td>Oct-2021</td>\n",
       "    </tr>\n",
       "    <tr>\n",
       "      <th>2</th>\n",
       "      <td>2</td>\n",
       "      <td>LANDED HOUSING DEVELOPMENT</td>\n",
       "      <td>OCEAN DRIVE</td>\n",
       "      <td>Detached</td>\n",
       "      <td>4.0</td>\n",
       "      <td>CCR</td>\n",
       "      <td>99 yrs lease commencing from 2005</td>\n",
       "      <td>Resale</td>\n",
       "      <td>1.0</td>\n",
       "      <td>17888000.0</td>\n",
       "      <td>-</td>\n",
       "      <td>8746.0</td>\n",
       "      <td>Land</td>\n",
       "      <td>-</td>\n",
       "      <td>2045.0</td>\n",
       "      <td>Oct-2021</td>\n",
       "    </tr>\n",
       "    <tr>\n",
       "      <th>3</th>\n",
       "      <td>3</td>\n",
       "      <td>WEST COAST GARDENS</td>\n",
       "      <td>WEST COAST PARK</td>\n",
       "      <td>Semi-detached</td>\n",
       "      <td>5.0</td>\n",
       "      <td>OCR</td>\n",
       "      <td>956 yrs lease commencing from 1928</td>\n",
       "      <td>Resale</td>\n",
       "      <td>1.0</td>\n",
       "      <td>5400000.0</td>\n",
       "      <td>-</td>\n",
       "      <td>4806.0</td>\n",
       "      <td>Land</td>\n",
       "      <td>-</td>\n",
       "      <td>1124.0</td>\n",
       "      <td>Oct-2021</td>\n",
       "    </tr>\n",
       "    <tr>\n",
       "      <th>4</th>\n",
       "      <td>4</td>\n",
       "      <td>LANDED HOUSING DEVELOPMENT</td>\n",
       "      <td>JALAN MAS KUNING</td>\n",
       "      <td>Terrace</td>\n",
       "      <td>5.0</td>\n",
       "      <td>OCR</td>\n",
       "      <td>Freehold</td>\n",
       "      <td>Resale</td>\n",
       "      <td>1.0</td>\n",
       "      <td>2660000.0</td>\n",
       "      <td>-</td>\n",
       "      <td>1640.0</td>\n",
       "      <td>Land</td>\n",
       "      <td>-</td>\n",
       "      <td>1622.0</td>\n",
       "      <td>Oct-2021</td>\n",
       "    </tr>\n",
       "  </tbody>\n",
       "</table>\n",
       "</div>"
      ],
      "text/plain": [
       "   index                project name          street name           type  \\\n",
       "0      0  LANDED HOUSING DEVELOPMENT  PASIR PANJANG DRIVE        Terrace   \n",
       "1      1                     OCEAN 8          OCEAN DRIVE        Terrace   \n",
       "2      2  LANDED HOUSING DEVELOPMENT          OCEAN DRIVE       Detached   \n",
       "3      3          WEST COAST GARDENS      WEST COAST PARK  Semi-detached   \n",
       "4      4  LANDED HOUSING DEVELOPMENT     JALAN MAS KUNING        Terrace   \n",
       "\n",
       "   postal district market segment                              tenure  \\\n",
       "0              5.0            RCR                            Freehold   \n",
       "1              4.0            CCR   99 yrs lease commencing from 2005   \n",
       "2              4.0            CCR   99 yrs lease commencing from 2005   \n",
       "3              5.0            OCR  956 yrs lease commencing from 1928   \n",
       "4              5.0            OCR                            Freehold   \n",
       "\n",
       "  type of sale  no. of units       price nett price  areasq type of area  \\\n",
       "0       Resale           1.0   3660000.0          -  2566.0         Land   \n",
       "1       Resale           1.0   6920000.0          -  3852.0         Land   \n",
       "2       Resale           1.0  17888000.0          -  8746.0         Land   \n",
       "3       Resale           1.0   5400000.0          -  4806.0         Land   \n",
       "4       Resale           1.0   2660000.0          -  1640.0         Land   \n",
       "\n",
       "  floor level  unit price psf date of sale  \n",
       "0           -          1426.0     Oct-2021  \n",
       "1           -          1796.0     Oct-2021  \n",
       "2           -          2045.0     Oct-2021  \n",
       "3           -          1124.0     Oct-2021  \n",
       "4           -          1622.0     Oct-2021  "
      ]
     },
     "execution_count": 23,
     "metadata": {},
     "output_type": "execute_result"
    }
   ],
   "source": [
    "merged_house.head()"
   ]
  },
  {
   "cell_type": "markdown",
   "id": "3a121bec",
   "metadata": {},
   "source": [
    "### Doing Data Exploration for Dataset"
   ]
  },
  {
   "cell_type": "code",
   "execution_count": 24,
   "id": "5bc26349",
   "metadata": {},
   "outputs": [
    {
     "data": {
      "text/plain": [
       "OCR    6555\n",
       "RCR    1789\n",
       "CCR    1384\n",
       "Name: market segment, dtype: int64"
      ]
     },
     "execution_count": 24,
     "metadata": {},
     "output_type": "execute_result"
    }
   ],
   "source": [
    "# Looking into different region of the houses compared to the prices\n",
    "merged_house['market segment'].value_counts()"
   ]
  },
  {
   "cell_type": "code",
   "execution_count": 25,
   "id": "630369a6",
   "metadata": {},
   "outputs": [
    {
     "data": {
      "image/png": "[encoded data removed]",
      "text/plain": [
       "<Figure size 576x720 with 1 Axes>"
      ]
     },
     "metadata": {
      "needs_background": "light"
     },
     "output_type": "display_data"
    }
   ],
   "source": [
    "plt.figure(figsize =(8,10))\n",
    "market_segment = sns.boxplot('market segment', 'price', data = merged_house);\n",
    "\n",
    "# There is outlier detected in the Central Core Region (CCR)"
   ]
  },
  {
   "cell_type": "code",
   "execution_count": 26,
   "id": "6c0a3165",
   "metadata": {},
   "outputs": [
    {
     "data": {
      "text/plain": [
       "19.0    1630\n",
       "15.0    1254\n",
       "28.0     886\n",
       "10.0     793\n",
       "16.0     708\n",
       "20.0     674\n",
       "23.0     498\n",
       "13.0     462\n",
       "11.0     461\n",
       "21.0     447\n",
       "26.0     361\n",
       "14.0     346\n",
       "17.0     244\n",
       "5.0      196\n",
       "27.0     184\n",
       "22.0     174\n",
       "25.0     101\n",
       "18.0      98\n",
       "4.0       81\n",
       "9.0       55\n",
       "12.0      40\n",
       "8.0       21\n",
       "2.0        9\n",
       "3.0        5\n",
       "Name: postal district, dtype: int64"
      ]
     },
     "execution_count": 26,
     "metadata": {},
     "output_type": "execute_result"
    }
   ],
   "source": [
    "# Looking into different district of houses as compared to the prices\n",
    "merged_house['postal district'].value_counts()"
   ]
  },
  {
   "cell_type": "code",
   "execution_count": 27,
   "id": "454a17ac",
   "metadata": {},
   "outputs": [
    {
     "data": {
      "image/png": "[encoded data removed]",
      "text/plain": [
       "<Figure size 3600x720 with 1 Axes>"
      ]
     },
     "metadata": {},
     "output_type": "display_data"
    }
   ],
   "source": [
    "sns.set(font_scale=3)\n",
    "plt.figure(figsize =(50,10))\n",
    "district_place = sns.boxplot('postal district', 'price', data = merged_house, color ='blue');\n",
    "\n",
    "# there are a total of 24 district and district 10 located in the CCR is where the outlier was detected in the market segment feature."
   ]
  },
  {
   "cell_type": "code",
   "execution_count": 28,
   "id": "1898857e",
   "metadata": {},
   "outputs": [
    {
     "data": {
      "text/plain": [
       "Resale      9394\n",
       "New Sale     317\n",
       "Sub Sale      17\n",
       "Name: type of sale, dtype: int64"
      ]
     },
     "execution_count": 28,
     "metadata": {},
     "output_type": "execute_result"
    }
   ],
   "source": [
    "# Looking into different type of sale as compared to the prices\n",
    "merged_house['type of sale'].value_counts()\n",
    "\n",
    "# mostly are resale houses"
   ]
  },
  {
   "cell_type": "code",
   "execution_count": 29,
   "id": "e33c1ec2",
   "metadata": {},
   "outputs": [
    {
     "data": {
      "image/png": "[encoded data removed]",
      "text/plain": [
       "<Figure size 576x720 with 1 Axes>"
      ]
     },
     "metadata": {},
     "output_type": "display_data"
    }
   ],
   "source": [
    "sns.set(font_scale=2)\n",
    "plt.figure(figsize =(8,10))\n",
    "type_of_sale = sns.boxplot('type of sale', 'price', data = merged_house);\n",
    "# outliers belonging to the resale type"
   ]
  },
  {
   "cell_type": "code",
   "execution_count": 30,
   "id": "995d31d3",
   "metadata": {},
   "outputs": [
    {
     "data": {
      "text/plain": [
       "Terrace          5556\n",
       "Semi-detached    2889\n",
       "Detached         1283\n",
       "Name: type, dtype: int64"
      ]
     },
     "execution_count": 30,
     "metadata": {},
     "output_type": "execute_result"
    }
   ],
   "source": [
    "# Looking into different type houses compared to the prices\n",
    "merged_house['type'].value_counts()"
   ]
  },
  {
   "cell_type": "code",
   "execution_count": 31,
   "id": "716cf46f",
   "metadata": {},
   "outputs": [
    {
     "data": {
      "image/png": "[encoded data removed]",
      "text/plain": [
       "<Figure size 576x720 with 1 Axes>"
      ]
     },
     "metadata": {},
     "output_type": "display_data"
    }
   ],
   "source": [
    "sns.set(font_scale =2)\n",
    "plt.figure(figsize =(8,10))\n",
    "house_type = sns.boxplot('type', 'price', data = merged_house);\n",
    "\n",
    "#house_type.set_xlabel('type', fontsize =20)\n",
    "#house_type.set_ylabel('price', fontsize =20)\n",
    "#house_type.tick_params(labelsize =20)\n",
    "# outliers belonging to the Detached type\n"
   ]
  },
  {
   "cell_type": "code",
   "execution_count": 32,
   "id": "aef6fd38",
   "metadata": {},
   "outputs": [
    {
     "data": {
      "image/png": "[encoded data removed]",
      "text/plain": [
       "<Figure size 3600x720 with 1 Axes>"
      ]
     },
     "metadata": {},
     "output_type": "display_data"
    }
   ],
   "source": [
    "# Looking into different tenure years compared to the prices\n",
    "sns.set(font_scale=3)\n",
    "plt.figure(figsize =(50,10))\n",
    "type_of_hold = sns.boxplot('tenure', 'price', data = merged_house, color ='blue');"
   ]
  },
  {
   "cell_type": "markdown",
   "id": "197dd12d",
   "metadata": {},
   "source": [
    "### Cleaning of tenure data is required"
   ]
  },
  {
   "cell_type": "code",
   "execution_count": 33,
   "id": "c56d366b",
   "metadata": {},
   "outputs": [
    {
     "data": {
      "text/plain": [
       "Freehold                              6480\n",
       "999 yrs lease commencing from 1879     491\n",
       "99 yrs lease commencing from 1994      309\n",
       "99 yrs lease commencing from 1996      183\n",
       "99 yrs lease commencing from 1997      178\n",
       "                                      ... \n",
       "99 yrs lease commencing from 2000        1\n",
       "99 yrs lease commencing from 1957        1\n",
       "99 yrs lease commencing from 1960        1\n",
       "953 yrs lease commencing from 1931       1\n",
       "99 yrs lease commencing from 2009        1\n",
       "Name: tenure, Length: 65, dtype: int64"
      ]
     },
     "execution_count": 33,
     "metadata": {},
     "output_type": "execute_result"
    }
   ],
   "source": [
    "merged_house['tenure'].value_counts()"
   ]
  },
  {
   "cell_type": "code",
   "execution_count": 34,
   "id": "d999ba47",
   "metadata": {},
   "outputs": [
    {
     "data": {
      "text/plain": [
       "index                int64\n",
       "project name        object\n",
       "street name         object\n",
       "type                object\n",
       "postal district    float64\n",
       "market segment      object\n",
       "tenure              object\n",
       "type of sale        object\n",
       "no. of units       float64\n",
       "price              float64\n",
       "nett price          object\n",
       "areasq             float64\n",
       "type of area        object\n",
       "floor level         object\n",
       "unit price psf     float64\n",
       "date of sale        object\n",
       "dtype: object"
      ]
     },
     "execution_count": 34,
     "metadata": {},
     "output_type": "execute_result"
    }
   ],
   "source": [
    "merged_house.dtypes\n",
    "# tenure is an object, we need to change it to an integer to do modelling"
   ]
  },
  {
   "cell_type": "code",
   "execution_count": 35,
   "id": "69a3bb51",
   "metadata": {},
   "outputs": [
    {
     "data": {
      "text/plain": [
       "65"
      ]
     },
     "execution_count": 35,
     "metadata": {},
     "output_type": "execute_result"
    }
   ],
   "source": [
    "merged_house['tenure'].nunique()\n",
    "# 65 different type of tenure\n",
    "# This is an important feature to clean as tenure can be related to the prices, longer the years, higher the price"
   ]
  },
  {
   "cell_type": "markdown",
   "id": "885af806",
   "metadata": {},
   "source": [
    "### From value_counts(), we can see that the we can add the 1st word and last word of the object and subtract 2021 to get the house remaining tenure"
   ]
  },
  {
   "cell_type": "code",
   "execution_count": 36,
   "id": "60e53b43",
   "metadata": {},
   "outputs": [],
   "source": [
    "tenure_list = merged_house['tenure']"
   ]
  },
  {
   "cell_type": "code",
   "execution_count": 37,
   "id": "476263c1",
   "metadata": {},
   "outputs": [],
   "source": [
    "tenure_split = tenure_list.str.split()[0]"
   ]
  },
  {
   "cell_type": "code",
   "execution_count": 38,
   "id": "3da05407",
   "metadata": {},
   "outputs": [],
   "source": [
    "first = merged_house['tenure'].str.split().str[0]\n",
    "last = merged_house['tenure'].str.split().str[-1]"
   ]
  },
  {
   "cell_type": "code",
   "execution_count": 39,
   "id": "e3d382b5",
   "metadata": {},
   "outputs": [],
   "source": [
    "first.replace({'Freehold':999}, inplace = True)\n",
    "last.replace({'Freehold':999}, inplace = True)\n",
    "#Taking out the 1st word from tenure and replace freehold with 999\n",
    "#Taking out the last word from tenure, since freehold is also the last word for freehold, change it to 999"
   ]
  },
  {
   "cell_type": "code",
   "execution_count": 40,
   "id": "cdc7cc22",
   "metadata": {},
   "outputs": [],
   "source": [
    "first = first.astype(int)\n",
    "last = last.astype(int)"
   ]
  },
  {
   "cell_type": "code",
   "execution_count": 41,
   "id": "d5a9c0f5",
   "metadata": {},
   "outputs": [],
   "source": [
    "tenure = first + last - 2021"
   ]
  },
  {
   "cell_type": "code",
   "execution_count": 42,
   "id": "1cadf878",
   "metadata": {},
   "outputs": [
    {
     "data": {
      "text/plain": [
       "0    -23\n",
       "1     83\n",
       "2     83\n",
       "3    863\n",
       "4    -23\n",
       "Name: tenure, dtype: int32"
      ]
     },
     "execution_count": 42,
     "metadata": {},
     "output_type": "execute_result"
    }
   ],
   "source": [
    "tenure.head()\n",
    "# The negative is the freehold houses, it became negative during the mathematical eqn of 999+999 -2021\n",
    "# replace all -23 with 999 years"
   ]
  },
  {
   "cell_type": "code",
   "execution_count": 43,
   "id": "f33a06de",
   "metadata": {},
   "outputs": [],
   "source": [
    "tenure.replace({-23:999}, inplace = True)"
   ]
  },
  {
   "cell_type": "code",
   "execution_count": 44,
   "id": "c7f3fde7",
   "metadata": {},
   "outputs": [],
   "source": [
    "#Dropping the old tenure and reinsert the integer type tenure into merged_house\n",
    "merged_house.drop(columns = 'tenure', inplace = True)\n",
    "merged_house.insert(0, \"tenure\",tenure)"
   ]
  },
  {
   "cell_type": "code",
   "execution_count": 45,
   "id": "34216f62",
   "metadata": {},
   "outputs": [
    {
     "data": {
      "text/html": [
       "<div>\n",
       "<style scoped>\n",
       "    .dataframe tbody tr th:only-of-type {\n",
       "        vertical-align: middle;\n",
       "    }\n",
       "\n",
       "    .dataframe tbody tr th {\n",
       "        vertical-align: top;\n",
       "    }\n",
       "\n",
       "    .dataframe thead th {\n",
       "        text-align: right;\n",
       "    }\n",
       "</style>\n",
       "<table border=\"1\" class=\"dataframe\">\n",
       "  <thead>\n",
       "    <tr style=\"text-align: right;\">\n",
       "      <th></th>\n",
       "      <th>tenure</th>\n",
       "      <th>index</th>\n",
       "      <th>project name</th>\n",
       "      <th>street name</th>\n",
       "      <th>type</th>\n",
       "      <th>postal district</th>\n",
       "      <th>market segment</th>\n",
       "      <th>type of sale</th>\n",
       "      <th>no. of units</th>\n",
       "      <th>price</th>\n",
       "      <th>nett price</th>\n",
       "      <th>areasq</th>\n",
       "      <th>type of area</th>\n",
       "      <th>floor level</th>\n",
       "      <th>unit price psf</th>\n",
       "      <th>date of sale</th>\n",
       "    </tr>\n",
       "  </thead>\n",
       "  <tbody>\n",
       "    <tr>\n",
       "      <th>0</th>\n",
       "      <td>999</td>\n",
       "      <td>0</td>\n",
       "      <td>LANDED HOUSING DEVELOPMENT</td>\n",
       "      <td>PASIR PANJANG DRIVE</td>\n",
       "      <td>Terrace</td>\n",
       "      <td>5.0</td>\n",
       "      <td>RCR</td>\n",
       "      <td>Resale</td>\n",
       "      <td>1.0</td>\n",
       "      <td>3660000.0</td>\n",
       "      <td>-</td>\n",
       "      <td>2566.0</td>\n",
       "      <td>Land</td>\n",
       "      <td>-</td>\n",
       "      <td>1426.0</td>\n",
       "      <td>Oct-2021</td>\n",
       "    </tr>\n",
       "    <tr>\n",
       "      <th>1</th>\n",
       "      <td>83</td>\n",
       "      <td>1</td>\n",
       "      <td>OCEAN 8</td>\n",
       "      <td>OCEAN DRIVE</td>\n",
       "      <td>Terrace</td>\n",
       "      <td>4.0</td>\n",
       "      <td>CCR</td>\n",
       "      <td>Resale</td>\n",
       "      <td>1.0</td>\n",
       "      <td>6920000.0</td>\n",
       "      <td>-</td>\n",
       "      <td>3852.0</td>\n",
       "      <td>Land</td>\n",
       "      <td>-</td>\n",
       "      <td>1796.0</td>\n",
       "      <td>Oct-2021</td>\n",
       "    </tr>\n",
       "    <tr>\n",
       "      <th>2</th>\n",
       "      <td>83</td>\n",
       "      <td>2</td>\n",
       "      <td>LANDED HOUSING DEVELOPMENT</td>\n",
       "      <td>OCEAN DRIVE</td>\n",
       "      <td>Detached</td>\n",
       "      <td>4.0</td>\n",
       "      <td>CCR</td>\n",
       "      <td>Resale</td>\n",
       "      <td>1.0</td>\n",
       "      <td>17888000.0</td>\n",
       "      <td>-</td>\n",
       "      <td>8746.0</td>\n",
       "      <td>Land</td>\n",
       "      <td>-</td>\n",
       "      <td>2045.0</td>\n",
       "      <td>Oct-2021</td>\n",
       "    </tr>\n",
       "    <tr>\n",
       "      <th>3</th>\n",
       "      <td>863</td>\n",
       "      <td>3</td>\n",
       "      <td>WEST COAST GARDENS</td>\n",
       "      <td>WEST COAST PARK</td>\n",
       "      <td>Semi-detached</td>\n",
       "      <td>5.0</td>\n",
       "      <td>OCR</td>\n",
       "      <td>Resale</td>\n",
       "      <td>1.0</td>\n",
       "      <td>5400000.0</td>\n",
       "      <td>-</td>\n",
       "      <td>4806.0</td>\n",
       "      <td>Land</td>\n",
       "      <td>-</td>\n",
       "      <td>1124.0</td>\n",
       "      <td>Oct-2021</td>\n",
       "    </tr>\n",
       "    <tr>\n",
       "      <th>4</th>\n",
       "      <td>999</td>\n",
       "      <td>4</td>\n",
       "      <td>LANDED HOUSING DEVELOPMENT</td>\n",
       "      <td>JALAN MAS KUNING</td>\n",
       "      <td>Terrace</td>\n",
       "      <td>5.0</td>\n",
       "      <td>OCR</td>\n",
       "      <td>Resale</td>\n",
       "      <td>1.0</td>\n",
       "      <td>2660000.0</td>\n",
       "      <td>-</td>\n",
       "      <td>1640.0</td>\n",
       "      <td>Land</td>\n",
       "      <td>-</td>\n",
       "      <td>1622.0</td>\n",
       "      <td>Oct-2021</td>\n",
       "    </tr>\n",
       "  </tbody>\n",
       "</table>\n",
       "</div>"
      ],
      "text/plain": [
       "   tenure  index                project name          street name  \\\n",
       "0     999      0  LANDED HOUSING DEVELOPMENT  PASIR PANJANG DRIVE   \n",
       "1      83      1                     OCEAN 8          OCEAN DRIVE   \n",
       "2      83      2  LANDED HOUSING DEVELOPMENT          OCEAN DRIVE   \n",
       "3     863      3          WEST COAST GARDENS      WEST COAST PARK   \n",
       "4     999      4  LANDED HOUSING DEVELOPMENT     JALAN MAS KUNING   \n",
       "\n",
       "            type  postal district market segment type of sale  no. of units  \\\n",
       "0        Terrace              5.0            RCR       Resale           1.0   \n",
       "1        Terrace              4.0            CCR       Resale           1.0   \n",
       "2       Detached              4.0            CCR       Resale           1.0   \n",
       "3  Semi-detached              5.0            OCR       Resale           1.0   \n",
       "4        Terrace              5.0            OCR       Resale           1.0   \n",
       "\n",
       "        price nett price  areasq type of area floor level  unit price psf  \\\n",
       "0   3660000.0          -  2566.0         Land           -          1426.0   \n",
       "1   6920000.0          -  3852.0         Land           -          1796.0   \n",
       "2  17888000.0          -  8746.0         Land           -          2045.0   \n",
       "3   5400000.0          -  4806.0         Land           -          1124.0   \n",
       "4   2660000.0          -  1640.0         Land           -          1622.0   \n",
       "\n",
       "  date of sale  \n",
       "0     Oct-2021  \n",
       "1     Oct-2021  \n",
       "2     Oct-2021  \n",
       "3     Oct-2021  \n",
       "4     Oct-2021  "
      ]
     },
     "execution_count": 45,
     "metadata": {},
     "output_type": "execute_result"
    }
   ],
   "source": [
    "merged_house.head()"
   ]
  },
  {
   "cell_type": "code",
   "execution_count": 46,
   "id": "cc3c87ab",
   "metadata": {},
   "outputs": [],
   "source": [
    "#rearrange tenure to the front\n",
    "merged_house = merged_house[['index','project name', 'street name', 'type', 'tenure', 'postal district', 'market segment',\n",
    "                            'type of sale', 'no. of units', 'price', 'nett price', 'areasq', 'type of area', 'floor level',\n",
    "                            'unit price psf', 'date of sale']]"
   ]
  },
  {
   "cell_type": "code",
   "execution_count": 47,
   "id": "0bd59571",
   "metadata": {},
   "outputs": [
    {
     "data": {
      "text/html": [
       "<div>\n",
       "<style scoped>\n",
       "    .dataframe tbody tr th:only-of-type {\n",
       "        vertical-align: middle;\n",
       "    }\n",
       "\n",
       "    .dataframe tbody tr th {\n",
       "        vertical-align: top;\n",
       "    }\n",
       "\n",
       "    .dataframe thead th {\n",
       "        text-align: right;\n",
       "    }\n",
       "</style>\n",
       "<table border=\"1\" class=\"dataframe\">\n",
       "  <thead>\n",
       "    <tr style=\"text-align: right;\">\n",
       "      <th></th>\n",
       "      <th>index</th>\n",
       "      <th>project name</th>\n",
       "      <th>street name</th>\n",
       "      <th>type</th>\n",
       "      <th>tenure</th>\n",
       "      <th>postal district</th>\n",
       "      <th>market segment</th>\n",
       "      <th>type of sale</th>\n",
       "      <th>no. of units</th>\n",
       "      <th>price</th>\n",
       "      <th>nett price</th>\n",
       "      <th>areasq</th>\n",
       "      <th>type of area</th>\n",
       "      <th>floor level</th>\n",
       "      <th>unit price psf</th>\n",
       "      <th>date of sale</th>\n",
       "    </tr>\n",
       "  </thead>\n",
       "  <tbody>\n",
       "    <tr>\n",
       "      <th>0</th>\n",
       "      <td>0</td>\n",
       "      <td>LANDED HOUSING DEVELOPMENT</td>\n",
       "      <td>PASIR PANJANG DRIVE</td>\n",
       "      <td>Terrace</td>\n",
       "      <td>999</td>\n",
       "      <td>5.0</td>\n",
       "      <td>RCR</td>\n",
       "      <td>Resale</td>\n",
       "      <td>1.0</td>\n",
       "      <td>3660000.0</td>\n",
       "      <td>-</td>\n",
       "      <td>2566.0</td>\n",
       "      <td>Land</td>\n",
       "      <td>-</td>\n",
       "      <td>1426.0</td>\n",
       "      <td>Oct-2021</td>\n",
       "    </tr>\n",
       "  </tbody>\n",
       "</table>\n",
       "</div>"
      ],
      "text/plain": [
       "   index                project name          street name     type  tenure  \\\n",
       "0      0  LANDED HOUSING DEVELOPMENT  PASIR PANJANG DRIVE  Terrace     999   \n",
       "\n",
       "   postal district market segment type of sale  no. of units      price  \\\n",
       "0              5.0            RCR       Resale           1.0  3660000.0   \n",
       "\n",
       "  nett price  areasq type of area floor level  unit price psf date of sale  \n",
       "0          -  2566.0         Land           -          1426.0     Oct-2021  "
      ]
     },
     "execution_count": 47,
     "metadata": {},
     "output_type": "execute_result"
    }
   ],
   "source": [
    "merged_house.head(1)"
   ]
  },
  {
   "cell_type": "code",
   "execution_count": 48,
   "id": "8a98f537",
   "metadata": {},
   "outputs": [
    {
     "data": {
      "text/plain": [
       "<AxesSubplot:xlabel='tenure', ylabel='price'>"
      ]
     },
     "execution_count": 48,
     "metadata": {},
     "output_type": "execute_result"
    },
    {
     "data": {
      "image/png": "[encoded data removed]",
      "text/plain": [
       "<Figure size 360x216 with 1 Axes>"
      ]
     },
     "metadata": {},
     "output_type": "display_data"
    }
   ],
   "source": [
    "#Checking of prices vs tenure\n",
    "sns.set(font_scale=1)\n",
    "plt.figure(figsize=(5,3))\n",
    "sns.scatterplot(y = merged_house['price'], x = merged_house['tenure'])\n",
    "\n",
    "#This shows that there was a 9999years int as freehold"
   ]
  },
  {
   "cell_type": "code",
   "execution_count": 49,
   "id": "e5444a0a",
   "metadata": {},
   "outputs": [
    {
     "data": {
      "text/plain": [
       "9944"
      ]
     },
     "execution_count": 49,
     "metadata": {},
     "output_type": "execute_result"
    }
   ],
   "source": [
    "merged_house['tenure'].max()"
   ]
  },
  {
   "cell_type": "code",
   "execution_count": 50,
   "id": "f7ab2994",
   "metadata": {},
   "outputs": [],
   "source": [
    "#replace it as 999 under the freehold category\n",
    "merged_house['tenure'].replace({9944: 999}, inplace = True)"
   ]
  },
  {
   "cell_type": "code",
   "execution_count": 51,
   "id": "abb975b3",
   "metadata": {},
   "outputs": [
    {
     "data": {
      "text/plain": [
       "<matplotlib.lines.Line2D at 0x191c1fa7dc0>"
      ]
     },
     "execution_count": 51,
     "metadata": {},
     "output_type": "execute_result"
    },
    {
     "data": {
      "image/png": "[encoded data removed]",
      "text/plain": [
       "<Figure size 1080x720 with 1 Axes>"
      ]
     },
     "metadata": {},
     "output_type": "display_data"
    }
   ],
   "source": [
    "plt.figure(figsize=(15,10))\n",
    "sns.scatterplot(y = merged_house['price'], x = merged_house['tenure'])\n",
    "plt.axvline(x=99, color = 'red')\n",
    "\n",
    "#This graph will seggregate out the freehold and non-freehold houses"
   ]
  },
  {
   "cell_type": "code",
   "execution_count": 52,
   "id": "4b2581b4",
   "metadata": {},
   "outputs": [],
   "source": [
    "merged_house_tenure = merged_house.copy(deep = True)"
   ]
  },
  {
   "cell_type": "markdown",
   "id": "93034661",
   "metadata": {},
   "source": [
    "### Saving this merged_house_tenure after cleaning the tenure"
   ]
  },
  {
   "cell_type": "code",
   "execution_count": 53,
   "id": "0755b37f",
   "metadata": {},
   "outputs": [],
   "source": [
    "merged_house_tenure.to_csv('./dataset_asof_051121/merged_house_tenure.csv', index=False)"
   ]
  },
  {
   "cell_type": "markdown",
   "id": "0eaf4ece",
   "metadata": {},
   "source": [
    "### As we have detected a large number of outliers. A removal of 5% of the dataset is introduced to remove the outliers"
   ]
  },
  {
   "cell_type": "code",
   "execution_count": 90,
   "id": "44710d8f",
   "metadata": {},
   "outputs": [
    {
     "data": {
      "text/plain": [
       "Text(0.5, 0, 'no. of house within this range')"
      ]
     },
     "execution_count": 90,
     "metadata": {},
     "output_type": "execute_result"
    },
    {
     "data": {
      "image/png": "[encoded data removed]",
      "text/plain": [
       "<Figure size 432x288 with 1 Axes>"
      ]
     },
     "metadata": {},
     "output_type": "display_data"
    }
   ],
   "source": [
    "#using a historgram to comapre the extreme ends\n",
    "price = merged_house_tenure['price']\n",
    "plt.hist(price, bins =50)\n",
    "plt.ylabel('Price')\n",
    "plt.xlabel(\"no. of house within this range\")\n",
    "\n",
    "#we can see that the large amount of outliers on the high prices side"
   ]
  },
  {
   "cell_type": "code",
   "execution_count": 55,
   "id": "9a632cad",
   "metadata": {},
   "outputs": [
    {
     "data": {
      "text/plain": [
       "(9728, 16)"
      ]
     },
     "execution_count": 55,
     "metadata": {},
     "output_type": "execute_result"
    }
   ],
   "source": [
    "merged_house_tenure.shape"
   ]
  },
  {
   "cell_type": "code",
   "execution_count": 56,
   "id": "c1de67f2",
   "metadata": {},
   "outputs": [
    {
     "data": {
      "text/plain": [
       "243.20000000000002"
      ]
     },
     "execution_count": 56,
     "metadata": {},
     "output_type": "execute_result"
    }
   ],
   "source": [
    "# Removal of 5% of dataset (2.5% from lowest and 2.5% from highest price)\n",
    "2.5/100 * 9728\n",
    "\n",
    "# to remove 243 rows from top and lowest prices"
   ]
  },
  {
   "cell_type": "code",
   "execution_count": 57,
   "id": "edc6daa2",
   "metadata": {},
   "outputs": [],
   "source": [
    "#to arrange house by prices so we can remove the top and lowest 2.5%\n",
    "merged_house_tenure = merged_house_tenure.sort_values(by = ['price'], ascending = False)"
   ]
  },
  {
   "cell_type": "code",
   "execution_count": 58,
   "id": "4d6b6c94",
   "metadata": {},
   "outputs": [
    {
     "data": {
      "text/html": [
       "<div>\n",
       "<style scoped>\n",
       "    .dataframe tbody tr th:only-of-type {\n",
       "        vertical-align: middle;\n",
       "    }\n",
       "\n",
       "    .dataframe tbody tr th {\n",
       "        vertical-align: top;\n",
       "    }\n",
       "\n",
       "    .dataframe thead th {\n",
       "        text-align: right;\n",
       "    }\n",
       "</style>\n",
       "<table border=\"1\" class=\"dataframe\">\n",
       "  <thead>\n",
       "    <tr style=\"text-align: right;\">\n",
       "      <th></th>\n",
       "      <th>index</th>\n",
       "      <th>project name</th>\n",
       "      <th>street name</th>\n",
       "      <th>type</th>\n",
       "      <th>tenure</th>\n",
       "      <th>postal district</th>\n",
       "      <th>market segment</th>\n",
       "      <th>type of sale</th>\n",
       "      <th>no. of units</th>\n",
       "      <th>price</th>\n",
       "      <th>nett price</th>\n",
       "      <th>areasq</th>\n",
       "      <th>type of area</th>\n",
       "      <th>floor level</th>\n",
       "      <th>unit price psf</th>\n",
       "      <th>date of sale</th>\n",
       "    </tr>\n",
       "  </thead>\n",
       "  <tbody>\n",
       "    <tr>\n",
       "      <th>848</th>\n",
       "      <td>848</td>\n",
       "      <td>LANDED HOUSING DEVELOPMENT</td>\n",
       "      <td>NASSIM ROAD</td>\n",
       "      <td>Detached</td>\n",
       "      <td>999</td>\n",
       "      <td>10.0</td>\n",
       "      <td>CCR</td>\n",
       "      <td>Resale</td>\n",
       "      <td>2.0</td>\n",
       "      <td>218000000.0</td>\n",
       "      <td>-</td>\n",
       "      <td>66453.0</td>\n",
       "      <td>Land</td>\n",
       "      <td>-</td>\n",
       "      <td>3281.0</td>\n",
       "      <td>Jun-2018</td>\n",
       "    </tr>\n",
       "    <tr>\n",
       "      <th>479</th>\n",
       "      <td>479</td>\n",
       "      <td>LANDED HOUSING DEVELOPMENT</td>\n",
       "      <td>NASSIM ROAD</td>\n",
       "      <td>Detached</td>\n",
       "      <td>999</td>\n",
       "      <td>10.0</td>\n",
       "      <td>CCR</td>\n",
       "      <td>Resale</td>\n",
       "      <td>1.0</td>\n",
       "      <td>128800800.0</td>\n",
       "      <td>-</td>\n",
       "      <td>32160.0</td>\n",
       "      <td>Land</td>\n",
       "      <td>-</td>\n",
       "      <td>4005.0</td>\n",
       "      <td>Mar-2021</td>\n",
       "    </tr>\n",
       "    <tr>\n",
       "      <th>853</th>\n",
       "      <td>853</td>\n",
       "      <td>LANDED HOUSING DEVELOPMENT</td>\n",
       "      <td>CAIRNHILL ROAD</td>\n",
       "      <td>Detached</td>\n",
       "      <td>999</td>\n",
       "      <td>9.0</td>\n",
       "      <td>CCR</td>\n",
       "      <td>Resale</td>\n",
       "      <td>1.0</td>\n",
       "      <td>100000000.0</td>\n",
       "      <td>-</td>\n",
       "      <td>19800.0</td>\n",
       "      <td>Land</td>\n",
       "      <td>-</td>\n",
       "      <td>5050.0</td>\n",
       "      <td>Jun-2018</td>\n",
       "    </tr>\n",
       "    <tr>\n",
       "      <th>808</th>\n",
       "      <td>808</td>\n",
       "      <td>LANDED HOUSING DEVELOPMENT</td>\n",
       "      <td>DALVEY ROAD</td>\n",
       "      <td>Detached</td>\n",
       "      <td>999</td>\n",
       "      <td>10.0</td>\n",
       "      <td>CCR</td>\n",
       "      <td>Resale</td>\n",
       "      <td>1.0</td>\n",
       "      <td>93900000.0</td>\n",
       "      <td>-</td>\n",
       "      <td>52059.0</td>\n",
       "      <td>Land</td>\n",
       "      <td>-</td>\n",
       "      <td>1804.0</td>\n",
       "      <td>Sep-2018</td>\n",
       "    </tr>\n",
       "    <tr>\n",
       "      <th>363</th>\n",
       "      <td>363</td>\n",
       "      <td>QUEEN ASTRID PARK</td>\n",
       "      <td>QUEEN ASTRID PARK</td>\n",
       "      <td>Detached</td>\n",
       "      <td>854</td>\n",
       "      <td>10.0</td>\n",
       "      <td>CCR</td>\n",
       "      <td>Resale</td>\n",
       "      <td>1.0</td>\n",
       "      <td>86000000.0</td>\n",
       "      <td>-</td>\n",
       "      <td>31807.0</td>\n",
       "      <td>Land</td>\n",
       "      <td>-</td>\n",
       "      <td>2704.0</td>\n",
       "      <td>Jul-2021</td>\n",
       "    </tr>\n",
       "  </tbody>\n",
       "</table>\n",
       "</div>"
      ],
      "text/plain": [
       "     index                project name        street name      type  tenure  \\\n",
       "848    848  LANDED HOUSING DEVELOPMENT        NASSIM ROAD  Detached     999   \n",
       "479    479  LANDED HOUSING DEVELOPMENT        NASSIM ROAD  Detached     999   \n",
       "853    853  LANDED HOUSING DEVELOPMENT     CAIRNHILL ROAD  Detached     999   \n",
       "808    808  LANDED HOUSING DEVELOPMENT        DALVEY ROAD  Detached     999   \n",
       "363    363           QUEEN ASTRID PARK  QUEEN ASTRID PARK  Detached     854   \n",
       "\n",
       "     postal district market segment type of sale  no. of units        price  \\\n",
       "848             10.0            CCR       Resale           2.0  218000000.0   \n",
       "479             10.0            CCR       Resale           1.0  128800800.0   \n",
       "853              9.0            CCR       Resale           1.0  100000000.0   \n",
       "808             10.0            CCR       Resale           1.0   93900000.0   \n",
       "363             10.0            CCR       Resale           1.0   86000000.0   \n",
       "\n",
       "    nett price   areasq type of area floor level  unit price psf date of sale  \n",
       "848          -  66453.0         Land           -          3281.0     Jun-2018  \n",
       "479          -  32160.0         Land           -          4005.0     Mar-2021  \n",
       "853          -  19800.0         Land           -          5050.0     Jun-2018  \n",
       "808          -  52059.0         Land           -          1804.0     Sep-2018  \n",
       "363          -  31807.0         Land           -          2704.0     Jul-2021  "
      ]
     },
     "execution_count": 58,
     "metadata": {},
     "output_type": "execute_result"
    }
   ],
   "source": [
    "merged_house_tenure.head()"
   ]
  },
  {
   "cell_type": "code",
   "execution_count": 59,
   "id": "d0dfb613",
   "metadata": {},
   "outputs": [],
   "source": [
    "# to rerrange the index again\n",
    "merged_house_tenure.reset_index(drop = True, inplace = True)\n",
    "merged_house_tenure.drop(['index'], axis=1, inplace = True)\n",
    "merged_house_tenure.reset_index(drop = False , inplace = True)"
   ]
  },
  {
   "cell_type": "code",
   "execution_count": 60,
   "id": "78203ec3",
   "metadata": {},
   "outputs": [
    {
     "data": {
      "text/html": [
       "<div>\n",
       "<style scoped>\n",
       "    .dataframe tbody tr th:only-of-type {\n",
       "        vertical-align: middle;\n",
       "    }\n",
       "\n",
       "    .dataframe tbody tr th {\n",
       "        vertical-align: top;\n",
       "    }\n",
       "\n",
       "    .dataframe thead th {\n",
       "        text-align: right;\n",
       "    }\n",
       "</style>\n",
       "<table border=\"1\" class=\"dataframe\">\n",
       "  <thead>\n",
       "    <tr style=\"text-align: right;\">\n",
       "      <th></th>\n",
       "      <th>index</th>\n",
       "      <th>project name</th>\n",
       "      <th>street name</th>\n",
       "      <th>type</th>\n",
       "      <th>tenure</th>\n",
       "      <th>postal district</th>\n",
       "      <th>market segment</th>\n",
       "      <th>type of sale</th>\n",
       "      <th>no. of units</th>\n",
       "      <th>price</th>\n",
       "      <th>nett price</th>\n",
       "      <th>areasq</th>\n",
       "      <th>type of area</th>\n",
       "      <th>floor level</th>\n",
       "      <th>unit price psf</th>\n",
       "      <th>date of sale</th>\n",
       "    </tr>\n",
       "  </thead>\n",
       "  <tbody>\n",
       "    <tr>\n",
       "      <th>0</th>\n",
       "      <td>0</td>\n",
       "      <td>LANDED HOUSING DEVELOPMENT</td>\n",
       "      <td>NASSIM ROAD</td>\n",
       "      <td>Detached</td>\n",
       "      <td>999</td>\n",
       "      <td>10.0</td>\n",
       "      <td>CCR</td>\n",
       "      <td>Resale</td>\n",
       "      <td>2.0</td>\n",
       "      <td>218000000.0</td>\n",
       "      <td>-</td>\n",
       "      <td>66453.0</td>\n",
       "      <td>Land</td>\n",
       "      <td>-</td>\n",
       "      <td>3281.0</td>\n",
       "      <td>Jun-2018</td>\n",
       "    </tr>\n",
       "    <tr>\n",
       "      <th>1</th>\n",
       "      <td>1</td>\n",
       "      <td>LANDED HOUSING DEVELOPMENT</td>\n",
       "      <td>NASSIM ROAD</td>\n",
       "      <td>Detached</td>\n",
       "      <td>999</td>\n",
       "      <td>10.0</td>\n",
       "      <td>CCR</td>\n",
       "      <td>Resale</td>\n",
       "      <td>1.0</td>\n",
       "      <td>128800800.0</td>\n",
       "      <td>-</td>\n",
       "      <td>32160.0</td>\n",
       "      <td>Land</td>\n",
       "      <td>-</td>\n",
       "      <td>4005.0</td>\n",
       "      <td>Mar-2021</td>\n",
       "    </tr>\n",
       "    <tr>\n",
       "      <th>2</th>\n",
       "      <td>2</td>\n",
       "      <td>LANDED HOUSING DEVELOPMENT</td>\n",
       "      <td>CAIRNHILL ROAD</td>\n",
       "      <td>Detached</td>\n",
       "      <td>999</td>\n",
       "      <td>9.0</td>\n",
       "      <td>CCR</td>\n",
       "      <td>Resale</td>\n",
       "      <td>1.0</td>\n",
       "      <td>100000000.0</td>\n",
       "      <td>-</td>\n",
       "      <td>19800.0</td>\n",
       "      <td>Land</td>\n",
       "      <td>-</td>\n",
       "      <td>5050.0</td>\n",
       "      <td>Jun-2018</td>\n",
       "    </tr>\n",
       "    <tr>\n",
       "      <th>3</th>\n",
       "      <td>3</td>\n",
       "      <td>LANDED HOUSING DEVELOPMENT</td>\n",
       "      <td>DALVEY ROAD</td>\n",
       "      <td>Detached</td>\n",
       "      <td>999</td>\n",
       "      <td>10.0</td>\n",
       "      <td>CCR</td>\n",
       "      <td>Resale</td>\n",
       "      <td>1.0</td>\n",
       "      <td>93900000.0</td>\n",
       "      <td>-</td>\n",
       "      <td>52059.0</td>\n",
       "      <td>Land</td>\n",
       "      <td>-</td>\n",
       "      <td>1804.0</td>\n",
       "      <td>Sep-2018</td>\n",
       "    </tr>\n",
       "    <tr>\n",
       "      <th>4</th>\n",
       "      <td>4</td>\n",
       "      <td>QUEEN ASTRID PARK</td>\n",
       "      <td>QUEEN ASTRID PARK</td>\n",
       "      <td>Detached</td>\n",
       "      <td>854</td>\n",
       "      <td>10.0</td>\n",
       "      <td>CCR</td>\n",
       "      <td>Resale</td>\n",
       "      <td>1.0</td>\n",
       "      <td>86000000.0</td>\n",
       "      <td>-</td>\n",
       "      <td>31807.0</td>\n",
       "      <td>Land</td>\n",
       "      <td>-</td>\n",
       "      <td>2704.0</td>\n",
       "      <td>Jul-2021</td>\n",
       "    </tr>\n",
       "  </tbody>\n",
       "</table>\n",
       "</div>"
      ],
      "text/plain": [
       "   index                project name        street name      type  tenure  \\\n",
       "0      0  LANDED HOUSING DEVELOPMENT        NASSIM ROAD  Detached     999   \n",
       "1      1  LANDED HOUSING DEVELOPMENT        NASSIM ROAD  Detached     999   \n",
       "2      2  LANDED HOUSING DEVELOPMENT     CAIRNHILL ROAD  Detached     999   \n",
       "3      3  LANDED HOUSING DEVELOPMENT        DALVEY ROAD  Detached     999   \n",
       "4      4           QUEEN ASTRID PARK  QUEEN ASTRID PARK  Detached     854   \n",
       "\n",
       "   postal district market segment type of sale  no. of units        price  \\\n",
       "0             10.0            CCR       Resale           2.0  218000000.0   \n",
       "1             10.0            CCR       Resale           1.0  128800800.0   \n",
       "2              9.0            CCR       Resale           1.0  100000000.0   \n",
       "3             10.0            CCR       Resale           1.0   93900000.0   \n",
       "4             10.0            CCR       Resale           1.0   86000000.0   \n",
       "\n",
       "  nett price   areasq type of area floor level  unit price psf date of sale  \n",
       "0          -  66453.0         Land           -          3281.0     Jun-2018  \n",
       "1          -  32160.0         Land           -          4005.0     Mar-2021  \n",
       "2          -  19800.0         Land           -          5050.0     Jun-2018  \n",
       "3          -  52059.0         Land           -          1804.0     Sep-2018  \n",
       "4          -  31807.0         Land           -          2704.0     Jul-2021  "
      ]
     },
     "execution_count": 60,
     "metadata": {},
     "output_type": "execute_result"
    }
   ],
   "source": [
    "merged_house_tenure.head()"
   ]
  },
  {
   "cell_type": "code",
   "execution_count": 61,
   "id": "ab26bc4c",
   "metadata": {},
   "outputs": [],
   "source": [
    "## To identify and to remove 243 rows from largest and smallest\n",
    "biggest = merged_house_tenure.nlargest(242,'price', keep ='all')\n",
    "smallest = merged_house_tenure.nsmallest(243,'price', keep ='all')\n",
    "\n",
    "#iloc at index 242 and 9485 to remove 5% of overall data"
   ]
  },
  {
   "cell_type": "code",
   "execution_count": 62,
   "id": "99370cff",
   "metadata": {},
   "outputs": [
    {
     "data": {
      "text/plain": [
       "index                                     242\n",
       "project name       LANDED HOUSING DEVELOPMENT\n",
       "street name                  TREVOSE CRESCENT\n",
       "type                                 Detached\n",
       "tenure                                    999\n",
       "postal district                          11.0\n",
       "market segment                            CCR\n",
       "type of sale                           Resale\n",
       "no. of units                              1.0\n",
       "price                              16600000.0\n",
       "nett price                                  -\n",
       "areasq                                 8313.0\n",
       "type of area                             Land\n",
       "floor level                                 -\n",
       "unit price psf                         1997.0\n",
       "date of sale                         May-2018\n",
       "Name: 242, dtype: object"
      ]
     },
     "execution_count": 62,
     "metadata": {},
     "output_type": "execute_result"
    }
   ],
   "source": [
    "merged_house_tenure.iloc[242]"
   ]
  },
  {
   "cell_type": "code",
   "execution_count": 63,
   "id": "55304e3c",
   "metadata": {},
   "outputs": [
    {
     "data": {
      "text/plain": [
       "index                       9485\n",
       "project name       LOYANG VILLAS\n",
       "street name          LOYANG RISE\n",
       "type                     Terrace\n",
       "tenure                        71\n",
       "postal district             17.0\n",
       "market segment               OCR\n",
       "type of sale              Resale\n",
       "no. of units                 1.0\n",
       "price                  1480000.0\n",
       "nett price                     -\n",
       "areasq                    1615.0\n",
       "type of area                Land\n",
       "floor level                    -\n",
       "unit price psf             917.0\n",
       "date of sale            Mar-2021\n",
       "Name: 9485, dtype: object"
      ]
     },
     "execution_count": 63,
     "metadata": {},
     "output_type": "execute_result"
    }
   ],
   "source": [
    "merged_house_tenure.iloc[9485]"
   ]
  },
  {
   "cell_type": "code",
   "execution_count": 64,
   "id": "a5a87508",
   "metadata": {},
   "outputs": [],
   "source": [
    "merged_house_clean = merged_house_tenure[merged_house_tenure['price'] < 16600000]\n",
    "merged_house_clean = merged_house_clean[merged_house_clean['price'] > 1480000]"
   ]
  },
  {
   "cell_type": "code",
   "execution_count": 65,
   "id": "b96ab3ce",
   "metadata": {},
   "outputs": [
    {
     "data": {
      "text/plain": [
       "(9240, 16)"
      ]
     },
     "execution_count": 65,
     "metadata": {},
     "output_type": "execute_result"
    }
   ],
   "source": [
    "merged_house_clean.shape"
   ]
  },
  {
   "cell_type": "code",
   "execution_count": 66,
   "id": "a1cc0872",
   "metadata": {},
   "outputs": [
    {
     "data": {
      "text/html": [
       "<div>\n",
       "<style scoped>\n",
       "    .dataframe tbody tr th:only-of-type {\n",
       "        vertical-align: middle;\n",
       "    }\n",
       "\n",
       "    .dataframe tbody tr th {\n",
       "        vertical-align: top;\n",
       "    }\n",
       "\n",
       "    .dataframe thead th {\n",
       "        text-align: right;\n",
       "    }\n",
       "</style>\n",
       "<table border=\"1\" class=\"dataframe\">\n",
       "  <thead>\n",
       "    <tr style=\"text-align: right;\">\n",
       "      <th></th>\n",
       "      <th>index</th>\n",
       "      <th>project name</th>\n",
       "      <th>street name</th>\n",
       "      <th>type</th>\n",
       "      <th>tenure</th>\n",
       "      <th>postal district</th>\n",
       "      <th>market segment</th>\n",
       "      <th>type of sale</th>\n",
       "      <th>no. of units</th>\n",
       "      <th>price</th>\n",
       "      <th>nett price</th>\n",
       "      <th>areasq</th>\n",
       "      <th>type of area</th>\n",
       "      <th>floor level</th>\n",
       "      <th>unit price psf</th>\n",
       "      <th>date of sale</th>\n",
       "    </tr>\n",
       "  </thead>\n",
       "  <tbody>\n",
       "    <tr>\n",
       "      <th>243</th>\n",
       "      <td>243</td>\n",
       "      <td>LANDED HOUSING DEVELOPMENT</td>\n",
       "      <td>PEARL ISLAND</td>\n",
       "      <td>Detached</td>\n",
       "      <td>86</td>\n",
       "      <td>4.0</td>\n",
       "      <td>CCR</td>\n",
       "      <td>Resale</td>\n",
       "      <td>1.0</td>\n",
       "      <td>16550000.0</td>\n",
       "      <td>-</td>\n",
       "      <td>8940.0</td>\n",
       "      <td>Land</td>\n",
       "      <td>-</td>\n",
       "      <td>1851.0</td>\n",
       "      <td>Jun-2017</td>\n",
       "    </tr>\n",
       "    <tr>\n",
       "      <th>244</th>\n",
       "      <td>244</td>\n",
       "      <td>LANDED HOUSING DEVELOPMENT</td>\n",
       "      <td>MERRYN ROAD</td>\n",
       "      <td>Detached</td>\n",
       "      <td>999</td>\n",
       "      <td>11.0</td>\n",
       "      <td>CCR</td>\n",
       "      <td>Resale</td>\n",
       "      <td>1.0</td>\n",
       "      <td>16550000.0</td>\n",
       "      <td>-</td>\n",
       "      <td>8878.0</td>\n",
       "      <td>Land</td>\n",
       "      <td>-</td>\n",
       "      <td>1864.0</td>\n",
       "      <td>Aug-2021</td>\n",
       "    </tr>\n",
       "    <tr>\n",
       "      <th>245</th>\n",
       "      <td>245</td>\n",
       "      <td>LANDED HOUSING DEVELOPMENT</td>\n",
       "      <td>COVE DRIVE</td>\n",
       "      <td>Detached</td>\n",
       "      <td>85</td>\n",
       "      <td>4.0</td>\n",
       "      <td>CCR</td>\n",
       "      <td>Resale</td>\n",
       "      <td>1.0</td>\n",
       "      <td>16500000.0</td>\n",
       "      <td>-</td>\n",
       "      <td>7281.0</td>\n",
       "      <td>Land</td>\n",
       "      <td>-</td>\n",
       "      <td>2266.0</td>\n",
       "      <td>Sep-2020</td>\n",
       "    </tr>\n",
       "    <tr>\n",
       "      <th>246</th>\n",
       "      <td>246</td>\n",
       "      <td>LANDED HOUSING DEVELOPMENT</td>\n",
       "      <td>WALTON ROAD</td>\n",
       "      <td>Detached</td>\n",
       "      <td>999</td>\n",
       "      <td>15.0</td>\n",
       "      <td>RCR</td>\n",
       "      <td>Resale</td>\n",
       "      <td>1.0</td>\n",
       "      <td>16300000.0</td>\n",
       "      <td>-</td>\n",
       "      <td>8673.0</td>\n",
       "      <td>Land</td>\n",
       "      <td>-</td>\n",
       "      <td>1879.0</td>\n",
       "      <td>Jul-2021</td>\n",
       "    </tr>\n",
       "    <tr>\n",
       "      <th>247</th>\n",
       "      <td>247</td>\n",
       "      <td>SANNY PARK</td>\n",
       "      <td>MERRYN ROAD</td>\n",
       "      <td>Detached</td>\n",
       "      <td>999</td>\n",
       "      <td>11.0</td>\n",
       "      <td>CCR</td>\n",
       "      <td>Resale</td>\n",
       "      <td>1.0</td>\n",
       "      <td>16300000.0</td>\n",
       "      <td>-</td>\n",
       "      <td>9064.0</td>\n",
       "      <td>Land</td>\n",
       "      <td>-</td>\n",
       "      <td>1798.0</td>\n",
       "      <td>Aug-2021</td>\n",
       "    </tr>\n",
       "  </tbody>\n",
       "</table>\n",
       "</div>"
      ],
      "text/plain": [
       "     index                project name   street name      type  tenure  \\\n",
       "243    243  LANDED HOUSING DEVELOPMENT  PEARL ISLAND  Detached      86   \n",
       "244    244  LANDED HOUSING DEVELOPMENT   MERRYN ROAD  Detached     999   \n",
       "245    245  LANDED HOUSING DEVELOPMENT    COVE DRIVE  Detached      85   \n",
       "246    246  LANDED HOUSING DEVELOPMENT   WALTON ROAD  Detached     999   \n",
       "247    247                  SANNY PARK   MERRYN ROAD  Detached     999   \n",
       "\n",
       "     postal district market segment type of sale  no. of units       price  \\\n",
       "243              4.0            CCR       Resale           1.0  16550000.0   \n",
       "244             11.0            CCR       Resale           1.0  16550000.0   \n",
       "245              4.0            CCR       Resale           1.0  16500000.0   \n",
       "246             15.0            RCR       Resale           1.0  16300000.0   \n",
       "247             11.0            CCR       Resale           1.0  16300000.0   \n",
       "\n",
       "    nett price  areasq type of area floor level  unit price psf date of sale  \n",
       "243          -  8940.0         Land           -          1851.0     Jun-2017  \n",
       "244          -  8878.0         Land           -          1864.0     Aug-2021  \n",
       "245          -  7281.0         Land           -          2266.0     Sep-2020  \n",
       "246          -  8673.0         Land           -          1879.0     Jul-2021  \n",
       "247          -  9064.0         Land           -          1798.0     Aug-2021  "
      ]
     },
     "execution_count": 66,
     "metadata": {},
     "output_type": "execute_result"
    }
   ],
   "source": [
    "merged_house_clean.head()"
   ]
  },
  {
   "cell_type": "code",
   "execution_count": 67,
   "id": "1d1a7341",
   "metadata": {},
   "outputs": [],
   "source": [
    "#to rearrrange the index\n",
    "merged_house_clean.reset_index(drop = True, inplace = True)\n",
    "merged_house_clean.drop(['index'], axis=1, inplace = True)\n",
    "merged_house_clean.reset_index(drop = False , inplace = True)"
   ]
  },
  {
   "cell_type": "code",
   "execution_count": 68,
   "id": "9a8027c5",
   "metadata": {},
   "outputs": [
    {
     "data": {
      "text/html": [
       "<div>\n",
       "<style scoped>\n",
       "    .dataframe tbody tr th:only-of-type {\n",
       "        vertical-align: middle;\n",
       "    }\n",
       "\n",
       "    .dataframe tbody tr th {\n",
       "        vertical-align: top;\n",
       "    }\n",
       "\n",
       "    .dataframe thead th {\n",
       "        text-align: right;\n",
       "    }\n",
       "</style>\n",
       "<table border=\"1\" class=\"dataframe\">\n",
       "  <thead>\n",
       "    <tr style=\"text-align: right;\">\n",
       "      <th></th>\n",
       "      <th>index</th>\n",
       "      <th>project name</th>\n",
       "      <th>street name</th>\n",
       "      <th>type</th>\n",
       "      <th>tenure</th>\n",
       "      <th>postal district</th>\n",
       "      <th>market segment</th>\n",
       "      <th>type of sale</th>\n",
       "      <th>no. of units</th>\n",
       "      <th>price</th>\n",
       "      <th>nett price</th>\n",
       "      <th>areasq</th>\n",
       "      <th>type of area</th>\n",
       "      <th>floor level</th>\n",
       "      <th>unit price psf</th>\n",
       "      <th>date of sale</th>\n",
       "    </tr>\n",
       "  </thead>\n",
       "  <tbody>\n",
       "    <tr>\n",
       "      <th>0</th>\n",
       "      <td>0</td>\n",
       "      <td>LANDED HOUSING DEVELOPMENT</td>\n",
       "      <td>PEARL ISLAND</td>\n",
       "      <td>Detached</td>\n",
       "      <td>86</td>\n",
       "      <td>4.0</td>\n",
       "      <td>CCR</td>\n",
       "      <td>Resale</td>\n",
       "      <td>1.0</td>\n",
       "      <td>16550000.0</td>\n",
       "      <td>-</td>\n",
       "      <td>8940.0</td>\n",
       "      <td>Land</td>\n",
       "      <td>-</td>\n",
       "      <td>1851.0</td>\n",
       "      <td>Jun-2017</td>\n",
       "    </tr>\n",
       "    <tr>\n",
       "      <th>1</th>\n",
       "      <td>1</td>\n",
       "      <td>LANDED HOUSING DEVELOPMENT</td>\n",
       "      <td>MERRYN ROAD</td>\n",
       "      <td>Detached</td>\n",
       "      <td>999</td>\n",
       "      <td>11.0</td>\n",
       "      <td>CCR</td>\n",
       "      <td>Resale</td>\n",
       "      <td>1.0</td>\n",
       "      <td>16550000.0</td>\n",
       "      <td>-</td>\n",
       "      <td>8878.0</td>\n",
       "      <td>Land</td>\n",
       "      <td>-</td>\n",
       "      <td>1864.0</td>\n",
       "      <td>Aug-2021</td>\n",
       "    </tr>\n",
       "    <tr>\n",
       "      <th>2</th>\n",
       "      <td>2</td>\n",
       "      <td>LANDED HOUSING DEVELOPMENT</td>\n",
       "      <td>COVE DRIVE</td>\n",
       "      <td>Detached</td>\n",
       "      <td>85</td>\n",
       "      <td>4.0</td>\n",
       "      <td>CCR</td>\n",
       "      <td>Resale</td>\n",
       "      <td>1.0</td>\n",
       "      <td>16500000.0</td>\n",
       "      <td>-</td>\n",
       "      <td>7281.0</td>\n",
       "      <td>Land</td>\n",
       "      <td>-</td>\n",
       "      <td>2266.0</td>\n",
       "      <td>Sep-2020</td>\n",
       "    </tr>\n",
       "    <tr>\n",
       "      <th>3</th>\n",
       "      <td>3</td>\n",
       "      <td>LANDED HOUSING DEVELOPMENT</td>\n",
       "      <td>WALTON ROAD</td>\n",
       "      <td>Detached</td>\n",
       "      <td>999</td>\n",
       "      <td>15.0</td>\n",
       "      <td>RCR</td>\n",
       "      <td>Resale</td>\n",
       "      <td>1.0</td>\n",
       "      <td>16300000.0</td>\n",
       "      <td>-</td>\n",
       "      <td>8673.0</td>\n",
       "      <td>Land</td>\n",
       "      <td>-</td>\n",
       "      <td>1879.0</td>\n",
       "      <td>Jul-2021</td>\n",
       "    </tr>\n",
       "    <tr>\n",
       "      <th>4</th>\n",
       "      <td>4</td>\n",
       "      <td>SANNY PARK</td>\n",
       "      <td>MERRYN ROAD</td>\n",
       "      <td>Detached</td>\n",
       "      <td>999</td>\n",
       "      <td>11.0</td>\n",
       "      <td>CCR</td>\n",
       "      <td>Resale</td>\n",
       "      <td>1.0</td>\n",
       "      <td>16300000.0</td>\n",
       "      <td>-</td>\n",
       "      <td>9064.0</td>\n",
       "      <td>Land</td>\n",
       "      <td>-</td>\n",
       "      <td>1798.0</td>\n",
       "      <td>Aug-2021</td>\n",
       "    </tr>\n",
       "  </tbody>\n",
       "</table>\n",
       "</div>"
      ],
      "text/plain": [
       "   index                project name   street name      type  tenure  \\\n",
       "0      0  LANDED HOUSING DEVELOPMENT  PEARL ISLAND  Detached      86   \n",
       "1      1  LANDED HOUSING DEVELOPMENT   MERRYN ROAD  Detached     999   \n",
       "2      2  LANDED HOUSING DEVELOPMENT    COVE DRIVE  Detached      85   \n",
       "3      3  LANDED HOUSING DEVELOPMENT   WALTON ROAD  Detached     999   \n",
       "4      4                  SANNY PARK   MERRYN ROAD  Detached     999   \n",
       "\n",
       "   postal district market segment type of sale  no. of units       price  \\\n",
       "0              4.0            CCR       Resale           1.0  16550000.0   \n",
       "1             11.0            CCR       Resale           1.0  16550000.0   \n",
       "2              4.0            CCR       Resale           1.0  16500000.0   \n",
       "3             15.0            RCR       Resale           1.0  16300000.0   \n",
       "4             11.0            CCR       Resale           1.0  16300000.0   \n",
       "\n",
       "  nett price  areasq type of area floor level  unit price psf date of sale  \n",
       "0          -  8940.0         Land           -          1851.0     Jun-2017  \n",
       "1          -  8878.0         Land           -          1864.0     Aug-2021  \n",
       "2          -  7281.0         Land           -          2266.0     Sep-2020  \n",
       "3          -  8673.0         Land           -          1879.0     Jul-2021  \n",
       "4          -  9064.0         Land           -          1798.0     Aug-2021  "
      ]
     },
     "execution_count": 68,
     "metadata": {},
     "output_type": "execute_result"
    }
   ],
   "source": [
    "merged_house_clean.head()"
   ]
  },
  {
   "cell_type": "code",
   "execution_count": 89,
   "id": "f09c3116",
   "metadata": {},
   "outputs": [
    {
     "data": {
      "text/plain": [
       "Text(0.5, 0, 'no. of house within this range')"
      ]
     },
     "execution_count": 89,
     "metadata": {},
     "output_type": "execute_result"
    },
    {
     "data": {
      "image/png": "[encoded data removed]",
      "text/plain": [
       "<Figure size 432x288 with 1 Axes>"
      ]
     },
     "metadata": {},
     "output_type": "display_data"
    }
   ],
   "source": [
    "#compare to the histogram above in the merged_house_tenure\n",
    "price = merged_house_clean['price']\n",
    "plt.hist(price, bins =50)\n",
    "plt.ylabel('Price')\n",
    "plt.xlabel(\"no. of house within this range\")"
   ]
  },
  {
   "cell_type": "code",
   "execution_count": 86,
   "id": "2e768f80",
   "metadata": {},
   "outputs": [
    {
     "data": {
      "text/plain": [
       "<matplotlib.lines.Line2D at 0x191c539e9a0>"
      ]
     },
     "execution_count": 86,
     "metadata": {},
     "output_type": "execute_result"
    },
    {
     "data": {
      "image/png": "[encoded data removed]",
      "text/plain": [
       "<Figure size 432x288 with 2 Axes>"
      ]
     },
     "metadata": {},
     "output_type": "display_data"
    }
   ],
   "source": [
    "plt.subplot(1,2,1)\n",
    "sns.scatterplot(y = merged_house['price'], x = merged_house['tenure'])\n",
    "plt.axvline(x=99, color = 'red')\n",
    "\n",
    "\n",
    "plt.subplot(1,2,2)\n",
    "sns.scatterplot(y = merged_house_clean['price'], x = merged_house_clean['tenure'])\n",
    "plt.axvline(x=99, color = 'red')\n",
    "\n",
    "#merged_house_clean do not have as much outliers as merged_house"
   ]
  },
  {
   "cell_type": "code",
   "execution_count": 91,
   "id": "7e43ea36",
   "metadata": {},
   "outputs": [
    {
     "data": {
      "text/plain": [
       "Text(0.5, 0, 'no. of house within this range')"
      ]
     },
     "execution_count": 91,
     "metadata": {},
     "output_type": "execute_result"
    },
    {
     "data": {
      "image/png": "[encoded data removed]",
      "text/plain": [
       "<Figure size 432x288 with 2 Axes>"
      ]
     },
     "metadata": {},
     "output_type": "display_data"
    }
   ],
   "source": [
    "plt.subplot(1,2,1)\n",
    "price = merged_house_tenure['price']\n",
    "plt.hist(price, bins =50)\n",
    "plt.ylabel('Price')\n",
    "plt.xlabel(\"no. of house within this range\")\n",
    "\n",
    "plt.subplot(1,2,2)\n",
    "price = merged_house_clean['price']\n",
    "plt.hist(price, bins =50)\n",
    "plt.ylabel('Price')\n",
    "plt.xlabel(\"no. of house within this range\")\n",
    "\n",
    "#outliers is signficantly reduced"
   ]
  },
  {
   "cell_type": "code",
   "execution_count": 92,
   "id": "a2345d9e",
   "metadata": {},
   "outputs": [],
   "source": [
    "# To dummify certain features and name as merged_house_data\n",
    "\n",
    "merged_house_data = pd.get_dummies(merged_house_clean, columns =['market segment', 'postal district', 'type', 'type of sale'])"
   ]
  },
  {
   "cell_type": "code",
   "execution_count": 93,
   "id": "3809f83e",
   "metadata": {},
   "outputs": [
    {
     "data": {
      "text/plain": [
       "(9240, 45)"
      ]
     },
     "execution_count": 93,
     "metadata": {},
     "output_type": "execute_result"
    }
   ],
   "source": [
    "merged_house_data.shape"
   ]
  },
  {
   "cell_type": "markdown",
   "id": "b7d3c778",
   "metadata": {},
   "source": [
    "### 5% reduction model to be used for modelling"
   ]
  },
  {
   "cell_type": "code",
   "execution_count": 94,
   "id": "66577717",
   "metadata": {},
   "outputs": [],
   "source": [
    "merged_house_data.to_csv('./dataset_asof_051121/merged_house_data.csv', index=False)"
   ]
  },
  {
   "cell_type": "markdown",
   "id": "372b7202",
   "metadata": {},
   "source": [
    "### To remove 10% of the data for modelling"
   ]
  },
  {
   "cell_type": "code",
   "execution_count": 96,
   "id": "d849fc53",
   "metadata": {},
   "outputs": [
    {
     "data": {
      "text/html": [
       "<div>\n",
       "<style scoped>\n",
       "    .dataframe tbody tr th:only-of-type {\n",
       "        vertical-align: middle;\n",
       "    }\n",
       "\n",
       "    .dataframe tbody tr th {\n",
       "        vertical-align: top;\n",
       "    }\n",
       "\n",
       "    .dataframe thead th {\n",
       "        text-align: right;\n",
       "    }\n",
       "</style>\n",
       "<table border=\"1\" class=\"dataframe\">\n",
       "  <thead>\n",
       "    <tr style=\"text-align: right;\">\n",
       "      <th></th>\n",
       "      <th>index</th>\n",
       "      <th>project name</th>\n",
       "      <th>street name</th>\n",
       "      <th>tenure</th>\n",
       "      <th>no. of units</th>\n",
       "      <th>price</th>\n",
       "      <th>nett price</th>\n",
       "      <th>areasq</th>\n",
       "      <th>type of area</th>\n",
       "      <th>floor level</th>\n",
       "      <th>...</th>\n",
       "      <th>postal district_25.0</th>\n",
       "      <th>postal district_26.0</th>\n",
       "      <th>postal district_27.0</th>\n",
       "      <th>postal district_28.0</th>\n",
       "      <th>type_Detached</th>\n",
       "      <th>type_Semi-detached</th>\n",
       "      <th>type_Terrace</th>\n",
       "      <th>type of sale_New Sale</th>\n",
       "      <th>type of sale_Resale</th>\n",
       "      <th>type of sale_Sub Sale</th>\n",
       "    </tr>\n",
       "  </thead>\n",
       "  <tbody>\n",
       "    <tr>\n",
       "      <th>0</th>\n",
       "      <td>0</td>\n",
       "      <td>LANDED HOUSING DEVELOPMENT</td>\n",
       "      <td>PEARL ISLAND</td>\n",
       "      <td>86</td>\n",
       "      <td>1.0</td>\n",
       "      <td>16550000.0</td>\n",
       "      <td>-</td>\n",
       "      <td>8940.0</td>\n",
       "      <td>Land</td>\n",
       "      <td>-</td>\n",
       "      <td>...</td>\n",
       "      <td>0</td>\n",
       "      <td>0</td>\n",
       "      <td>0</td>\n",
       "      <td>0</td>\n",
       "      <td>1</td>\n",
       "      <td>0</td>\n",
       "      <td>0</td>\n",
       "      <td>0</td>\n",
       "      <td>1</td>\n",
       "      <td>0</td>\n",
       "    </tr>\n",
       "    <tr>\n",
       "      <th>1</th>\n",
       "      <td>1</td>\n",
       "      <td>LANDED HOUSING DEVELOPMENT</td>\n",
       "      <td>MERRYN ROAD</td>\n",
       "      <td>999</td>\n",
       "      <td>1.0</td>\n",
       "      <td>16550000.0</td>\n",
       "      <td>-</td>\n",
       "      <td>8878.0</td>\n",
       "      <td>Land</td>\n",
       "      <td>-</td>\n",
       "      <td>...</td>\n",
       "      <td>0</td>\n",
       "      <td>0</td>\n",
       "      <td>0</td>\n",
       "      <td>0</td>\n",
       "      <td>1</td>\n",
       "      <td>0</td>\n",
       "      <td>0</td>\n",
       "      <td>0</td>\n",
       "      <td>1</td>\n",
       "      <td>0</td>\n",
       "    </tr>\n",
       "    <tr>\n",
       "      <th>2</th>\n",
       "      <td>2</td>\n",
       "      <td>LANDED HOUSING DEVELOPMENT</td>\n",
       "      <td>COVE DRIVE</td>\n",
       "      <td>85</td>\n",
       "      <td>1.0</td>\n",
       "      <td>16500000.0</td>\n",
       "      <td>-</td>\n",
       "      <td>7281.0</td>\n",
       "      <td>Land</td>\n",
       "      <td>-</td>\n",
       "      <td>...</td>\n",
       "      <td>0</td>\n",
       "      <td>0</td>\n",
       "      <td>0</td>\n",
       "      <td>0</td>\n",
       "      <td>1</td>\n",
       "      <td>0</td>\n",
       "      <td>0</td>\n",
       "      <td>0</td>\n",
       "      <td>1</td>\n",
       "      <td>0</td>\n",
       "    </tr>\n",
       "    <tr>\n",
       "      <th>3</th>\n",
       "      <td>3</td>\n",
       "      <td>LANDED HOUSING DEVELOPMENT</td>\n",
       "      <td>WALTON ROAD</td>\n",
       "      <td>999</td>\n",
       "      <td>1.0</td>\n",
       "      <td>16300000.0</td>\n",
       "      <td>-</td>\n",
       "      <td>8673.0</td>\n",
       "      <td>Land</td>\n",
       "      <td>-</td>\n",
       "      <td>...</td>\n",
       "      <td>0</td>\n",
       "      <td>0</td>\n",
       "      <td>0</td>\n",
       "      <td>0</td>\n",
       "      <td>1</td>\n",
       "      <td>0</td>\n",
       "      <td>0</td>\n",
       "      <td>0</td>\n",
       "      <td>1</td>\n",
       "      <td>0</td>\n",
       "    </tr>\n",
       "    <tr>\n",
       "      <th>4</th>\n",
       "      <td>4</td>\n",
       "      <td>SANNY PARK</td>\n",
       "      <td>MERRYN ROAD</td>\n",
       "      <td>999</td>\n",
       "      <td>1.0</td>\n",
       "      <td>16300000.0</td>\n",
       "      <td>-</td>\n",
       "      <td>9064.0</td>\n",
       "      <td>Land</td>\n",
       "      <td>-</td>\n",
       "      <td>...</td>\n",
       "      <td>0</td>\n",
       "      <td>0</td>\n",
       "      <td>0</td>\n",
       "      <td>0</td>\n",
       "      <td>1</td>\n",
       "      <td>0</td>\n",
       "      <td>0</td>\n",
       "      <td>0</td>\n",
       "      <td>1</td>\n",
       "      <td>0</td>\n",
       "    </tr>\n",
       "  </tbody>\n",
       "</table>\n",
       "<p>5 rows × 45 columns</p>\n",
       "</div>"
      ],
      "text/plain": [
       "   index                project name   street name  tenure  no. of units  \\\n",
       "0      0  LANDED HOUSING DEVELOPMENT  PEARL ISLAND      86           1.0   \n",
       "1      1  LANDED HOUSING DEVELOPMENT   MERRYN ROAD     999           1.0   \n",
       "2      2  LANDED HOUSING DEVELOPMENT    COVE DRIVE      85           1.0   \n",
       "3      3  LANDED HOUSING DEVELOPMENT   WALTON ROAD     999           1.0   \n",
       "4      4                  SANNY PARK   MERRYN ROAD     999           1.0   \n",
       "\n",
       "        price nett price  areasq type of area floor level  ...  \\\n",
       "0  16550000.0          -  8940.0         Land           -  ...   \n",
       "1  16550000.0          -  8878.0         Land           -  ...   \n",
       "2  16500000.0          -  7281.0         Land           -  ...   \n",
       "3  16300000.0          -  8673.0         Land           -  ...   \n",
       "4  16300000.0          -  9064.0         Land           -  ...   \n",
       "\n",
       "   postal district_25.0 postal district_26.0  postal district_27.0  \\\n",
       "0                     0                    0                     0   \n",
       "1                     0                    0                     0   \n",
       "2                     0                    0                     0   \n",
       "3                     0                    0                     0   \n",
       "4                     0                    0                     0   \n",
       "\n",
       "   postal district_28.0  type_Detached  type_Semi-detached  type_Terrace  \\\n",
       "0                     0              1                   0             0   \n",
       "1                     0              1                   0             0   \n",
       "2                     0              1                   0             0   \n",
       "3                     0              1                   0             0   \n",
       "4                     0              1                   0             0   \n",
       "\n",
       "   type of sale_New Sale  type of sale_Resale  type of sale_Sub Sale  \n",
       "0                      0                    1                      0  \n",
       "1                      0                    1                      0  \n",
       "2                      0                    1                      0  \n",
       "3                      0                    1                      0  \n",
       "4                      0                    1                      0  \n",
       "\n",
       "[5 rows x 45 columns]"
      ]
     },
     "execution_count": 96,
     "metadata": {},
     "output_type": "execute_result"
    }
   ],
   "source": [
    "merged_house_data.head()"
   ]
  },
  {
   "cell_type": "code",
   "execution_count": 97,
   "id": "08a936ca",
   "metadata": {},
   "outputs": [
    {
     "data": {
      "text/plain": [
       "index                                           242\n",
       "project name             LANDED HOUSING DEVELOPMENT\n",
       "street name                          GARLICK AVENUE\n",
       "tenure                                          999\n",
       "no. of units                                    1.0\n",
       "price                                    11300000.0\n",
       "nett price                                        -\n",
       "areasq                                       9222.0\n",
       "type of area                                   Land\n",
       "floor level                                       -\n",
       "unit price psf                               1225.0\n",
       "date of sale                               Apr-2021\n",
       "market segment_CCR                                1\n",
       "market segment_OCR                                0\n",
       "market segment_RCR                                0\n",
       "postal district_2.0                               0\n",
       "postal district_3.0                               0\n",
       "postal district_4.0                               0\n",
       "postal district_5.0                               0\n",
       "postal district_8.0                               0\n",
       "postal district_9.0                               0\n",
       "postal district_10.0                              1\n",
       "postal district_11.0                              0\n",
       "postal district_12.0                              0\n",
       "postal district_13.0                              0\n",
       "postal district_14.0                              0\n",
       "postal district_15.0                              0\n",
       "postal district_16.0                              0\n",
       "postal district_17.0                              0\n",
       "postal district_18.0                              0\n",
       "postal district_19.0                              0\n",
       "postal district_20.0                              0\n",
       "postal district_21.0                              0\n",
       "postal district_22.0                              0\n",
       "postal district_23.0                              0\n",
       "postal district_25.0                              0\n",
       "postal district_26.0                              0\n",
       "postal district_27.0                              0\n",
       "postal district_28.0                              0\n",
       "type_Detached                                     1\n",
       "type_Semi-detached                                0\n",
       "type_Terrace                                      0\n",
       "type of sale_New Sale                             0\n",
       "type of sale_Resale                               1\n",
       "type of sale_Sub Sale                             0\n",
       "Name: 242, dtype: object"
      ]
     },
     "execution_count": 97,
     "metadata": {},
     "output_type": "execute_result"
    }
   ],
   "source": [
    "### removing another 243 rows from top and the lowest price housing (5% we remove 243 rows above)\n",
    "\n",
    "merged_house_data.iloc[242]\n",
    "\n",
    "# price is stated as 11300000, to be removed"
   ]
  },
  {
   "cell_type": "code",
   "execution_count": 103,
   "id": "3e0c5e09",
   "metadata": {},
   "outputs": [
    {
     "data": {
      "text/plain": [
       "index                             8996\n",
       "project name              THE RIVERINA\n",
       "street name              RIVERINA VIEW\n",
       "tenure                              74\n",
       "no. of units                       1.0\n",
       "price                        1648000.0\n",
       "nett price                           -\n",
       "areasq                          1615.0\n",
       "type of area                      Land\n",
       "floor level                          -\n",
       "unit price psf                  1021.0\n",
       "date of sale                  Nov-2020\n",
       "market segment_CCR                   0\n",
       "market segment_OCR                   1\n",
       "market segment_RCR                   0\n",
       "postal district_2.0                  0\n",
       "postal district_3.0                  0\n",
       "postal district_4.0                  0\n",
       "postal district_5.0                  0\n",
       "postal district_8.0                  0\n",
       "postal district_9.0                  0\n",
       "postal district_10.0                 0\n",
       "postal district_11.0                 0\n",
       "postal district_12.0                 0\n",
       "postal district_13.0                 0\n",
       "postal district_14.0                 0\n",
       "postal district_15.0                 0\n",
       "postal district_16.0                 0\n",
       "postal district_17.0                 0\n",
       "postal district_18.0                 1\n",
       "postal district_19.0                 0\n",
       "postal district_20.0                 0\n",
       "postal district_21.0                 0\n",
       "postal district_22.0                 0\n",
       "postal district_23.0                 0\n",
       "postal district_25.0                 0\n",
       "postal district_26.0                 0\n",
       "postal district_27.0                 0\n",
       "postal district_28.0                 0\n",
       "type_Detached                        0\n",
       "type_Semi-detached                   0\n",
       "type_Terrace                         1\n",
       "type of sale_New Sale                0\n",
       "type of sale_Resale                  1\n",
       "type of sale_Sub Sale                0\n",
       "Name: 8996, dtype: object"
      ]
     },
     "execution_count": 103,
     "metadata": {},
     "output_type": "execute_result"
    }
   ],
   "source": [
    "#counting the lowest rows is 9287 - 243 = 8997\n",
    "merged_house_data.iloc[8996]\n",
    "# price is stated as 1648000, to be removed"
   ]
  },
  {
   "cell_type": "code",
   "execution_count": 104,
   "id": "d6c9afea",
   "metadata": {},
   "outputs": [],
   "source": [
    "# save as merged_house_10 for 10% removal of dataset\n",
    "\n",
    "merged_house_10 = merged_house_data.copy(deep = True)"
   ]
  },
  {
   "cell_type": "code",
   "execution_count": 105,
   "id": "5938a53b",
   "metadata": {},
   "outputs": [],
   "source": [
    "merged_house_10 = merged_house_10[merged_house_10['price'] < 11300000]\n",
    "merged_house_10 = merged_house_10[merged_house_10['price'] > 1648000]"
   ]
  },
  {
   "cell_type": "code",
   "execution_count": 106,
   "id": "16b1f850",
   "metadata": {},
   "outputs": [
    {
     "data": {
      "text/plain": [
       "(8753, 45)"
      ]
     },
     "execution_count": 106,
     "metadata": {},
     "output_type": "execute_result"
    }
   ],
   "source": [
    "merged_house_10.shape"
   ]
  },
  {
   "cell_type": "code",
   "execution_count": 107,
   "id": "74ffd4d7",
   "metadata": {},
   "outputs": [
    {
     "data": {
      "text/html": [
       "<div>\n",
       "<style scoped>\n",
       "    .dataframe tbody tr th:only-of-type {\n",
       "        vertical-align: middle;\n",
       "    }\n",
       "\n",
       "    .dataframe tbody tr th {\n",
       "        vertical-align: top;\n",
       "    }\n",
       "\n",
       "    .dataframe thead th {\n",
       "        text-align: right;\n",
       "    }\n",
       "</style>\n",
       "<table border=\"1\" class=\"dataframe\">\n",
       "  <thead>\n",
       "    <tr style=\"text-align: right;\">\n",
       "      <th></th>\n",
       "      <th>index</th>\n",
       "      <th>project name</th>\n",
       "      <th>street name</th>\n",
       "      <th>tenure</th>\n",
       "      <th>no. of units</th>\n",
       "      <th>price</th>\n",
       "      <th>nett price</th>\n",
       "      <th>areasq</th>\n",
       "      <th>type of area</th>\n",
       "      <th>floor level</th>\n",
       "      <th>...</th>\n",
       "      <th>postal district_25.0</th>\n",
       "      <th>postal district_26.0</th>\n",
       "      <th>postal district_27.0</th>\n",
       "      <th>postal district_28.0</th>\n",
       "      <th>type_Detached</th>\n",
       "      <th>type_Semi-detached</th>\n",
       "      <th>type_Terrace</th>\n",
       "      <th>type of sale_New Sale</th>\n",
       "      <th>type of sale_Resale</th>\n",
       "      <th>type of sale_Sub Sale</th>\n",
       "    </tr>\n",
       "  </thead>\n",
       "  <tbody>\n",
       "    <tr>\n",
       "      <th>243</th>\n",
       "      <td>243</td>\n",
       "      <td>LANDED HOUSING DEVELOPMENT</td>\n",
       "      <td>PEARL ISLAND</td>\n",
       "      <td>86</td>\n",
       "      <td>1.0</td>\n",
       "      <td>11288000.0</td>\n",
       "      <td>-</td>\n",
       "      <td>7011.0</td>\n",
       "      <td>Land</td>\n",
       "      <td>-</td>\n",
       "      <td>...</td>\n",
       "      <td>0</td>\n",
       "      <td>0</td>\n",
       "      <td>0</td>\n",
       "      <td>0</td>\n",
       "      <td>1</td>\n",
       "      <td>0</td>\n",
       "      <td>0</td>\n",
       "      <td>0</td>\n",
       "      <td>1</td>\n",
       "      <td>0</td>\n",
       "    </tr>\n",
       "    <tr>\n",
       "      <th>244</th>\n",
       "      <td>244</td>\n",
       "      <td>LANDED HOUSING DEVELOPMENT</td>\n",
       "      <td>SUNSET PLACE</td>\n",
       "      <td>999</td>\n",
       "      <td>1.0</td>\n",
       "      <td>11237500.0</td>\n",
       "      <td>-</td>\n",
       "      <td>7749.0</td>\n",
       "      <td>Land</td>\n",
       "      <td>-</td>\n",
       "      <td>...</td>\n",
       "      <td>0</td>\n",
       "      <td>0</td>\n",
       "      <td>0</td>\n",
       "      <td>0</td>\n",
       "      <td>1</td>\n",
       "      <td>0</td>\n",
       "      <td>0</td>\n",
       "      <td>0</td>\n",
       "      <td>1</td>\n",
       "      <td>0</td>\n",
       "    </tr>\n",
       "    <tr>\n",
       "      <th>245</th>\n",
       "      <td>245</td>\n",
       "      <td>LANDED HOUSING DEVELOPMENT</td>\n",
       "      <td>GROVE DRIVE</td>\n",
       "      <td>999</td>\n",
       "      <td>1.0</td>\n",
       "      <td>11200000.0</td>\n",
       "      <td>-</td>\n",
       "      <td>4170.0</td>\n",
       "      <td>Land</td>\n",
       "      <td>-</td>\n",
       "      <td>...</td>\n",
       "      <td>0</td>\n",
       "      <td>0</td>\n",
       "      <td>0</td>\n",
       "      <td>0</td>\n",
       "      <td>1</td>\n",
       "      <td>0</td>\n",
       "      <td>0</td>\n",
       "      <td>1</td>\n",
       "      <td>0</td>\n",
       "      <td>0</td>\n",
       "    </tr>\n",
       "    <tr>\n",
       "      <th>246</th>\n",
       "      <td>246</td>\n",
       "      <td>PARADISE ISLAND</td>\n",
       "      <td>PARADISE ISLAND</td>\n",
       "      <td>83</td>\n",
       "      <td>1.0</td>\n",
       "      <td>11200000.0</td>\n",
       "      <td>-</td>\n",
       "      <td>8633.0</td>\n",
       "      <td>Land</td>\n",
       "      <td>-</td>\n",
       "      <td>...</td>\n",
       "      <td>0</td>\n",
       "      <td>0</td>\n",
       "      <td>0</td>\n",
       "      <td>0</td>\n",
       "      <td>1</td>\n",
       "      <td>0</td>\n",
       "      <td>0</td>\n",
       "      <td>0</td>\n",
       "      <td>1</td>\n",
       "      <td>0</td>\n",
       "    </tr>\n",
       "    <tr>\n",
       "      <th>247</th>\n",
       "      <td>247</td>\n",
       "      <td>LANDED HOUSING DEVELOPMENT</td>\n",
       "      <td>BRANKSOME ROAD</td>\n",
       "      <td>999</td>\n",
       "      <td>1.0</td>\n",
       "      <td>11200000.0</td>\n",
       "      <td>-</td>\n",
       "      <td>7129.0</td>\n",
       "      <td>Land</td>\n",
       "      <td>-</td>\n",
       "      <td>...</td>\n",
       "      <td>0</td>\n",
       "      <td>0</td>\n",
       "      <td>0</td>\n",
       "      <td>0</td>\n",
       "      <td>1</td>\n",
       "      <td>0</td>\n",
       "      <td>0</td>\n",
       "      <td>0</td>\n",
       "      <td>1</td>\n",
       "      <td>0</td>\n",
       "    </tr>\n",
       "  </tbody>\n",
       "</table>\n",
       "<p>5 rows × 45 columns</p>\n",
       "</div>"
      ],
      "text/plain": [
       "     index                project name      street name  tenure  no. of units  \\\n",
       "243    243  LANDED HOUSING DEVELOPMENT     PEARL ISLAND      86           1.0   \n",
       "244    244  LANDED HOUSING DEVELOPMENT     SUNSET PLACE     999           1.0   \n",
       "245    245  LANDED HOUSING DEVELOPMENT      GROVE DRIVE     999           1.0   \n",
       "246    246             PARADISE ISLAND  PARADISE ISLAND      83           1.0   \n",
       "247    247  LANDED HOUSING DEVELOPMENT   BRANKSOME ROAD     999           1.0   \n",
       "\n",
       "          price nett price  areasq type of area floor level  ...  \\\n",
       "243  11288000.0          -  7011.0         Land           -  ...   \n",
       "244  11237500.0          -  7749.0         Land           -  ...   \n",
       "245  11200000.0          -  4170.0         Land           -  ...   \n",
       "246  11200000.0          -  8633.0         Land           -  ...   \n",
       "247  11200000.0          -  7129.0         Land           -  ...   \n",
       "\n",
       "     postal district_25.0 postal district_26.0  postal district_27.0  \\\n",
       "243                     0                    0                     0   \n",
       "244                     0                    0                     0   \n",
       "245                     0                    0                     0   \n",
       "246                     0                    0                     0   \n",
       "247                     0                    0                     0   \n",
       "\n",
       "     postal district_28.0  type_Detached  type_Semi-detached  type_Terrace  \\\n",
       "243                     0              1                   0             0   \n",
       "244                     0              1                   0             0   \n",
       "245                     0              1                   0             0   \n",
       "246                     0              1                   0             0   \n",
       "247                     0              1                   0             0   \n",
       "\n",
       "     type of sale_New Sale  type of sale_Resale  type of sale_Sub Sale  \n",
       "243                      0                    1                      0  \n",
       "244                      0                    1                      0  \n",
       "245                      1                    0                      0  \n",
       "246                      0                    1                      0  \n",
       "247                      0                    1                      0  \n",
       "\n",
       "[5 rows x 45 columns]"
      ]
     },
     "execution_count": 107,
     "metadata": {},
     "output_type": "execute_result"
    }
   ],
   "source": [
    "merged_house_10.head()"
   ]
  },
  {
   "cell_type": "code",
   "execution_count": 108,
   "id": "11876496",
   "metadata": {},
   "outputs": [
    {
     "data": {
      "text/plain": [
       "<matplotlib.lines.Line2D at 0x191c68a82e0>"
      ]
     },
     "execution_count": 108,
     "metadata": {},
     "output_type": "execute_result"
    },
    {
     "data": {
      "image/png": "[encoded data removed]",
      "text/plain": [
       "<Figure size 432x288 with 3 Axes>"
      ]
     },
     "metadata": {},
     "output_type": "display_data"
    }
   ],
   "source": [
    "plt.subplot(1,3,1)\n",
    "sns.scatterplot(y = merged_house['price'], x = merged_house['tenure'])\n",
    "plt.axvline(x=99, color = 'red')\n",
    "\n",
    "\n",
    "plt.subplot(1,3,2)\n",
    "sns.scatterplot(y = merged_house_clean['price'], x = merged_house_clean['tenure'])\n",
    "plt.axvline(x=99, color = 'red')\n",
    "\n",
    "plt.subplot(1,3,3)\n",
    "sns.scatterplot(y = merged_house_10['price'], x = merged_house_10['tenure'])\n",
    "plt.axvline(x=99, color = 'red')\n",
    "\n",
    "#when we compare the y axis on price, dataset is more evenly distributed"
   ]
  },
  {
   "cell_type": "code",
   "execution_count": 111,
   "id": "12c29068",
   "metadata": {},
   "outputs": [
    {
     "data": {
      "text/plain": [
       "Text(0.5, 0, 'no. of house')"
      ]
     },
     "execution_count": 111,
     "metadata": {},
     "output_type": "execute_result"
    },
    {
     "data": {
      "image/png": "[encoded data removed]",
      "text/plain": [
       "<Figure size 432x288 with 3 Axes>"
      ]
     },
     "metadata": {},
     "output_type": "display_data"
    }
   ],
   "source": [
    "plt.subplot(1,3,1)\n",
    "price = merged_house_tenure['price']\n",
    "plt.hist(price, bins =50)\n",
    "plt.ylabel('Price')\n",
    "plt.xlabel(\"no. of house\")\n",
    "\n",
    "plt.subplot(1,3,2)\n",
    "price = merged_house_clean['price']\n",
    "plt.hist(price, bins =50)\n",
    "plt.ylabel('Price')\n",
    "plt.xlabel(\"no. of house\")\n",
    "\n",
    "plt.subplot(1,3,3)\n",
    "price = merged_house_10['price']\n",
    "plt.hist(price, bins =50)\n",
    "plt.ylabel('Price')\n",
    "plt.xlabel(\"no. of house\")\n",
    "\n",
    "#when we compare the x axis no. of houses, dataset is more evenly distributed, the price also decrease as well making the\n",
    "#histogram spread out more evenly"
   ]
  },
  {
   "cell_type": "code",
   "execution_count": 112,
   "id": "51bac4b0",
   "metadata": {},
   "outputs": [],
   "source": [
    "# to rerrange the index again\n",
    "merged_house_10.reset_index(drop = True, inplace = True)\n",
    "merged_house_10.drop(['index'], axis=1, inplace = True)\n",
    "merged_house_10.reset_index(drop = False , inplace = True)"
   ]
  },
  {
   "cell_type": "code",
   "execution_count": 113,
   "id": "296a93f8",
   "metadata": {},
   "outputs": [
    {
     "data": {
      "text/html": [
       "<div>\n",
       "<style scoped>\n",
       "    .dataframe tbody tr th:only-of-type {\n",
       "        vertical-align: middle;\n",
       "    }\n",
       "\n",
       "    .dataframe tbody tr th {\n",
       "        vertical-align: top;\n",
       "    }\n",
       "\n",
       "    .dataframe thead th {\n",
       "        text-align: right;\n",
       "    }\n",
       "</style>\n",
       "<table border=\"1\" class=\"dataframe\">\n",
       "  <thead>\n",
       "    <tr style=\"text-align: right;\">\n",
       "      <th></th>\n",
       "      <th>index</th>\n",
       "      <th>project name</th>\n",
       "      <th>street name</th>\n",
       "      <th>tenure</th>\n",
       "      <th>no. of units</th>\n",
       "      <th>price</th>\n",
       "      <th>nett price</th>\n",
       "      <th>areasq</th>\n",
       "      <th>type of area</th>\n",
       "      <th>floor level</th>\n",
       "      <th>...</th>\n",
       "      <th>postal district_25.0</th>\n",
       "      <th>postal district_26.0</th>\n",
       "      <th>postal district_27.0</th>\n",
       "      <th>postal district_28.0</th>\n",
       "      <th>type_Detached</th>\n",
       "      <th>type_Semi-detached</th>\n",
       "      <th>type_Terrace</th>\n",
       "      <th>type of sale_New Sale</th>\n",
       "      <th>type of sale_Resale</th>\n",
       "      <th>type of sale_Sub Sale</th>\n",
       "    </tr>\n",
       "  </thead>\n",
       "  <tbody>\n",
       "    <tr>\n",
       "      <th>8748</th>\n",
       "      <td>8748</td>\n",
       "      <td>VILLA BEGONIA</td>\n",
       "      <td>BEGONIA WALK</td>\n",
       "      <td>72</td>\n",
       "      <td>1.0</td>\n",
       "      <td>1650000.0</td>\n",
       "      <td>-</td>\n",
       "      <td>1763.0</td>\n",
       "      <td>Land</td>\n",
       "      <td>-</td>\n",
       "      <td>...</td>\n",
       "      <td>0</td>\n",
       "      <td>0</td>\n",
       "      <td>0</td>\n",
       "      <td>1</td>\n",
       "      <td>0</td>\n",
       "      <td>0</td>\n",
       "      <td>1</td>\n",
       "      <td>0</td>\n",
       "      <td>1</td>\n",
       "      <td>0</td>\n",
       "    </tr>\n",
       "    <tr>\n",
       "      <th>8749</th>\n",
       "      <td>8749</td>\n",
       "      <td>THE RIVERINA</td>\n",
       "      <td>RIVERINA WALK</td>\n",
       "      <td>74</td>\n",
       "      <td>1.0</td>\n",
       "      <td>1650000.0</td>\n",
       "      <td>-</td>\n",
       "      <td>1619.0</td>\n",
       "      <td>Land</td>\n",
       "      <td>-</td>\n",
       "      <td>...</td>\n",
       "      <td>0</td>\n",
       "      <td>0</td>\n",
       "      <td>0</td>\n",
       "      <td>0</td>\n",
       "      <td>0</td>\n",
       "      <td>0</td>\n",
       "      <td>1</td>\n",
       "      <td>0</td>\n",
       "      <td>1</td>\n",
       "      <td>0</td>\n",
       "    </tr>\n",
       "    <tr>\n",
       "      <th>8750</th>\n",
       "      <td>8750</td>\n",
       "      <td>FUYONG ESTATE</td>\n",
       "      <td>JALAN UJI</td>\n",
       "      <td>25</td>\n",
       "      <td>1.0</td>\n",
       "      <td>1650000.0</td>\n",
       "      <td>-</td>\n",
       "      <td>5021.0</td>\n",
       "      <td>Land</td>\n",
       "      <td>-</td>\n",
       "      <td>...</td>\n",
       "      <td>0</td>\n",
       "      <td>0</td>\n",
       "      <td>0</td>\n",
       "      <td>0</td>\n",
       "      <td>1</td>\n",
       "      <td>0</td>\n",
       "      <td>0</td>\n",
       "      <td>0</td>\n",
       "      <td>1</td>\n",
       "      <td>0</td>\n",
       "    </tr>\n",
       "    <tr>\n",
       "      <th>8751</th>\n",
       "      <td>8751</td>\n",
       "      <td>LAKESIDE GROVE</td>\n",
       "      <td>CORPORATION WALK</td>\n",
       "      <td>74</td>\n",
       "      <td>1.0</td>\n",
       "      <td>1650000.0</td>\n",
       "      <td>-</td>\n",
       "      <td>1659.0</td>\n",
       "      <td>Land</td>\n",
       "      <td>-</td>\n",
       "      <td>...</td>\n",
       "      <td>0</td>\n",
       "      <td>0</td>\n",
       "      <td>0</td>\n",
       "      <td>0</td>\n",
       "      <td>0</td>\n",
       "      <td>0</td>\n",
       "      <td>1</td>\n",
       "      <td>0</td>\n",
       "      <td>1</td>\n",
       "      <td>0</td>\n",
       "    </tr>\n",
       "    <tr>\n",
       "      <th>8752</th>\n",
       "      <td>8752</td>\n",
       "      <td>LANDED HOUSING DEVELOPMENT</td>\n",
       "      <td>MACPHERSON ROAD</td>\n",
       "      <td>999</td>\n",
       "      <td>1.0</td>\n",
       "      <td>1650000.0</td>\n",
       "      <td>-</td>\n",
       "      <td>1352.0</td>\n",
       "      <td>Land</td>\n",
       "      <td>-</td>\n",
       "      <td>...</td>\n",
       "      <td>0</td>\n",
       "      <td>0</td>\n",
       "      <td>0</td>\n",
       "      <td>0</td>\n",
       "      <td>0</td>\n",
       "      <td>0</td>\n",
       "      <td>1</td>\n",
       "      <td>0</td>\n",
       "      <td>1</td>\n",
       "      <td>0</td>\n",
       "    </tr>\n",
       "  </tbody>\n",
       "</table>\n",
       "<p>5 rows × 45 columns</p>\n",
       "</div>"
      ],
      "text/plain": [
       "      index                project name       street name  tenure  \\\n",
       "8748   8748               VILLA BEGONIA      BEGONIA WALK      72   \n",
       "8749   8749                THE RIVERINA     RIVERINA WALK      74   \n",
       "8750   8750               FUYONG ESTATE         JALAN UJI      25   \n",
       "8751   8751              LAKESIDE GROVE  CORPORATION WALK      74   \n",
       "8752   8752  LANDED HOUSING DEVELOPMENT   MACPHERSON ROAD     999   \n",
       "\n",
       "      no. of units      price nett price  areasq type of area floor level  \\\n",
       "8748           1.0  1650000.0          -  1763.0         Land           -   \n",
       "8749           1.0  1650000.0          -  1619.0         Land           -   \n",
       "8750           1.0  1650000.0          -  5021.0         Land           -   \n",
       "8751           1.0  1650000.0          -  1659.0         Land           -   \n",
       "8752           1.0  1650000.0          -  1352.0         Land           -   \n",
       "\n",
       "      ...  postal district_25.0 postal district_26.0  postal district_27.0  \\\n",
       "8748  ...                     0                    0                     0   \n",
       "8749  ...                     0                    0                     0   \n",
       "8750  ...                     0                    0                     0   \n",
       "8751  ...                     0                    0                     0   \n",
       "8752  ...                     0                    0                     0   \n",
       "\n",
       "      postal district_28.0  type_Detached  type_Semi-detached  type_Terrace  \\\n",
       "8748                     1              0                   0             1   \n",
       "8749                     0              0                   0             1   \n",
       "8750                     0              1                   0             0   \n",
       "8751                     0              0                   0             1   \n",
       "8752                     0              0                   0             1   \n",
       "\n",
       "      type of sale_New Sale  type of sale_Resale  type of sale_Sub Sale  \n",
       "8748                      0                    1                      0  \n",
       "8749                      0                    1                      0  \n",
       "8750                      0                    1                      0  \n",
       "8751                      0                    1                      0  \n",
       "8752                      0                    1                      0  \n",
       "\n",
       "[5 rows x 45 columns]"
      ]
     },
     "execution_count": 113,
     "metadata": {},
     "output_type": "execute_result"
    }
   ],
   "source": [
    "merged_house_10.tail()"
   ]
  },
  {
   "cell_type": "code",
   "execution_count": 114,
   "id": "9d0df453",
   "metadata": {},
   "outputs": [],
   "source": [
    "merged_house_10.to_csv('./dataset_asof_051121/merged_house_10.csv', index=False)"
   ]
  }
 ],
 "metadata": {
  "kernelspec": {
   "display_name": "Python 3 (ipykernel)",
   "language": "python",
   "name": "python3"
  },
  "language_info": {
   "codemirror_mode": {
    "name": "ipython",
    "version": 3
   },
   "file_extension": ".py",
   "mimetype": "text/x-python",
   "name": "python",
   "nbconvert_exporter": "python",
   "pygments_lexer": "ipython3",
   "version": "3.8.11"
  }
 },
 "nbformat": 4,
 "nbformat_minor": 5
}
